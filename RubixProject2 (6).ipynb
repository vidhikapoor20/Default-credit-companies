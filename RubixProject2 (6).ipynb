{
 "cells": [
  {
   "cell_type": "markdown",
   "metadata": {},
   "source": [
    "## Importing the necessary libraries of python"
   ]
  },
  {
   "cell_type": "code",
   "execution_count": 1,
   "metadata": {},
   "outputs": [],
   "source": [
    "import numpy as np\n",
    "import pandas as pd\n",
    "import matplotlib.pyplot as plt\n",
    "import seaborn as sns "
   ]
  },
  {
   "cell_type": "markdown",
   "metadata": {},
   "source": [
    "## Importing dataset"
   ]
  },
  {
   "cell_type": "code",
   "execution_count": 2,
   "metadata": {},
   "outputs": [],
   "source": [
    "df = pd.read_csv(\"C:/Users/Dell laptop/Desktop/Rubix Project 2/Data Sheet for Probability for default Model.csv\",header=0)"
   ]
  },
  {
   "cell_type": "markdown",
   "metadata": {},
   "source": [
    "## Data Preprocessing "
   ]
  },
  {
   "cell_type": "code",
   "execution_count": 3,
   "metadata": {},
   "outputs": [
    {
     "data": {
      "text/html": [
       "<div>\n",
       "<style scoped>\n",
       "    .dataframe tbody tr th:only-of-type {\n",
       "        vertical-align: middle;\n",
       "    }\n",
       "\n",
       "    .dataframe tbody tr th {\n",
       "        vertical-align: top;\n",
       "    }\n",
       "\n",
       "    .dataframe thead th {\n",
       "        text-align: right;\n",
       "    }\n",
       "</style>\n",
       "<table border=\"1\" class=\"dataframe\">\n",
       "  <thead>\n",
       "    <tr style=\"text-align: right;\">\n",
       "      <th></th>\n",
       "      <th>Company Name</th>\n",
       "      <th>Year</th>\n",
       "      <th>Normalized Rating</th>\n",
       "      <th>Ratings</th>\n",
       "      <th>Sales</th>\n",
       "      <th>GP Margin %</th>\n",
       "      <th>PBDIT Margin %</th>\n",
       "      <th>PAT Margin %</th>\n",
       "      <th>PBT Percentage %</th>\n",
       "      <th>Quick ratio (times)</th>\n",
       "      <th>...</th>\n",
       "      <th>Creditor days (days)</th>\n",
       "      <th>Net working capital cycle (days)</th>\n",
       "      <th>Total Income/Total asset</th>\n",
       "      <th>Total Income/ Compansation to employees</th>\n",
       "      <th>Sales / GFA</th>\n",
       "      <th>Sales / net fixed Assets</th>\n",
       "      <th>Debt/EBIT</th>\n",
       "      <th>Total Outside liability/ Total Net Worth</th>\n",
       "      <th>Return on net worth</th>\n",
       "      <th>Return on total assets</th>\n",
       "    </tr>\n",
       "  </thead>\n",
       "  <tbody>\n",
       "    <tr>\n",
       "      <th>0</th>\n",
       "      <td>A B I-Showatech (India) Ltd.</td>\n",
       "      <td>2009</td>\n",
       "      <td>1</td>\n",
       "      <td>A1</td>\n",
       "      <td>1481.6</td>\n",
       "      <td>41.85</td>\n",
       "      <td>22.79</td>\n",
       "      <td>10.93</td>\n",
       "      <td>12.90</td>\n",
       "      <td>0.85</td>\n",
       "      <td>...</td>\n",
       "      <td>98.0</td>\n",
       "      <td>36.0</td>\n",
       "      <td>1.15</td>\n",
       "      <td>12.79</td>\n",
       "      <td>1.05</td>\n",
       "      <td>2.20</td>\n",
       "      <td>0.47</td>\n",
       "      <td>1.38</td>\n",
       "      <td>17.63</td>\n",
       "      <td>12.13</td>\n",
       "    </tr>\n",
       "    <tr>\n",
       "      <th>1</th>\n",
       "      <td>A B P Pvt. Ltd.</td>\n",
       "      <td>2009</td>\n",
       "      <td>1</td>\n",
       "      <td>A1</td>\n",
       "      <td>NaN</td>\n",
       "      <td>NaN</td>\n",
       "      <td>NaN</td>\n",
       "      <td>NaN</td>\n",
       "      <td>NaN</td>\n",
       "      <td>NaN</td>\n",
       "      <td>...</td>\n",
       "      <td>NaN</td>\n",
       "      <td>NaN</td>\n",
       "      <td>NaN</td>\n",
       "      <td>NaN</td>\n",
       "      <td>NaN</td>\n",
       "      <td>NaN</td>\n",
       "      <td>NaN</td>\n",
       "      <td>NaN</td>\n",
       "      <td>NaN</td>\n",
       "      <td>NaN</td>\n",
       "    </tr>\n",
       "    <tr>\n",
       "      <th>2</th>\n",
       "      <td>A L P Nishikawa Co. Pvt. Ltd.</td>\n",
       "      <td>2009</td>\n",
       "      <td>6</td>\n",
       "      <td>A4</td>\n",
       "      <td>914.1</td>\n",
       "      <td>32.43</td>\n",
       "      <td>9.15</td>\n",
       "      <td>1.60</td>\n",
       "      <td>4.99</td>\n",
       "      <td>0.44</td>\n",
       "      <td>...</td>\n",
       "      <td>NaN</td>\n",
       "      <td>NaN</td>\n",
       "      <td>1.13</td>\n",
       "      <td>13.28</td>\n",
       "      <td>1.34</td>\n",
       "      <td>2.70</td>\n",
       "      <td>3.22</td>\n",
       "      <td>3.15</td>\n",
       "      <td>NaN</td>\n",
       "      <td>NaN</td>\n",
       "    </tr>\n",
       "    <tr>\n",
       "      <th>3</th>\n",
       "      <td>A M C L Machinery Ltd.</td>\n",
       "      <td>2009</td>\n",
       "      <td>1</td>\n",
       "      <td>A1</td>\n",
       "      <td>710.8</td>\n",
       "      <td>40.18</td>\n",
       "      <td>23.45</td>\n",
       "      <td>20.33</td>\n",
       "      <td>20.85</td>\n",
       "      <td>0.90</td>\n",
       "      <td>...</td>\n",
       "      <td>36.0</td>\n",
       "      <td>149.0</td>\n",
       "      <td>1.09</td>\n",
       "      <td>24.60</td>\n",
       "      <td>2.99</td>\n",
       "      <td>17.64</td>\n",
       "      <td>0.47</td>\n",
       "      <td>4.48</td>\n",
       "      <td>78.35</td>\n",
       "      <td>14.02</td>\n",
       "    </tr>\n",
       "    <tr>\n",
       "      <th>4</th>\n",
       "      <td>A T C Telecom Infrastructure Pvt. Ltd.</td>\n",
       "      <td>2009</td>\n",
       "      <td>1</td>\n",
       "      <td>A1</td>\n",
       "      <td>8195.2</td>\n",
       "      <td>58.66</td>\n",
       "      <td>24.18</td>\n",
       "      <td>-27.62</td>\n",
       "      <td>-7.02</td>\n",
       "      <td>0.40</td>\n",
       "      <td>...</td>\n",
       "      <td>292.0</td>\n",
       "      <td>-199.0</td>\n",
       "      <td>0.24</td>\n",
       "      <td>33.10</td>\n",
       "      <td>0.31</td>\n",
       "      <td>0.35</td>\n",
       "      <td>10.73</td>\n",
       "      <td>9.03</td>\n",
       "      <td>-128.95</td>\n",
       "      <td>-9.40</td>\n",
       "    </tr>\n",
       "  </tbody>\n",
       "</table>\n",
       "<p>5 rows × 29 columns</p>\n",
       "</div>"
      ],
      "text/plain": [
       "                             Company Name  Year  Normalized Rating Ratings  \\\n",
       "0            A B I-Showatech (India) Ltd.  2009                  1      A1   \n",
       "1                         A B P Pvt. Ltd.  2009                  1      A1   \n",
       "2           A L P Nishikawa Co. Pvt. Ltd.  2009                  6      A4   \n",
       "3                  A M C L Machinery Ltd.  2009                  1      A1   \n",
       "4  A T C Telecom Infrastructure Pvt. Ltd.  2009                  1      A1   \n",
       "\n",
       "    Sales  GP Margin %  PBDIT Margin %  PAT Margin %  PBT Percentage %  \\\n",
       "0  1481.6        41.85           22.79         10.93             12.90   \n",
       "1     NaN          NaN             NaN           NaN               NaN   \n",
       "2   914.1        32.43            9.15          1.60              4.99   \n",
       "3   710.8        40.18           23.45         20.33             20.85   \n",
       "4  8195.2        58.66           24.18        -27.62             -7.02   \n",
       "\n",
       "   Quick ratio (times)  ...  Creditor days (days)  \\\n",
       "0                 0.85  ...                  98.0   \n",
       "1                  NaN  ...                   NaN   \n",
       "2                 0.44  ...                   NaN   \n",
       "3                 0.90  ...                  36.0   \n",
       "4                 0.40  ...                 292.0   \n",
       "\n",
       "   Net working capital cycle (days)  Total Income/Total asset  \\\n",
       "0                              36.0                      1.15   \n",
       "1                               NaN                       NaN   \n",
       "2                               NaN                      1.13   \n",
       "3                             149.0                      1.09   \n",
       "4                            -199.0                      0.24   \n",
       "\n",
       "   Total Income/ Compansation to employees  Sales / GFA  \\\n",
       "0                                    12.79         1.05   \n",
       "1                                      NaN          NaN   \n",
       "2                                    13.28         1.34   \n",
       "3                                    24.60         2.99   \n",
       "4                                    33.10         0.31   \n",
       "\n",
       "   Sales / net fixed Assets  Debt/EBIT  \\\n",
       "0                      2.20       0.47   \n",
       "1                       NaN        NaN   \n",
       "2                      2.70       3.22   \n",
       "3                     17.64       0.47   \n",
       "4                      0.35      10.73   \n",
       "\n",
       "   Total Outside liability/ Total Net Worth  Return on net worth  \\\n",
       "0                                      1.38                17.63   \n",
       "1                                       NaN                  NaN   \n",
       "2                                      3.15                  NaN   \n",
       "3                                      4.48                78.35   \n",
       "4                                      9.03              -128.95   \n",
       "\n",
       "   Return on total assets  \n",
       "0                   12.13  \n",
       "1                     NaN  \n",
       "2                     NaN  \n",
       "3                   14.02  \n",
       "4                   -9.40  \n",
       "\n",
       "[5 rows x 29 columns]"
      ]
     },
     "execution_count": 3,
     "metadata": {},
     "output_type": "execute_result"
    }
   ],
   "source": [
    "## Seeing the first 5 rows of the dataset to see the number of columns and other information\n",
    "df.head()"
   ]
  },
  {
   "cell_type": "code",
   "execution_count": 4,
   "metadata": {},
   "outputs": [
    {
     "name": "stdout",
     "output_type": "stream",
     "text": [
      "<class 'pandas.core.frame.DataFrame'>\n",
      "RangeIndex: 11612 entries, 0 to 11611\n",
      "Data columns (total 29 columns):\n",
      " #   Column                                    Non-Null Count  Dtype  \n",
      "---  ------                                    --------------  -----  \n",
      " 0   Company Name                              11612 non-null  object \n",
      " 1   Year                                      11612 non-null  int64  \n",
      " 2   Normalized Rating                         11612 non-null  int64  \n",
      " 3   Ratings                                   11612 non-null  object \n",
      " 4   Sales                                     8713 non-null   float64\n",
      " 5   GP Margin %                               8713 non-null   float64\n",
      " 6   PBDIT Margin %                            8713 non-null   float64\n",
      " 7   PAT Margin %                              8713 non-null   float64\n",
      " 8   PBT Percentage %                          8713 non-null   float64\n",
      " 9   Quick ratio (times)                       9237 non-null   float64\n",
      " 10  Current ratio (times)                     9237 non-null   float64\n",
      " 11  Debt to equity ratio (times)              8883 non-null   float64\n",
      " 12  Interest cover (times)                    7939 non-null   float64\n",
      " 13  Raw material cycle (days)                 6493 non-null   float64\n",
      " 14  WIP cycle (days)                          5318 non-null   float64\n",
      " 15  Finished goods cycle (days)               6591 non-null   float64\n",
      " 16  Inventory Days                            7633 non-null   float64\n",
      " 17  Debtor days (days)                        8484 non-null   float64\n",
      " 18  Gross working capital cycle (days)        8514 non-null   float64\n",
      " 19  Creditor days (days)                      8371 non-null   float64\n",
      " 20  Net working capital cycle (days)          8649 non-null   float64\n",
      " 21  Total Income/Total asset                  9253 non-null   float64\n",
      " 22  Total Income/ Compansation to employees   8843 non-null   float64\n",
      " 23  Sales / GFA                               9198 non-null   float64\n",
      " 24  Sales / net fixed Assets                  9203 non-null   float64\n",
      " 25  Debt/EBIT                                 9206 non-null   float64\n",
      " 26  Total Outside liability/ Total Net Worth  9252 non-null   float64\n",
      " 27  Return on net worth                       8485 non-null   float64\n",
      " 28  Return on total assets                    8797 non-null   float64\n",
      "dtypes: float64(25), int64(2), object(2)\n",
      "memory usage: 2.6+ MB\n"
     ]
    }
   ],
   "source": [
    "## To see the datatype of each feature \n",
    "df.info()"
   ]
  },
  {
   "cell_type": "code",
   "execution_count": 5,
   "metadata": {},
   "outputs": [
    {
     "data": {
      "text/html": [
       "<div>\n",
       "<style scoped>\n",
       "    .dataframe tbody tr th:only-of-type {\n",
       "        vertical-align: middle;\n",
       "    }\n",
       "\n",
       "    .dataframe tbody tr th {\n",
       "        vertical-align: top;\n",
       "    }\n",
       "\n",
       "    .dataframe thead th {\n",
       "        text-align: right;\n",
       "    }\n",
       "</style>\n",
       "<table border=\"1\" class=\"dataframe\">\n",
       "  <thead>\n",
       "    <tr style=\"text-align: right;\">\n",
       "      <th></th>\n",
       "      <th>Year</th>\n",
       "      <th>Normalized Rating</th>\n",
       "      <th>Sales</th>\n",
       "      <th>GP Margin %</th>\n",
       "      <th>PBDIT Margin %</th>\n",
       "      <th>PAT Margin %</th>\n",
       "      <th>PBT Percentage %</th>\n",
       "      <th>Quick ratio (times)</th>\n",
       "      <th>Current ratio (times)</th>\n",
       "      <th>Debt to equity ratio (times)</th>\n",
       "      <th>...</th>\n",
       "      <th>Creditor days (days)</th>\n",
       "      <th>Net working capital cycle (days)</th>\n",
       "      <th>Total Income/Total asset</th>\n",
       "      <th>Total Income/ Compansation to employees</th>\n",
       "      <th>Sales / GFA</th>\n",
       "      <th>Sales / net fixed Assets</th>\n",
       "      <th>Debt/EBIT</th>\n",
       "      <th>Total Outside liability/ Total Net Worth</th>\n",
       "      <th>Return on net worth</th>\n",
       "      <th>Return on total assets</th>\n",
       "    </tr>\n",
       "  </thead>\n",
       "  <tbody>\n",
       "    <tr>\n",
       "      <th>count</th>\n",
       "      <td>11612.000000</td>\n",
       "      <td>11612.000000</td>\n",
       "      <td>8.713000e+03</td>\n",
       "      <td>8713.000000</td>\n",
       "      <td>8713.000000</td>\n",
       "      <td>8713.000000</td>\n",
       "      <td>8713.000000</td>\n",
       "      <td>9237.00000</td>\n",
       "      <td>9237.000000</td>\n",
       "      <td>8883.000000</td>\n",
       "      <td>...</td>\n",
       "      <td>8.371000e+03</td>\n",
       "      <td>8.649000e+03</td>\n",
       "      <td>9253.000000</td>\n",
       "      <td>8843.000000</td>\n",
       "      <td>9198.000000</td>\n",
       "      <td>9203.000000</td>\n",
       "      <td>9206.000000</td>\n",
       "      <td>9252.000000</td>\n",
       "      <td>8485.000000</td>\n",
       "      <td>8797.000000</td>\n",
       "    </tr>\n",
       "    <tr>\n",
       "      <th>mean</th>\n",
       "      <td>2014.562522</td>\n",
       "      <td>4.307182</td>\n",
       "      <td>2.363198e+04</td>\n",
       "      <td>-100.884967</td>\n",
       "      <td>653.421078</td>\n",
       "      <td>165.793729</td>\n",
       "      <td>593.301312</td>\n",
       "      <td>1.00832</td>\n",
       "      <td>1.572333</td>\n",
       "      <td>4.520306</td>\n",
       "      <td>...</td>\n",
       "      <td>2.434186e+03</td>\n",
       "      <td>2.302926e+02</td>\n",
       "      <td>1.228838</td>\n",
       "      <td>79.394416</td>\n",
       "      <td>35.921548</td>\n",
       "      <td>114.588971</td>\n",
       "      <td>-64.436475</td>\n",
       "      <td>5.491961</td>\n",
       "      <td>-1.456745</td>\n",
       "      <td>2.515880</td>\n",
       "    </tr>\n",
       "    <tr>\n",
       "      <th>std</th>\n",
       "      <td>2.914325</td>\n",
       "      <td>1.782055</td>\n",
       "      <td>1.829561e+05</td>\n",
       "      <td>3966.602145</td>\n",
       "      <td>13843.765228</td>\n",
       "      <td>5641.562841</td>\n",
       "      <td>13030.411846</td>\n",
       "      <td>6.01170</td>\n",
       "      <td>6.393121</td>\n",
       "      <td>164.312255</td>\n",
       "      <td>...</td>\n",
       "      <td>6.835346e+04</td>\n",
       "      <td>9.223254e+04</td>\n",
       "      <td>1.342559</td>\n",
       "      <td>587.705421</td>\n",
       "      <td>627.537585</td>\n",
       "      <td>6387.751668</td>\n",
       "      <td>8758.276116</td>\n",
       "      <td>179.160825</td>\n",
       "      <td>318.883837</td>\n",
       "      <td>9.759627</td>\n",
       "    </tr>\n",
       "    <tr>\n",
       "      <th>min</th>\n",
       "      <td>2009.000000</td>\n",
       "      <td>1.000000</td>\n",
       "      <td>1.000000e-01</td>\n",
       "      <td>-266100.000000</td>\n",
       "      <td>-16133.330000</td>\n",
       "      <td>-102433.330000</td>\n",
       "      <td>-58666.670000</td>\n",
       "      <td>-0.35000</td>\n",
       "      <td>-0.350000</td>\n",
       "      <td>0.000000</td>\n",
       "      <td>...</td>\n",
       "      <td>0.000000e+00</td>\n",
       "      <td>-5.214258e+06</td>\n",
       "      <td>0.000000</td>\n",
       "      <td>0.000000</td>\n",
       "      <td>0.000000</td>\n",
       "      <td>0.000000</td>\n",
       "      <td>-777306.750000</td>\n",
       "      <td>-2784.260000</td>\n",
       "      <td>-24510.000000</td>\n",
       "      <td>-350.000000</td>\n",
       "    </tr>\n",
       "    <tr>\n",
       "      <th>25%</th>\n",
       "      <td>2012.000000</td>\n",
       "      <td>3.000000</td>\n",
       "      <td>1.009100e+03</td>\n",
       "      <td>21.080000</td>\n",
       "      <td>5.640000</td>\n",
       "      <td>0.610000</td>\n",
       "      <td>3.660000</td>\n",
       "      <td>0.38000</td>\n",
       "      <td>0.890000</td>\n",
       "      <td>0.420000</td>\n",
       "      <td>...</td>\n",
       "      <td>3.500000e+01</td>\n",
       "      <td>2.600000e+01</td>\n",
       "      <td>0.500000</td>\n",
       "      <td>8.830000</td>\n",
       "      <td>1.040000</td>\n",
       "      <td>1.610000</td>\n",
       "      <td>0.990000</td>\n",
       "      <td>1.960000</td>\n",
       "      <td>1.720000</td>\n",
       "      <td>0.320000</td>\n",
       "    </tr>\n",
       "    <tr>\n",
       "      <th>50%</th>\n",
       "      <td>2015.000000</td>\n",
       "      <td>4.000000</td>\n",
       "      <td>2.709000e+03</td>\n",
       "      <td>34.860000</td>\n",
       "      <td>10.590000</td>\n",
       "      <td>3.140000</td>\n",
       "      <td>7.380000</td>\n",
       "      <td>0.63000</td>\n",
       "      <td>1.160000</td>\n",
       "      <td>1.040000</td>\n",
       "      <td>...</td>\n",
       "      <td>6.800000e+01</td>\n",
       "      <td>7.700000e+01</td>\n",
       "      <td>1.000000</td>\n",
       "      <td>16.990000</td>\n",
       "      <td>2.280000</td>\n",
       "      <td>3.780000</td>\n",
       "      <td>2.820000</td>\n",
       "      <td>2.940000</td>\n",
       "      <td>8.690000</td>\n",
       "      <td>2.530000</td>\n",
       "    </tr>\n",
       "    <tr>\n",
       "      <th>75%</th>\n",
       "      <td>2017.000000</td>\n",
       "      <td>5.000000</td>\n",
       "      <td>8.102600e+03</td>\n",
       "      <td>66.610000</td>\n",
       "      <td>18.350000</td>\n",
       "      <td>8.310000</td>\n",
       "      <td>13.370000</td>\n",
       "      <td>0.97000</td>\n",
       "      <td>1.470000</td>\n",
       "      <td>2.040000</td>\n",
       "      <td>...</td>\n",
       "      <td>1.180000e+02</td>\n",
       "      <td>1.480000e+02</td>\n",
       "      <td>1.570000</td>\n",
       "      <td>38.855000</td>\n",
       "      <td>5.650000</td>\n",
       "      <td>9.620000</td>\n",
       "      <td>4.937500</td>\n",
       "      <td>4.380000</td>\n",
       "      <td>17.350000</td>\n",
       "      <td>5.940000</td>\n",
       "    </tr>\n",
       "    <tr>\n",
       "      <th>max</th>\n",
       "      <td>2019.000000</td>\n",
       "      <td>8.000000</td>\n",
       "      <td>6.036239e+06</td>\n",
       "      <td>128.470000</td>\n",
       "      <td>632100.000000</td>\n",
       "      <td>419200.000000</td>\n",
       "      <td>624800.000000</td>\n",
       "      <td>481.70000</td>\n",
       "      <td>481.700000</td>\n",
       "      <td>15377.130000</td>\n",
       "      <td>...</td>\n",
       "      <td>5.214294e+06</td>\n",
       "      <td>3.279674e+06</td>\n",
       "      <td>61.710000</td>\n",
       "      <td>31465.920000</td>\n",
       "      <td>35845.180000</td>\n",
       "      <td>609368.000000</td>\n",
       "      <td>302843.150000</td>\n",
       "      <td>16427.000000</td>\n",
       "      <td>7018.180000</td>\n",
       "      <td>115.830000</td>\n",
       "    </tr>\n",
       "  </tbody>\n",
       "</table>\n",
       "<p>8 rows × 27 columns</p>\n",
       "</div>"
      ],
      "text/plain": [
       "               Year  Normalized Rating         Sales    GP Margin %  \\\n",
       "count  11612.000000       11612.000000  8.713000e+03    8713.000000   \n",
       "mean    2014.562522           4.307182  2.363198e+04    -100.884967   \n",
       "std        2.914325           1.782055  1.829561e+05    3966.602145   \n",
       "min     2009.000000           1.000000  1.000000e-01 -266100.000000   \n",
       "25%     2012.000000           3.000000  1.009100e+03      21.080000   \n",
       "50%     2015.000000           4.000000  2.709000e+03      34.860000   \n",
       "75%     2017.000000           5.000000  8.102600e+03      66.610000   \n",
       "max     2019.000000           8.000000  6.036239e+06     128.470000   \n",
       "\n",
       "       PBDIT Margin %   PAT Margin %  PBT Percentage %  Quick ratio (times)  \\\n",
       "count     8713.000000    8713.000000       8713.000000           9237.00000   \n",
       "mean       653.421078     165.793729        593.301312              1.00832   \n",
       "std      13843.765228    5641.562841      13030.411846              6.01170   \n",
       "min     -16133.330000 -102433.330000     -58666.670000             -0.35000   \n",
       "25%          5.640000       0.610000          3.660000              0.38000   \n",
       "50%         10.590000       3.140000          7.380000              0.63000   \n",
       "75%         18.350000       8.310000         13.370000              0.97000   \n",
       "max     632100.000000  419200.000000     624800.000000            481.70000   \n",
       "\n",
       "       Current ratio (times)  Debt to equity ratio (times)  ...  \\\n",
       "count            9237.000000                   8883.000000  ...   \n",
       "mean                1.572333                      4.520306  ...   \n",
       "std                 6.393121                    164.312255  ...   \n",
       "min                -0.350000                      0.000000  ...   \n",
       "25%                 0.890000                      0.420000  ...   \n",
       "50%                 1.160000                      1.040000  ...   \n",
       "75%                 1.470000                      2.040000  ...   \n",
       "max               481.700000                  15377.130000  ...   \n",
       "\n",
       "       Creditor days (days)  Net working capital cycle (days)  \\\n",
       "count          8.371000e+03                      8.649000e+03   \n",
       "mean           2.434186e+03                      2.302926e+02   \n",
       "std            6.835346e+04                      9.223254e+04   \n",
       "min            0.000000e+00                     -5.214258e+06   \n",
       "25%            3.500000e+01                      2.600000e+01   \n",
       "50%            6.800000e+01                      7.700000e+01   \n",
       "75%            1.180000e+02                      1.480000e+02   \n",
       "max            5.214294e+06                      3.279674e+06   \n",
       "\n",
       "       Total Income/Total asset  Total Income/ Compansation to employees  \\\n",
       "count               9253.000000                              8843.000000   \n",
       "mean                   1.228838                                79.394416   \n",
       "std                    1.342559                               587.705421   \n",
       "min                    0.000000                                 0.000000   \n",
       "25%                    0.500000                                 8.830000   \n",
       "50%                    1.000000                                16.990000   \n",
       "75%                    1.570000                                38.855000   \n",
       "max                   61.710000                             31465.920000   \n",
       "\n",
       "        Sales / GFA  Sales / net fixed Assets      Debt/EBIT  \\\n",
       "count   9198.000000               9203.000000    9206.000000   \n",
       "mean      35.921548                114.588971     -64.436475   \n",
       "std      627.537585               6387.751668    8758.276116   \n",
       "min        0.000000                  0.000000 -777306.750000   \n",
       "25%        1.040000                  1.610000       0.990000   \n",
       "50%        2.280000                  3.780000       2.820000   \n",
       "75%        5.650000                  9.620000       4.937500   \n",
       "max    35845.180000             609368.000000  302843.150000   \n",
       "\n",
       "       Total Outside liability/ Total Net Worth  Return on net worth  \\\n",
       "count                               9252.000000          8485.000000   \n",
       "mean                                   5.491961            -1.456745   \n",
       "std                                  179.160825           318.883837   \n",
       "min                                -2784.260000        -24510.000000   \n",
       "25%                                    1.960000             1.720000   \n",
       "50%                                    2.940000             8.690000   \n",
       "75%                                    4.380000            17.350000   \n",
       "max                                16427.000000          7018.180000   \n",
       "\n",
       "       Return on total assets  \n",
       "count             8797.000000  \n",
       "mean                 2.515880  \n",
       "std                  9.759627  \n",
       "min               -350.000000  \n",
       "25%                  0.320000  \n",
       "50%                  2.530000  \n",
       "75%                  5.940000  \n",
       "max                115.830000  \n",
       "\n",
       "[8 rows x 27 columns]"
      ]
     },
     "execution_count": 5,
     "metadata": {},
     "output_type": "execute_result"
    }
   ],
   "source": [
    "## To see the additional features of the dataset and detect possible columns that have outliers\n",
    "df.describe()"
   ]
  },
  {
   "cell_type": "code",
   "execution_count": 6,
   "metadata": {},
   "outputs": [],
   "source": [
    "## Inserting the default column with all zeros first\n",
    "df.insert(29,'Default',0)"
   ]
  },
  {
   "cell_type": "code",
   "execution_count": 7,
   "metadata": {},
   "outputs": [
    {
     "data": {
      "text/html": [
       "<div>\n",
       "<style scoped>\n",
       "    .dataframe tbody tr th:only-of-type {\n",
       "        vertical-align: middle;\n",
       "    }\n",
       "\n",
       "    .dataframe tbody tr th {\n",
       "        vertical-align: top;\n",
       "    }\n",
       "\n",
       "    .dataframe thead th {\n",
       "        text-align: right;\n",
       "    }\n",
       "</style>\n",
       "<table border=\"1\" class=\"dataframe\">\n",
       "  <thead>\n",
       "    <tr style=\"text-align: right;\">\n",
       "      <th></th>\n",
       "      <th>Company Name</th>\n",
       "      <th>Year</th>\n",
       "      <th>Normalized Rating</th>\n",
       "      <th>Ratings</th>\n",
       "      <th>Sales</th>\n",
       "      <th>GP Margin %</th>\n",
       "      <th>PBDIT Margin %</th>\n",
       "      <th>PAT Margin %</th>\n",
       "      <th>PBT Percentage %</th>\n",
       "      <th>Quick ratio (times)</th>\n",
       "      <th>...</th>\n",
       "      <th>Net working capital cycle (days)</th>\n",
       "      <th>Total Income/Total asset</th>\n",
       "      <th>Total Income/ Compansation to employees</th>\n",
       "      <th>Sales / GFA</th>\n",
       "      <th>Sales / net fixed Assets</th>\n",
       "      <th>Debt/EBIT</th>\n",
       "      <th>Total Outside liability/ Total Net Worth</th>\n",
       "      <th>Return on net worth</th>\n",
       "      <th>Return on total assets</th>\n",
       "      <th>Default</th>\n",
       "    </tr>\n",
       "  </thead>\n",
       "  <tbody>\n",
       "    <tr>\n",
       "      <th>0</th>\n",
       "      <td>A B I-Showatech (India) Ltd.</td>\n",
       "      <td>2009</td>\n",
       "      <td>1</td>\n",
       "      <td>A1</td>\n",
       "      <td>1481.6</td>\n",
       "      <td>41.85</td>\n",
       "      <td>22.79</td>\n",
       "      <td>10.93</td>\n",
       "      <td>12.90</td>\n",
       "      <td>0.85</td>\n",
       "      <td>...</td>\n",
       "      <td>36.0</td>\n",
       "      <td>1.15</td>\n",
       "      <td>12.79</td>\n",
       "      <td>1.05</td>\n",
       "      <td>2.20</td>\n",
       "      <td>0.47</td>\n",
       "      <td>1.38</td>\n",
       "      <td>17.63</td>\n",
       "      <td>12.13</td>\n",
       "      <td>0</td>\n",
       "    </tr>\n",
       "    <tr>\n",
       "      <th>1</th>\n",
       "      <td>A B P Pvt. Ltd.</td>\n",
       "      <td>2009</td>\n",
       "      <td>1</td>\n",
       "      <td>A1</td>\n",
       "      <td>NaN</td>\n",
       "      <td>NaN</td>\n",
       "      <td>NaN</td>\n",
       "      <td>NaN</td>\n",
       "      <td>NaN</td>\n",
       "      <td>NaN</td>\n",
       "      <td>...</td>\n",
       "      <td>NaN</td>\n",
       "      <td>NaN</td>\n",
       "      <td>NaN</td>\n",
       "      <td>NaN</td>\n",
       "      <td>NaN</td>\n",
       "      <td>NaN</td>\n",
       "      <td>NaN</td>\n",
       "      <td>NaN</td>\n",
       "      <td>NaN</td>\n",
       "      <td>0</td>\n",
       "    </tr>\n",
       "    <tr>\n",
       "      <th>2</th>\n",
       "      <td>A L P Nishikawa Co. Pvt. Ltd.</td>\n",
       "      <td>2009</td>\n",
       "      <td>6</td>\n",
       "      <td>A4</td>\n",
       "      <td>914.1</td>\n",
       "      <td>32.43</td>\n",
       "      <td>9.15</td>\n",
       "      <td>1.60</td>\n",
       "      <td>4.99</td>\n",
       "      <td>0.44</td>\n",
       "      <td>...</td>\n",
       "      <td>NaN</td>\n",
       "      <td>1.13</td>\n",
       "      <td>13.28</td>\n",
       "      <td>1.34</td>\n",
       "      <td>2.70</td>\n",
       "      <td>3.22</td>\n",
       "      <td>3.15</td>\n",
       "      <td>NaN</td>\n",
       "      <td>NaN</td>\n",
       "      <td>0</td>\n",
       "    </tr>\n",
       "    <tr>\n",
       "      <th>3</th>\n",
       "      <td>A M C L Machinery Ltd.</td>\n",
       "      <td>2009</td>\n",
       "      <td>1</td>\n",
       "      <td>A1</td>\n",
       "      <td>710.8</td>\n",
       "      <td>40.18</td>\n",
       "      <td>23.45</td>\n",
       "      <td>20.33</td>\n",
       "      <td>20.85</td>\n",
       "      <td>0.90</td>\n",
       "      <td>...</td>\n",
       "      <td>149.0</td>\n",
       "      <td>1.09</td>\n",
       "      <td>24.60</td>\n",
       "      <td>2.99</td>\n",
       "      <td>17.64</td>\n",
       "      <td>0.47</td>\n",
       "      <td>4.48</td>\n",
       "      <td>78.35</td>\n",
       "      <td>14.02</td>\n",
       "      <td>0</td>\n",
       "    </tr>\n",
       "    <tr>\n",
       "      <th>4</th>\n",
       "      <td>A T C Telecom Infrastructure Pvt. Ltd.</td>\n",
       "      <td>2009</td>\n",
       "      <td>1</td>\n",
       "      <td>A1</td>\n",
       "      <td>8195.2</td>\n",
       "      <td>58.66</td>\n",
       "      <td>24.18</td>\n",
       "      <td>-27.62</td>\n",
       "      <td>-7.02</td>\n",
       "      <td>0.40</td>\n",
       "      <td>...</td>\n",
       "      <td>-199.0</td>\n",
       "      <td>0.24</td>\n",
       "      <td>33.10</td>\n",
       "      <td>0.31</td>\n",
       "      <td>0.35</td>\n",
       "      <td>10.73</td>\n",
       "      <td>9.03</td>\n",
       "      <td>-128.95</td>\n",
       "      <td>-9.40</td>\n",
       "      <td>0</td>\n",
       "    </tr>\n",
       "  </tbody>\n",
       "</table>\n",
       "<p>5 rows × 30 columns</p>\n",
       "</div>"
      ],
      "text/plain": [
       "                             Company Name  Year  Normalized Rating Ratings  \\\n",
       "0            A B I-Showatech (India) Ltd.  2009                  1      A1   \n",
       "1                         A B P Pvt. Ltd.  2009                  1      A1   \n",
       "2           A L P Nishikawa Co. Pvt. Ltd.  2009                  6      A4   \n",
       "3                  A M C L Machinery Ltd.  2009                  1      A1   \n",
       "4  A T C Telecom Infrastructure Pvt. Ltd.  2009                  1      A1   \n",
       "\n",
       "    Sales  GP Margin %  PBDIT Margin %  PAT Margin %  PBT Percentage %  \\\n",
       "0  1481.6        41.85           22.79         10.93             12.90   \n",
       "1     NaN          NaN             NaN           NaN               NaN   \n",
       "2   914.1        32.43            9.15          1.60              4.99   \n",
       "3   710.8        40.18           23.45         20.33             20.85   \n",
       "4  8195.2        58.66           24.18        -27.62             -7.02   \n",
       "\n",
       "   Quick ratio (times)  ...  Net working capital cycle (days)  \\\n",
       "0                 0.85  ...                              36.0   \n",
       "1                  NaN  ...                               NaN   \n",
       "2                 0.44  ...                               NaN   \n",
       "3                 0.90  ...                             149.0   \n",
       "4                 0.40  ...                            -199.0   \n",
       "\n",
       "   Total Income/Total asset  Total Income/ Compansation to employees  \\\n",
       "0                      1.15                                    12.79   \n",
       "1                       NaN                                      NaN   \n",
       "2                      1.13                                    13.28   \n",
       "3                      1.09                                    24.60   \n",
       "4                      0.24                                    33.10   \n",
       "\n",
       "   Sales / GFA  Sales / net fixed Assets  Debt/EBIT  \\\n",
       "0         1.05                      2.20       0.47   \n",
       "1          NaN                       NaN        NaN   \n",
       "2         1.34                      2.70       3.22   \n",
       "3         2.99                     17.64       0.47   \n",
       "4         0.31                      0.35      10.73   \n",
       "\n",
       "   Total Outside liability/ Total Net Worth  Return on net worth  \\\n",
       "0                                      1.38                17.63   \n",
       "1                                       NaN                  NaN   \n",
       "2                                      3.15                  NaN   \n",
       "3                                      4.48                78.35   \n",
       "4                                      9.03              -128.95   \n",
       "\n",
       "   Return on total assets  Default  \n",
       "0                   12.13        0  \n",
       "1                     NaN        0  \n",
       "2                     NaN        0  \n",
       "3                   14.02        0  \n",
       "4                   -9.40        0  \n",
       "\n",
       "[5 rows x 30 columns]"
      ]
     },
     "execution_count": 7,
     "metadata": {},
     "output_type": "execute_result"
    }
   ],
   "source": [
    "## Seeing all the columns including the new Default column that has been added \n",
    "df.head()"
   ]
  },
  {
   "cell_type": "code",
   "execution_count": 8,
   "metadata": {},
   "outputs": [],
   "source": [
    "## Considering the normalised rating column, if the ratings are more than 6 then putting the default value of 1.\n",
    "## 1 - Company has defaulted, 0 - company has not defaulted\n",
    "for x in df.iloc[:,2] :\n",
    "      if x > 6:\n",
    "        y = df.set_index(df.iloc[:,2]).index.get_loc(x)\n",
    "        df.iloc[y,29] = 1    "
   ]
  },
  {
   "cell_type": "code",
   "execution_count": 9,
   "metadata": {},
   "outputs": [
    {
     "data": {
      "text/html": [
       "<div>\n",
       "<style scoped>\n",
       "    .dataframe tbody tr th:only-of-type {\n",
       "        vertical-align: middle;\n",
       "    }\n",
       "\n",
       "    .dataframe tbody tr th {\n",
       "        vertical-align: top;\n",
       "    }\n",
       "\n",
       "    .dataframe thead th {\n",
       "        text-align: right;\n",
       "    }\n",
       "</style>\n",
       "<table border=\"1\" class=\"dataframe\">\n",
       "  <thead>\n",
       "    <tr style=\"text-align: right;\">\n",
       "      <th></th>\n",
       "      <th>Company Name</th>\n",
       "      <th>Year</th>\n",
       "      <th>Normalized Rating</th>\n",
       "      <th>Ratings</th>\n",
       "      <th>Sales</th>\n",
       "      <th>GP Margin %</th>\n",
       "      <th>PBDIT Margin %</th>\n",
       "      <th>PAT Margin %</th>\n",
       "      <th>PBT Percentage %</th>\n",
       "      <th>Quick ratio (times)</th>\n",
       "      <th>...</th>\n",
       "      <th>Net working capital cycle (days)</th>\n",
       "      <th>Total Income/Total asset</th>\n",
       "      <th>Total Income/ Compansation to employees</th>\n",
       "      <th>Sales / GFA</th>\n",
       "      <th>Sales / net fixed Assets</th>\n",
       "      <th>Debt/EBIT</th>\n",
       "      <th>Total Outside liability/ Total Net Worth</th>\n",
       "      <th>Return on net worth</th>\n",
       "      <th>Return on total assets</th>\n",
       "      <th>Default</th>\n",
       "    </tr>\n",
       "  </thead>\n",
       "  <tbody>\n",
       "    <tr>\n",
       "      <th>0</th>\n",
       "      <td>A B I-Showatech (India) Ltd.</td>\n",
       "      <td>2009</td>\n",
       "      <td>1</td>\n",
       "      <td>A1</td>\n",
       "      <td>1481.6</td>\n",
       "      <td>41.85</td>\n",
       "      <td>22.79</td>\n",
       "      <td>10.93</td>\n",
       "      <td>12.90</td>\n",
       "      <td>0.85</td>\n",
       "      <td>...</td>\n",
       "      <td>36.0</td>\n",
       "      <td>1.15</td>\n",
       "      <td>12.79</td>\n",
       "      <td>1.05</td>\n",
       "      <td>2.20</td>\n",
       "      <td>0.47</td>\n",
       "      <td>1.38</td>\n",
       "      <td>17.63</td>\n",
       "      <td>12.13</td>\n",
       "      <td>0</td>\n",
       "    </tr>\n",
       "    <tr>\n",
       "      <th>1</th>\n",
       "      <td>A B P Pvt. Ltd.</td>\n",
       "      <td>2009</td>\n",
       "      <td>1</td>\n",
       "      <td>A1</td>\n",
       "      <td>NaN</td>\n",
       "      <td>NaN</td>\n",
       "      <td>NaN</td>\n",
       "      <td>NaN</td>\n",
       "      <td>NaN</td>\n",
       "      <td>NaN</td>\n",
       "      <td>...</td>\n",
       "      <td>NaN</td>\n",
       "      <td>NaN</td>\n",
       "      <td>NaN</td>\n",
       "      <td>NaN</td>\n",
       "      <td>NaN</td>\n",
       "      <td>NaN</td>\n",
       "      <td>NaN</td>\n",
       "      <td>NaN</td>\n",
       "      <td>NaN</td>\n",
       "      <td>0</td>\n",
       "    </tr>\n",
       "    <tr>\n",
       "      <th>2</th>\n",
       "      <td>A L P Nishikawa Co. Pvt. Ltd.</td>\n",
       "      <td>2009</td>\n",
       "      <td>6</td>\n",
       "      <td>A4</td>\n",
       "      <td>914.1</td>\n",
       "      <td>32.43</td>\n",
       "      <td>9.15</td>\n",
       "      <td>1.60</td>\n",
       "      <td>4.99</td>\n",
       "      <td>0.44</td>\n",
       "      <td>...</td>\n",
       "      <td>NaN</td>\n",
       "      <td>1.13</td>\n",
       "      <td>13.28</td>\n",
       "      <td>1.34</td>\n",
       "      <td>2.70</td>\n",
       "      <td>3.22</td>\n",
       "      <td>3.15</td>\n",
       "      <td>NaN</td>\n",
       "      <td>NaN</td>\n",
       "      <td>0</td>\n",
       "    </tr>\n",
       "    <tr>\n",
       "      <th>3</th>\n",
       "      <td>A M C L Machinery Ltd.</td>\n",
       "      <td>2009</td>\n",
       "      <td>1</td>\n",
       "      <td>A1</td>\n",
       "      <td>710.8</td>\n",
       "      <td>40.18</td>\n",
       "      <td>23.45</td>\n",
       "      <td>20.33</td>\n",
       "      <td>20.85</td>\n",
       "      <td>0.90</td>\n",
       "      <td>...</td>\n",
       "      <td>149.0</td>\n",
       "      <td>1.09</td>\n",
       "      <td>24.60</td>\n",
       "      <td>2.99</td>\n",
       "      <td>17.64</td>\n",
       "      <td>0.47</td>\n",
       "      <td>4.48</td>\n",
       "      <td>78.35</td>\n",
       "      <td>14.02</td>\n",
       "      <td>0</td>\n",
       "    </tr>\n",
       "    <tr>\n",
       "      <th>4</th>\n",
       "      <td>A T C Telecom Infrastructure Pvt. Ltd.</td>\n",
       "      <td>2009</td>\n",
       "      <td>1</td>\n",
       "      <td>A1</td>\n",
       "      <td>8195.2</td>\n",
       "      <td>58.66</td>\n",
       "      <td>24.18</td>\n",
       "      <td>-27.62</td>\n",
       "      <td>-7.02</td>\n",
       "      <td>0.40</td>\n",
       "      <td>...</td>\n",
       "      <td>-199.0</td>\n",
       "      <td>0.24</td>\n",
       "      <td>33.10</td>\n",
       "      <td>0.31</td>\n",
       "      <td>0.35</td>\n",
       "      <td>10.73</td>\n",
       "      <td>9.03</td>\n",
       "      <td>-128.95</td>\n",
       "      <td>-9.40</td>\n",
       "      <td>0</td>\n",
       "    </tr>\n",
       "    <tr>\n",
       "      <th>5</th>\n",
       "      <td>A V T Mccormick Ingredients Pvt. Ltd.</td>\n",
       "      <td>2009</td>\n",
       "      <td>3</td>\n",
       "      <td>A2</td>\n",
       "      <td>1660.5</td>\n",
       "      <td>32.32</td>\n",
       "      <td>19.72</td>\n",
       "      <td>6.19</td>\n",
       "      <td>19.09</td>\n",
       "      <td>0.45</td>\n",
       "      <td>...</td>\n",
       "      <td>254.0</td>\n",
       "      <td>1.41</td>\n",
       "      <td>19.53</td>\n",
       "      <td>4.07</td>\n",
       "      <td>18.13</td>\n",
       "      <td>1.87</td>\n",
       "      <td>3.03</td>\n",
       "      <td>17.72</td>\n",
       "      <td>5.92</td>\n",
       "      <td>0</td>\n",
       "    </tr>\n",
       "    <tr>\n",
       "      <th>6</th>\n",
       "      <td>A V T Natural Products Ltd.</td>\n",
       "      <td>2009</td>\n",
       "      <td>3</td>\n",
       "      <td>A2</td>\n",
       "      <td>967.9</td>\n",
       "      <td>44.54</td>\n",
       "      <td>27.92</td>\n",
       "      <td>11.73</td>\n",
       "      <td>25.37</td>\n",
       "      <td>0.68</td>\n",
       "      <td>...</td>\n",
       "      <td>261.0</td>\n",
       "      <td>0.97</td>\n",
       "      <td>9.81</td>\n",
       "      <td>1.86</td>\n",
       "      <td>3.43</td>\n",
       "      <td>1.42</td>\n",
       "      <td>2.20</td>\n",
       "      <td>15.87</td>\n",
       "      <td>7.12</td>\n",
       "      <td>0</td>\n",
       "    </tr>\n",
       "    <tr>\n",
       "      <th>7</th>\n",
       "      <td>Aarti Drugs Ltd.</td>\n",
       "      <td>2009</td>\n",
       "      <td>3</td>\n",
       "      <td>A2</td>\n",
       "      <td>4096.9</td>\n",
       "      <td>40.78</td>\n",
       "      <td>14.50</td>\n",
       "      <td>5.65</td>\n",
       "      <td>11.70</td>\n",
       "      <td>0.74</td>\n",
       "      <td>...</td>\n",
       "      <td>97.0</td>\n",
       "      <td>1.06</td>\n",
       "      <td>36.49</td>\n",
       "      <td>1.53</td>\n",
       "      <td>2.28</td>\n",
       "      <td>2.99</td>\n",
       "      <td>3.22</td>\n",
       "      <td>13.17</td>\n",
       "      <td>3.86</td>\n",
       "      <td>0</td>\n",
       "    </tr>\n",
       "    <tr>\n",
       "      <th>8</th>\n",
       "      <td>Aarti International Ltd.</td>\n",
       "      <td>2009</td>\n",
       "      <td>3</td>\n",
       "      <td>A2</td>\n",
       "      <td>3572.6</td>\n",
       "      <td>25.21</td>\n",
       "      <td>18.59</td>\n",
       "      <td>-1.51</td>\n",
       "      <td>9.95</td>\n",
       "      <td>0.42</td>\n",
       "      <td>...</td>\n",
       "      <td>264.0</td>\n",
       "      <td>0.65</td>\n",
       "      <td>29.75</td>\n",
       "      <td>0.83</td>\n",
       "      <td>1.22</td>\n",
       "      <td>5.28</td>\n",
       "      <td>3.38</td>\n",
       "      <td>-4.66</td>\n",
       "      <td>-1.40</td>\n",
       "      <td>0</td>\n",
       "    </tr>\n",
       "    <tr>\n",
       "      <th>9</th>\n",
       "      <td>Aarti Steels Ltd.</td>\n",
       "      <td>2009</td>\n",
       "      <td>3</td>\n",
       "      <td>A2</td>\n",
       "      <td>8682.9</td>\n",
       "      <td>36.80</td>\n",
       "      <td>12.83</td>\n",
       "      <td>4.82</td>\n",
       "      <td>8.99</td>\n",
       "      <td>0.92</td>\n",
       "      <td>...</td>\n",
       "      <td>103.0</td>\n",
       "      <td>1.42</td>\n",
       "      <td>35.54</td>\n",
       "      <td>1.80</td>\n",
       "      <td>2.75</td>\n",
       "      <td>2.61</td>\n",
       "      <td>2.54</td>\n",
       "      <td>12.21</td>\n",
       "      <td>4.49</td>\n",
       "      <td>0</td>\n",
       "    </tr>\n",
       "    <tr>\n",
       "      <th>10</th>\n",
       "      <td>Accelerated Freeze Drying Co. Ltd.</td>\n",
       "      <td>2009</td>\n",
       "      <td>6</td>\n",
       "      <td>A4</td>\n",
       "      <td>472.3</td>\n",
       "      <td>33.56</td>\n",
       "      <td>13.74</td>\n",
       "      <td>0.95</td>\n",
       "      <td>12.60</td>\n",
       "      <td>0.56</td>\n",
       "      <td>...</td>\n",
       "      <td>465.0</td>\n",
       "      <td>0.65</td>\n",
       "      <td>12.76</td>\n",
       "      <td>1.15</td>\n",
       "      <td>7.45</td>\n",
       "      <td>5.07</td>\n",
       "      <td>2.09</td>\n",
       "      <td>0.72</td>\n",
       "      <td>0.35</td>\n",
       "      <td>0</td>\n",
       "    </tr>\n",
       "    <tr>\n",
       "      <th>11</th>\n",
       "      <td>Action Ispat &amp; Power Pvt. Ltd.</td>\n",
       "      <td>2009</td>\n",
       "      <td>5</td>\n",
       "      <td>A3</td>\n",
       "      <td>2674.5</td>\n",
       "      <td>24.63</td>\n",
       "      <td>11.50</td>\n",
       "      <td>5.90</td>\n",
       "      <td>9.33</td>\n",
       "      <td>0.07</td>\n",
       "      <td>...</td>\n",
       "      <td>15.0</td>\n",
       "      <td>0.73</td>\n",
       "      <td>27.07</td>\n",
       "      <td>1.30</td>\n",
       "      <td>1.40</td>\n",
       "      <td>7.60</td>\n",
       "      <td>4.35</td>\n",
       "      <td>9.71</td>\n",
       "      <td>2.45</td>\n",
       "      <td>0</td>\n",
       "    </tr>\n",
       "    <tr>\n",
       "      <th>12</th>\n",
       "      <td>Adani Gas Ltd.</td>\n",
       "      <td>2009</td>\n",
       "      <td>3</td>\n",
       "      <td>A2</td>\n",
       "      <td>3239.4</td>\n",
       "      <td>95.10</td>\n",
       "      <td>21.22</td>\n",
       "      <td>5.53</td>\n",
       "      <td>14.02</td>\n",
       "      <td>0.72</td>\n",
       "      <td>...</td>\n",
       "      <td>1404.0</td>\n",
       "      <td>0.41</td>\n",
       "      <td>59.59</td>\n",
       "      <td>0.80</td>\n",
       "      <td>0.93</td>\n",
       "      <td>6.30</td>\n",
       "      <td>3.08</td>\n",
       "      <td>7.66</td>\n",
       "      <td>2.49</td>\n",
       "      <td>0</td>\n",
       "    </tr>\n",
       "    <tr>\n",
       "      <th>13</th>\n",
       "      <td>Aditya Auto Products &amp; Engg. (India) Pvt. Ltd.</td>\n",
       "      <td>2009</td>\n",
       "      <td>5</td>\n",
       "      <td>A3</td>\n",
       "      <td>NaN</td>\n",
       "      <td>NaN</td>\n",
       "      <td>NaN</td>\n",
       "      <td>NaN</td>\n",
       "      <td>NaN</td>\n",
       "      <td>NaN</td>\n",
       "      <td>...</td>\n",
       "      <td>NaN</td>\n",
       "      <td>NaN</td>\n",
       "      <td>NaN</td>\n",
       "      <td>NaN</td>\n",
       "      <td>NaN</td>\n",
       "      <td>NaN</td>\n",
       "      <td>NaN</td>\n",
       "      <td>NaN</td>\n",
       "      <td>NaN</td>\n",
       "      <td>0</td>\n",
       "    </tr>\n",
       "    <tr>\n",
       "      <th>14</th>\n",
       "      <td>Aerostar Helmets Pvt. Ltd.</td>\n",
       "      <td>2009</td>\n",
       "      <td>6</td>\n",
       "      <td>A4</td>\n",
       "      <td>166.9</td>\n",
       "      <td>38.29</td>\n",
       "      <td>7.91</td>\n",
       "      <td>1.80</td>\n",
       "      <td>3.65</td>\n",
       "      <td>0.55</td>\n",
       "      <td>...</td>\n",
       "      <td>77.0</td>\n",
       "      <td>0.90</td>\n",
       "      <td>16.78</td>\n",
       "      <td>0.91</td>\n",
       "      <td>1.23</td>\n",
       "      <td>8.25</td>\n",
       "      <td>3.09</td>\n",
       "      <td>0.67</td>\n",
       "      <td>0.23</td>\n",
       "      <td>0</td>\n",
       "    </tr>\n",
       "    <tr>\n",
       "      <th>15</th>\n",
       "      <td>Afcons Infrastructure Ltd.</td>\n",
       "      <td>2009</td>\n",
       "      <td>1</td>\n",
       "      <td>A1</td>\n",
       "      <td>21017.3</td>\n",
       "      <td>36.16</td>\n",
       "      <td>10.30</td>\n",
       "      <td>3.64</td>\n",
       "      <td>8.52</td>\n",
       "      <td>1.26</td>\n",
       "      <td>...</td>\n",
       "      <td>21.0</td>\n",
       "      <td>1.07</td>\n",
       "      <td>10.66</td>\n",
       "      <td>3.57</td>\n",
       "      <td>5.51</td>\n",
       "      <td>12.55</td>\n",
       "      <td>9.06</td>\n",
       "      <td>18.55</td>\n",
       "      <td>1.99</td>\n",
       "      <td>0</td>\n",
       "    </tr>\n",
       "    <tr>\n",
       "      <th>16</th>\n",
       "      <td>Agnite Education Ltd.</td>\n",
       "      <td>2009</td>\n",
       "      <td>8</td>\n",
       "      <td>A 5</td>\n",
       "      <td>7251.2</td>\n",
       "      <td>98.07</td>\n",
       "      <td>15.99</td>\n",
       "      <td>10.65</td>\n",
       "      <td>15.68</td>\n",
       "      <td>1.48</td>\n",
       "      <td>...</td>\n",
       "      <td>271.0</td>\n",
       "      <td>0.43</td>\n",
       "      <td>54.58</td>\n",
       "      <td>3.66</td>\n",
       "      <td>7.35</td>\n",
       "      <td>5.04</td>\n",
       "      <td>2.33</td>\n",
       "      <td>10.20</td>\n",
       "      <td>4.52</td>\n",
       "      <td>1</td>\n",
       "    </tr>\n",
       "    <tr>\n",
       "      <th>17</th>\n",
       "      <td>Agrawal Indotex Ltd.</td>\n",
       "      <td>2009</td>\n",
       "      <td>6</td>\n",
       "      <td>A4</td>\n",
       "      <td>631.0</td>\n",
       "      <td>7.70</td>\n",
       "      <td>16.10</td>\n",
       "      <td>3.44</td>\n",
       "      <td>10.60</td>\n",
       "      <td>0.19</td>\n",
       "      <td>...</td>\n",
       "      <td>90.0</td>\n",
       "      <td>0.82</td>\n",
       "      <td>28.95</td>\n",
       "      <td>0.88</td>\n",
       "      <td>1.19</td>\n",
       "      <td>4.28</td>\n",
       "      <td>3.31</td>\n",
       "      <td>11.80</td>\n",
       "      <td>3.53</td>\n",
       "      <td>0</td>\n",
       "    </tr>\n",
       "    <tr>\n",
       "      <th>18</th>\n",
       "      <td>Agro Dutch Inds. Ltd.</td>\n",
       "      <td>2009</td>\n",
       "      <td>6</td>\n",
       "      <td>A4</td>\n",
       "      <td>1412.4</td>\n",
       "      <td>12.31</td>\n",
       "      <td>-5.38</td>\n",
       "      <td>-36.48</td>\n",
       "      <td>-15.95</td>\n",
       "      <td>0.11</td>\n",
       "      <td>...</td>\n",
       "      <td>419.0</td>\n",
       "      <td>0.22</td>\n",
       "      <td>36.21</td>\n",
       "      <td>0.39</td>\n",
       "      <td>0.49</td>\n",
       "      <td>-51.79</td>\n",
       "      <td>4.39</td>\n",
       "      <td>-16.75</td>\n",
       "      <td>-4.46</td>\n",
       "      <td>0</td>\n",
       "    </tr>\n",
       "    <tr>\n",
       "      <th>19</th>\n",
       "      <td>Air Travel Bureau Pvt. Ltd.</td>\n",
       "      <td>2009</td>\n",
       "      <td>4</td>\n",
       "      <td>BBB</td>\n",
       "      <td>NaN</td>\n",
       "      <td>NaN</td>\n",
       "      <td>NaN</td>\n",
       "      <td>NaN</td>\n",
       "      <td>NaN</td>\n",
       "      <td>NaN</td>\n",
       "      <td>...</td>\n",
       "      <td>NaN</td>\n",
       "      <td>NaN</td>\n",
       "      <td>NaN</td>\n",
       "      <td>NaN</td>\n",
       "      <td>NaN</td>\n",
       "      <td>NaN</td>\n",
       "      <td>NaN</td>\n",
       "      <td>NaN</td>\n",
       "      <td>NaN</td>\n",
       "      <td>0</td>\n",
       "    </tr>\n",
       "  </tbody>\n",
       "</table>\n",
       "<p>20 rows × 30 columns</p>\n",
       "</div>"
      ],
      "text/plain": [
       "                                      Company Name  Year  Normalized Rating  \\\n",
       "0                     A B I-Showatech (India) Ltd.  2009                  1   \n",
       "1                                  A B P Pvt. Ltd.  2009                  1   \n",
       "2                    A L P Nishikawa Co. Pvt. Ltd.  2009                  6   \n",
       "3                           A M C L Machinery Ltd.  2009                  1   \n",
       "4           A T C Telecom Infrastructure Pvt. Ltd.  2009                  1   \n",
       "5            A V T Mccormick Ingredients Pvt. Ltd.  2009                  3   \n",
       "6                      A V T Natural Products Ltd.  2009                  3   \n",
       "7                                 Aarti Drugs Ltd.  2009                  3   \n",
       "8                         Aarti International Ltd.  2009                  3   \n",
       "9                                Aarti Steels Ltd.  2009                  3   \n",
       "10              Accelerated Freeze Drying Co. Ltd.  2009                  6   \n",
       "11                  Action Ispat & Power Pvt. Ltd.  2009                  5   \n",
       "12                                  Adani Gas Ltd.  2009                  3   \n",
       "13  Aditya Auto Products & Engg. (India) Pvt. Ltd.  2009                  5   \n",
       "14                      Aerostar Helmets Pvt. Ltd.  2009                  6   \n",
       "15                      Afcons Infrastructure Ltd.  2009                  1   \n",
       "16                           Agnite Education Ltd.  2009                  8   \n",
       "17                            Agrawal Indotex Ltd.  2009                  6   \n",
       "18                           Agro Dutch Inds. Ltd.  2009                  6   \n",
       "19                     Air Travel Bureau Pvt. Ltd.  2009                  4   \n",
       "\n",
       "   Ratings    Sales  GP Margin %  PBDIT Margin %  PAT Margin %  \\\n",
       "0       A1   1481.6        41.85           22.79         10.93   \n",
       "1       A1      NaN          NaN             NaN           NaN   \n",
       "2       A4    914.1        32.43            9.15          1.60   \n",
       "3       A1    710.8        40.18           23.45         20.33   \n",
       "4       A1   8195.2        58.66           24.18        -27.62   \n",
       "5       A2   1660.5        32.32           19.72          6.19   \n",
       "6       A2    967.9        44.54           27.92         11.73   \n",
       "7       A2   4096.9        40.78           14.50          5.65   \n",
       "8       A2   3572.6        25.21           18.59         -1.51   \n",
       "9       A2   8682.9        36.80           12.83          4.82   \n",
       "10      A4    472.3        33.56           13.74          0.95   \n",
       "11      A3   2674.5        24.63           11.50          5.90   \n",
       "12      A2   3239.4        95.10           21.22          5.53   \n",
       "13      A3      NaN          NaN             NaN           NaN   \n",
       "14      A4    166.9        38.29            7.91          1.80   \n",
       "15      A1  21017.3        36.16           10.30          3.64   \n",
       "16     A 5   7251.2        98.07           15.99         10.65   \n",
       "17      A4    631.0         7.70           16.10          3.44   \n",
       "18      A4   1412.4        12.31           -5.38        -36.48   \n",
       "19     BBB      NaN          NaN             NaN           NaN   \n",
       "\n",
       "    PBT Percentage %  Quick ratio (times)  ...  \\\n",
       "0              12.90                 0.85  ...   \n",
       "1                NaN                  NaN  ...   \n",
       "2               4.99                 0.44  ...   \n",
       "3              20.85                 0.90  ...   \n",
       "4              -7.02                 0.40  ...   \n",
       "5              19.09                 0.45  ...   \n",
       "6              25.37                 0.68  ...   \n",
       "7              11.70                 0.74  ...   \n",
       "8               9.95                 0.42  ...   \n",
       "9               8.99                 0.92  ...   \n",
       "10             12.60                 0.56  ...   \n",
       "11              9.33                 0.07  ...   \n",
       "12             14.02                 0.72  ...   \n",
       "13               NaN                  NaN  ...   \n",
       "14              3.65                 0.55  ...   \n",
       "15              8.52                 1.26  ...   \n",
       "16             15.68                 1.48  ...   \n",
       "17             10.60                 0.19  ...   \n",
       "18            -15.95                 0.11  ...   \n",
       "19               NaN                  NaN  ...   \n",
       "\n",
       "    Net working capital cycle (days)  Total Income/Total asset  \\\n",
       "0                               36.0                      1.15   \n",
       "1                                NaN                       NaN   \n",
       "2                                NaN                      1.13   \n",
       "3                              149.0                      1.09   \n",
       "4                             -199.0                      0.24   \n",
       "5                              254.0                      1.41   \n",
       "6                              261.0                      0.97   \n",
       "7                               97.0                      1.06   \n",
       "8                              264.0                      0.65   \n",
       "9                              103.0                      1.42   \n",
       "10                             465.0                      0.65   \n",
       "11                              15.0                      0.73   \n",
       "12                            1404.0                      0.41   \n",
       "13                               NaN                       NaN   \n",
       "14                              77.0                      0.90   \n",
       "15                              21.0                      1.07   \n",
       "16                             271.0                      0.43   \n",
       "17                              90.0                      0.82   \n",
       "18                             419.0                      0.22   \n",
       "19                               NaN                       NaN   \n",
       "\n",
       "    Total Income/ Compansation to employees  Sales / GFA  \\\n",
       "0                                     12.79         1.05   \n",
       "1                                       NaN          NaN   \n",
       "2                                     13.28         1.34   \n",
       "3                                     24.60         2.99   \n",
       "4                                     33.10         0.31   \n",
       "5                                     19.53         4.07   \n",
       "6                                      9.81         1.86   \n",
       "7                                     36.49         1.53   \n",
       "8                                     29.75         0.83   \n",
       "9                                     35.54         1.80   \n",
       "10                                    12.76         1.15   \n",
       "11                                    27.07         1.30   \n",
       "12                                    59.59         0.80   \n",
       "13                                      NaN          NaN   \n",
       "14                                    16.78         0.91   \n",
       "15                                    10.66         3.57   \n",
       "16                                    54.58         3.66   \n",
       "17                                    28.95         0.88   \n",
       "18                                    36.21         0.39   \n",
       "19                                      NaN          NaN   \n",
       "\n",
       "    Sales / net fixed Assets  Debt/EBIT  \\\n",
       "0                       2.20       0.47   \n",
       "1                        NaN        NaN   \n",
       "2                       2.70       3.22   \n",
       "3                      17.64       0.47   \n",
       "4                       0.35      10.73   \n",
       "5                      18.13       1.87   \n",
       "6                       3.43       1.42   \n",
       "7                       2.28       2.99   \n",
       "8                       1.22       5.28   \n",
       "9                       2.75       2.61   \n",
       "10                      7.45       5.07   \n",
       "11                      1.40       7.60   \n",
       "12                      0.93       6.30   \n",
       "13                       NaN        NaN   \n",
       "14                      1.23       8.25   \n",
       "15                      5.51      12.55   \n",
       "16                      7.35       5.04   \n",
       "17                      1.19       4.28   \n",
       "18                      0.49     -51.79   \n",
       "19                       NaN        NaN   \n",
       "\n",
       "    Total Outside liability/ Total Net Worth  Return on net worth  \\\n",
       "0                                       1.38                17.63   \n",
       "1                                        NaN                  NaN   \n",
       "2                                       3.15                  NaN   \n",
       "3                                       4.48                78.35   \n",
       "4                                       9.03              -128.95   \n",
       "5                                       3.03                17.72   \n",
       "6                                       2.20                15.87   \n",
       "7                                       3.22                13.17   \n",
       "8                                       3.38                -4.66   \n",
       "9                                       2.54                12.21   \n",
       "10                                      2.09                 0.72   \n",
       "11                                      4.35                 9.71   \n",
       "12                                      3.08                 7.66   \n",
       "13                                       NaN                  NaN   \n",
       "14                                      3.09                 0.67   \n",
       "15                                      9.06                18.55   \n",
       "16                                      2.33                10.20   \n",
       "17                                      3.31                11.80   \n",
       "18                                      4.39               -16.75   \n",
       "19                                       NaN                  NaN   \n",
       "\n",
       "    Return on total assets  Default  \n",
       "0                    12.13        0  \n",
       "1                      NaN        0  \n",
       "2                      NaN        0  \n",
       "3                    14.02        0  \n",
       "4                    -9.40        0  \n",
       "5                     5.92        0  \n",
       "6                     7.12        0  \n",
       "7                     3.86        0  \n",
       "8                    -1.40        0  \n",
       "9                     4.49        0  \n",
       "10                    0.35        0  \n",
       "11                    2.45        0  \n",
       "12                    2.49        0  \n",
       "13                     NaN        0  \n",
       "14                    0.23        0  \n",
       "15                    1.99        0  \n",
       "16                    4.52        1  \n",
       "17                    3.53        0  \n",
       "18                   -4.46        0  \n",
       "19                     NaN        0  \n",
       "\n",
       "[20 rows x 30 columns]"
      ]
     },
     "execution_count": 9,
     "metadata": {},
     "output_type": "execute_result"
    }
   ],
   "source": [
    "## Seeing the first 20 rows of the dataset and checking if the defualt value is one for ratings 7 or 8\n",
    "df.head(20)"
   ]
  },
  {
   "cell_type": "code",
   "execution_count": 10,
   "metadata": {},
   "outputs": [],
   "source": [
    "## Retaining only those rows of Sales where there are no NA values\n",
    "df2 = df[df['Sales'].notna()]"
   ]
  },
  {
   "cell_type": "code",
   "execution_count": 11,
   "metadata": {},
   "outputs": [
    {
     "data": {
      "text/plain": [
       "Company Name                                 0.000000\n",
       "Year                                         0.000000\n",
       "Normalized Rating                            0.000000\n",
       "Ratings                                      0.000000\n",
       "Sales                                        0.000000\n",
       "GP Margin %                                  0.000000\n",
       "PBDIT Margin %                               0.000000\n",
       "PAT Margin %                                 0.000000\n",
       "PBT Percentage %                             0.000000\n",
       "Quick ratio (times)                          0.137725\n",
       "Current ratio (times)                        0.137725\n",
       "Debt to equity ratio (times)                 3.971078\n",
       "Interest cover (times)                      11.947664\n",
       "Raw material cycle (days)                   25.616894\n",
       "WIP cycle (days)                            39.837025\n",
       "Finished goods cycle (days)                 25.479169\n",
       "Inventory Days                              13.829909\n",
       "Debtor days (days)                           4.613795\n",
       "Gross working capital cycle (days)           4.338345\n",
       "Creditor days (days)                         5.336853\n",
       "Net working capital cycle (days)             3.948123\n",
       "Total Income/Total asset                     0.000000\n",
       "Total Income/ Compansation to employees      1.182142\n",
       "Sales / GFA                                  0.332836\n",
       "Sales / net fixed Assets                     0.275450\n",
       "Debt/EBIT                                    0.011477\n",
       "Total Outside liability/ Total Net Worth     0.000000\n",
       "Return on net worth                          7.115804\n",
       "Return on total assets                       3.672673\n",
       "Default                                      0.000000\n",
       "dtype: float64"
      ]
     },
     "execution_count": 11,
     "metadata": {},
     "output_type": "execute_result"
    }
   ],
   "source": [
    "## Checking the percentage of all NA values present in the dataset\n",
    "(df2.isna().sum())/df2.shape[0]*100"
   ]
  },
  {
   "cell_type": "markdown",
   "metadata": {},
   "source": [
    "### Deleting those columns which have more than 20% of NA values"
   ]
  },
  {
   "cell_type": "code",
   "execution_count": 12,
   "metadata": {},
   "outputs": [],
   "source": [
    "del df2['WIP cycle (days)']"
   ]
  },
  {
   "cell_type": "code",
   "execution_count": 13,
   "metadata": {},
   "outputs": [],
   "source": [
    "del df2['Raw material cycle (days)']"
   ]
  },
  {
   "cell_type": "code",
   "execution_count": 14,
   "metadata": {},
   "outputs": [],
   "source": [
    "del df2['Finished goods cycle (days)']"
   ]
  },
  {
   "cell_type": "markdown",
   "metadata": {},
   "source": [
    "### Deleting normalised rating and ratings as dependent variable is formed."
   ]
  },
  {
   "cell_type": "code",
   "execution_count": 15,
   "metadata": {},
   "outputs": [],
   "source": [
    "del df2['Normalized Rating']"
   ]
  },
  {
   "cell_type": "code",
   "execution_count": 16,
   "metadata": {},
   "outputs": [],
   "source": [
    "del df2['Ratings']"
   ]
  },
  {
   "cell_type": "code",
   "execution_count": 17,
   "metadata": {},
   "outputs": [
    {
     "data": {
      "text/html": [
       "<div>\n",
       "<style scoped>\n",
       "    .dataframe tbody tr th:only-of-type {\n",
       "        vertical-align: middle;\n",
       "    }\n",
       "\n",
       "    .dataframe tbody tr th {\n",
       "        vertical-align: top;\n",
       "    }\n",
       "\n",
       "    .dataframe thead th {\n",
       "        text-align: right;\n",
       "    }\n",
       "</style>\n",
       "<table border=\"1\" class=\"dataframe\">\n",
       "  <thead>\n",
       "    <tr style=\"text-align: right;\">\n",
       "      <th></th>\n",
       "      <th>Company Name</th>\n",
       "      <th>Year</th>\n",
       "      <th>Sales</th>\n",
       "      <th>GP Margin %</th>\n",
       "      <th>PBDIT Margin %</th>\n",
       "      <th>PAT Margin %</th>\n",
       "      <th>PBT Percentage %</th>\n",
       "      <th>Quick ratio (times)</th>\n",
       "      <th>Current ratio (times)</th>\n",
       "      <th>Debt to equity ratio (times)</th>\n",
       "      <th>...</th>\n",
       "      <th>Net working capital cycle (days)</th>\n",
       "      <th>Total Income/Total asset</th>\n",
       "      <th>Total Income/ Compansation to employees</th>\n",
       "      <th>Sales / GFA</th>\n",
       "      <th>Sales / net fixed Assets</th>\n",
       "      <th>Debt/EBIT</th>\n",
       "      <th>Total Outside liability/ Total Net Worth</th>\n",
       "      <th>Return on net worth</th>\n",
       "      <th>Return on total assets</th>\n",
       "      <th>Default</th>\n",
       "    </tr>\n",
       "  </thead>\n",
       "  <tbody>\n",
       "    <tr>\n",
       "      <th>0</th>\n",
       "      <td>A B I-Showatech (India) Ltd.</td>\n",
       "      <td>2009</td>\n",
       "      <td>1481.6</td>\n",
       "      <td>41.85</td>\n",
       "      <td>22.79</td>\n",
       "      <td>10.93</td>\n",
       "      <td>12.90</td>\n",
       "      <td>0.85</td>\n",
       "      <td>1.80</td>\n",
       "      <td>0.17</td>\n",
       "      <td>...</td>\n",
       "      <td>36.0</td>\n",
       "      <td>1.15</td>\n",
       "      <td>12.79</td>\n",
       "      <td>1.05</td>\n",
       "      <td>2.20</td>\n",
       "      <td>0.47</td>\n",
       "      <td>1.38</td>\n",
       "      <td>17.63</td>\n",
       "      <td>12.13</td>\n",
       "      <td>0</td>\n",
       "    </tr>\n",
       "    <tr>\n",
       "      <th>2</th>\n",
       "      <td>A L P Nishikawa Co. Pvt. Ltd.</td>\n",
       "      <td>2009</td>\n",
       "      <td>914.1</td>\n",
       "      <td>32.43</td>\n",
       "      <td>9.15</td>\n",
       "      <td>1.60</td>\n",
       "      <td>4.99</td>\n",
       "      <td>0.44</td>\n",
       "      <td>0.63</td>\n",
       "      <td>1.05</td>\n",
       "      <td>...</td>\n",
       "      <td>NaN</td>\n",
       "      <td>1.13</td>\n",
       "      <td>13.28</td>\n",
       "      <td>1.34</td>\n",
       "      <td>2.70</td>\n",
       "      <td>3.22</td>\n",
       "      <td>3.15</td>\n",
       "      <td>NaN</td>\n",
       "      <td>NaN</td>\n",
       "      <td>0</td>\n",
       "    </tr>\n",
       "    <tr>\n",
       "      <th>3</th>\n",
       "      <td>A M C L Machinery Ltd.</td>\n",
       "      <td>2009</td>\n",
       "      <td>710.8</td>\n",
       "      <td>40.18</td>\n",
       "      <td>23.45</td>\n",
       "      <td>20.33</td>\n",
       "      <td>20.85</td>\n",
       "      <td>0.90</td>\n",
       "      <td>1.32</td>\n",
       "      <td>0.54</td>\n",
       "      <td>...</td>\n",
       "      <td>149.0</td>\n",
       "      <td>1.09</td>\n",
       "      <td>24.60</td>\n",
       "      <td>2.99</td>\n",
       "      <td>17.64</td>\n",
       "      <td>0.47</td>\n",
       "      <td>4.48</td>\n",
       "      <td>78.35</td>\n",
       "      <td>14.02</td>\n",
       "      <td>0</td>\n",
       "    </tr>\n",
       "    <tr>\n",
       "      <th>4</th>\n",
       "      <td>A T C Telecom Infrastructure Pvt. Ltd.</td>\n",
       "      <td>2009</td>\n",
       "      <td>8195.2</td>\n",
       "      <td>58.66</td>\n",
       "      <td>24.18</td>\n",
       "      <td>-27.62</td>\n",
       "      <td>-7.02</td>\n",
       "      <td>0.40</td>\n",
       "      <td>0.40</td>\n",
       "      <td>5.54</td>\n",
       "      <td>...</td>\n",
       "      <td>-199.0</td>\n",
       "      <td>0.24</td>\n",
       "      <td>33.10</td>\n",
       "      <td>0.31</td>\n",
       "      <td>0.35</td>\n",
       "      <td>10.73</td>\n",
       "      <td>9.03</td>\n",
       "      <td>-128.95</td>\n",
       "      <td>-9.40</td>\n",
       "      <td>0</td>\n",
       "    </tr>\n",
       "    <tr>\n",
       "      <th>5</th>\n",
       "      <td>A V T Mccormick Ingredients Pvt. Ltd.</td>\n",
       "      <td>2009</td>\n",
       "      <td>1660.5</td>\n",
       "      <td>32.32</td>\n",
       "      <td>19.72</td>\n",
       "      <td>6.19</td>\n",
       "      <td>19.09</td>\n",
       "      <td>0.45</td>\n",
       "      <td>1.34</td>\n",
       "      <td>1.57</td>\n",
       "      <td>...</td>\n",
       "      <td>254.0</td>\n",
       "      <td>1.41</td>\n",
       "      <td>19.53</td>\n",
       "      <td>4.07</td>\n",
       "      <td>18.13</td>\n",
       "      <td>1.87</td>\n",
       "      <td>3.03</td>\n",
       "      <td>17.72</td>\n",
       "      <td>5.92</td>\n",
       "      <td>0</td>\n",
       "    </tr>\n",
       "  </tbody>\n",
       "</table>\n",
       "<p>5 rows × 25 columns</p>\n",
       "</div>"
      ],
      "text/plain": [
       "                             Company Name  Year   Sales  GP Margin %  \\\n",
       "0            A B I-Showatech (India) Ltd.  2009  1481.6        41.85   \n",
       "2           A L P Nishikawa Co. Pvt. Ltd.  2009   914.1        32.43   \n",
       "3                  A M C L Machinery Ltd.  2009   710.8        40.18   \n",
       "4  A T C Telecom Infrastructure Pvt. Ltd.  2009  8195.2        58.66   \n",
       "5   A V T Mccormick Ingredients Pvt. Ltd.  2009  1660.5        32.32   \n",
       "\n",
       "   PBDIT Margin %  PAT Margin %  PBT Percentage %  Quick ratio (times)  \\\n",
       "0           22.79         10.93             12.90                 0.85   \n",
       "2            9.15          1.60              4.99                 0.44   \n",
       "3           23.45         20.33             20.85                 0.90   \n",
       "4           24.18        -27.62             -7.02                 0.40   \n",
       "5           19.72          6.19             19.09                 0.45   \n",
       "\n",
       "   Current ratio (times)  Debt to equity ratio (times)  ...  \\\n",
       "0                   1.80                          0.17  ...   \n",
       "2                   0.63                          1.05  ...   \n",
       "3                   1.32                          0.54  ...   \n",
       "4                   0.40                          5.54  ...   \n",
       "5                   1.34                          1.57  ...   \n",
       "\n",
       "   Net working capital cycle (days)  Total Income/Total asset  \\\n",
       "0                              36.0                      1.15   \n",
       "2                               NaN                      1.13   \n",
       "3                             149.0                      1.09   \n",
       "4                            -199.0                      0.24   \n",
       "5                             254.0                      1.41   \n",
       "\n",
       "   Total Income/ Compansation to employees  Sales / GFA  \\\n",
       "0                                    12.79         1.05   \n",
       "2                                    13.28         1.34   \n",
       "3                                    24.60         2.99   \n",
       "4                                    33.10         0.31   \n",
       "5                                    19.53         4.07   \n",
       "\n",
       "   Sales / net fixed Assets  Debt/EBIT  \\\n",
       "0                      2.20       0.47   \n",
       "2                      2.70       3.22   \n",
       "3                     17.64       0.47   \n",
       "4                      0.35      10.73   \n",
       "5                     18.13       1.87   \n",
       "\n",
       "   Total Outside liability/ Total Net Worth  Return on net worth  \\\n",
       "0                                      1.38                17.63   \n",
       "2                                      3.15                  NaN   \n",
       "3                                      4.48                78.35   \n",
       "4                                      9.03              -128.95   \n",
       "5                                      3.03                17.72   \n",
       "\n",
       "   Return on total assets  Default  \n",
       "0                   12.13        0  \n",
       "2                     NaN        0  \n",
       "3                   14.02        0  \n",
       "4                   -9.40        0  \n",
       "5                    5.92        0  \n",
       "\n",
       "[5 rows x 25 columns]"
      ]
     },
     "execution_count": 17,
     "metadata": {},
     "output_type": "execute_result"
    }
   ],
   "source": [
    "## Checking the columns again after deleting the above columns.\n",
    "df2.head()"
   ]
  },
  {
   "cell_type": "code",
   "execution_count": 18,
   "metadata": {},
   "outputs": [
    {
     "data": {
      "text/plain": [
       "Company Name                                 0.000000\n",
       "Year                                         0.000000\n",
       "Sales                                        0.000000\n",
       "GP Margin %                                  0.000000\n",
       "PBDIT Margin %                               0.000000\n",
       "PAT Margin %                                 0.000000\n",
       "PBT Percentage %                             0.000000\n",
       "Quick ratio (times)                          0.137725\n",
       "Current ratio (times)                        0.137725\n",
       "Debt to equity ratio (times)                 3.971078\n",
       "Interest cover (times)                      11.947664\n",
       "Inventory Days                              13.829909\n",
       "Debtor days (days)                           4.613795\n",
       "Gross working capital cycle (days)           4.338345\n",
       "Creditor days (days)                         5.336853\n",
       "Net working capital cycle (days)             3.948123\n",
       "Total Income/Total asset                     0.000000\n",
       "Total Income/ Compansation to employees      1.182142\n",
       "Sales / GFA                                  0.332836\n",
       "Sales / net fixed Assets                     0.275450\n",
       "Debt/EBIT                                    0.011477\n",
       "Total Outside liability/ Total Net Worth     0.000000\n",
       "Return on net worth                          7.115804\n",
       "Return on total assets                       3.672673\n",
       "Default                                      0.000000\n",
       "dtype: float64"
      ]
     },
     "execution_count": 18,
     "metadata": {},
     "output_type": "execute_result"
    }
   ],
   "source": [
    "## Checking the percentage of NA values again\n",
    "(df2.isna().sum())/df2.shape[0]*100"
   ]
  },
  {
   "cell_type": "code",
   "execution_count": 19,
   "metadata": {},
   "outputs": [
    {
     "name": "stderr",
     "output_type": "stream",
     "text": [
      "C:\\Users\\Dell laptop\\Anaconda3\\lib\\site-packages\\pandas\\core\\generic.py:5303: SettingWithCopyWarning: \n",
      "A value is trying to be set on a copy of a slice from a DataFrame.\n",
      "Try using .loc[row_indexer,col_indexer] = value instead\n",
      "\n",
      "See the caveats in the documentation: https://pandas.pydata.org/pandas-docs/stable/user_guide/indexing.html#returning-a-view-versus-a-copy\n",
      "  self[name] = value\n"
     ]
    }
   ],
   "source": [
    "## COnverting sales to log to avoid skewness.\n",
    "df2.Sales = np.log(1+df2.Sales)"
   ]
  },
  {
   "cell_type": "code",
   "execution_count": 20,
   "metadata": {},
   "outputs": [
    {
     "data": {
      "text/plain": [
       "<seaborn.axisgrid.JointGrid at 0x193c4efd278>"
      ]
     },
     "execution_count": 20,
     "metadata": {},
     "output_type": "execute_result"
    },
    {
     "data": {
      "image/png": "[encoded data removed]",
      "text/plain": [
       "<Figure size 432x432 with 3 Axes>"
      ]
     },
     "metadata": {
      "needs_background": "light"
     },
     "output_type": "display_data"
    }
   ],
   "source": [
    "## Plotting scatter plot graph for all the columns to see the possible outliers.\n",
    "sns.jointplot(x='GP Margin %', y='Default', data=df2)"
   ]
  },
  {
   "cell_type": "markdown",
   "metadata": {},
   "source": [
    "### Capping all the outlier values of each column to either the 5th percentile or the 95th percentile of the respective columns."
   ]
  },
  {
   "cell_type": "code",
   "execution_count": 21,
   "metadata": {},
   "outputs": [
    {
     "name": "stdout",
     "output_type": "stream",
     "text": [
      "5.467469227902784\n",
      "10.944037156954543\n"
     ]
    }
   ],
   "source": [
    "print(df2['Sales'].quantile(0.05))\n",
    "print(df2['Sales'].quantile(0.95))"
   ]
  },
  {
   "cell_type": "code",
   "execution_count": 22,
   "metadata": {},
   "outputs": [
    {
     "name": "stderr",
     "output_type": "stream",
     "text": [
      "C:\\Users\\Dell laptop\\Anaconda3\\lib\\site-packages\\ipykernel_launcher.py:1: SettingWithCopyWarning: \n",
      "A value is trying to be set on a copy of a slice from a DataFrame.\n",
      "Try using .loc[row_indexer,col_indexer] = value instead\n",
      "\n",
      "See the caveats in the documentation: https://pandas.pydata.org/pandas-docs/stable/user_guide/indexing.html#returning-a-view-versus-a-copy\n",
      "  \"\"\"Entry point for launching an IPython kernel.\n",
      "C:\\Users\\Dell laptop\\Anaconda3\\lib\\site-packages\\ipykernel_launcher.py:2: SettingWithCopyWarning: \n",
      "A value is trying to be set on a copy of a slice from a DataFrame.\n",
      "Try using .loc[row_indexer,col_indexer] = value instead\n",
      "\n",
      "See the caveats in the documentation: https://pandas.pydata.org/pandas-docs/stable/user_guide/indexing.html#returning-a-view-versus-a-copy\n",
      "  \n"
     ]
    }
   ],
   "source": [
    "df2['Sales'] = np.where(df2['Sales'] <5.467, 5.467,df2['Sales'])\n",
    "df2['Sales'] = np.where(df2['Sales'] >10.944, 10.944,df2['Sales'])"
   ]
  },
  {
   "cell_type": "code",
   "execution_count": 23,
   "metadata": {},
   "outputs": [
    {
     "name": "stdout",
     "output_type": "stream",
     "text": [
      "5.1240000000000006\n",
      "98.62\n"
     ]
    }
   ],
   "source": [
    "print(df2['GP Margin %'].quantile(0.05))\n",
    "print(df2['GP Margin %'].quantile(0.95))"
   ]
  },
  {
   "cell_type": "code",
   "execution_count": 24,
   "metadata": {},
   "outputs": [
    {
     "name": "stderr",
     "output_type": "stream",
     "text": [
      "C:\\Users\\Dell laptop\\Anaconda3\\lib\\site-packages\\ipykernel_launcher.py:1: SettingWithCopyWarning: \n",
      "A value is trying to be set on a copy of a slice from a DataFrame.\n",
      "Try using .loc[row_indexer,col_indexer] = value instead\n",
      "\n",
      "See the caveats in the documentation: https://pandas.pydata.org/pandas-docs/stable/user_guide/indexing.html#returning-a-view-versus-a-copy\n",
      "  \"\"\"Entry point for launching an IPython kernel.\n",
      "C:\\Users\\Dell laptop\\Anaconda3\\lib\\site-packages\\ipykernel_launcher.py:2: SettingWithCopyWarning: \n",
      "A value is trying to be set on a copy of a slice from a DataFrame.\n",
      "Try using .loc[row_indexer,col_indexer] = value instead\n",
      "\n",
      "See the caveats in the documentation: https://pandas.pydata.org/pandas-docs/stable/user_guide/indexing.html#returning-a-view-versus-a-copy\n",
      "  \n"
     ]
    }
   ],
   "source": [
    "df2['GP Margin %'] = np.where(df2['GP Margin %'] <5.12, 5.12,df2['GP Margin %'])\n",
    "df2['GP Margin %'] = np.where(df2['GP Margin %'] >98.62, 98.62,df2['GP Margin %'])"
   ]
  },
  {
   "cell_type": "code",
   "execution_count": 25,
   "metadata": {},
   "outputs": [
    {
     "name": "stdout",
     "output_type": "stream",
     "text": [
      "-0.8919999999999993\n",
      "54.835999999999956\n"
     ]
    }
   ],
   "source": [
    "print(df2['PBDIT Margin %'].quantile(0.05))\n",
    "print(df2['PBDIT Margin %'].quantile(0.95))"
   ]
  },
  {
   "cell_type": "code",
   "execution_count": 26,
   "metadata": {},
   "outputs": [
    {
     "name": "stderr",
     "output_type": "stream",
     "text": [
      "C:\\Users\\Dell laptop\\Anaconda3\\lib\\site-packages\\ipykernel_launcher.py:1: SettingWithCopyWarning: \n",
      "A value is trying to be set on a copy of a slice from a DataFrame.\n",
      "Try using .loc[row_indexer,col_indexer] = value instead\n",
      "\n",
      "See the caveats in the documentation: https://pandas.pydata.org/pandas-docs/stable/user_guide/indexing.html#returning-a-view-versus-a-copy\n",
      "  \"\"\"Entry point for launching an IPython kernel.\n",
      "C:\\Users\\Dell laptop\\Anaconda3\\lib\\site-packages\\ipykernel_launcher.py:2: SettingWithCopyWarning: \n",
      "A value is trying to be set on a copy of a slice from a DataFrame.\n",
      "Try using .loc[row_indexer,col_indexer] = value instead\n",
      "\n",
      "See the caveats in the documentation: https://pandas.pydata.org/pandas-docs/stable/user_guide/indexing.html#returning-a-view-versus-a-copy\n",
      "  \n"
     ]
    }
   ],
   "source": [
    "df2['PBDIT Margin %'] = np.where(df2['PBDIT Margin %'] <-0.892, -0.892,df2['PBDIT Margin %'])\n",
    "df2['PBDIT Margin %'] = np.where(df2['PBDIT Margin %'] >54.836, 54.836,df2['PBDIT Margin %'])"
   ]
  },
  {
   "cell_type": "code",
   "execution_count": 27,
   "metadata": {},
   "outputs": [
    {
     "name": "stdout",
     "output_type": "stream",
     "text": [
      "-23.971999999999998\n",
      "24.663999999999998\n"
     ]
    }
   ],
   "source": [
    "print(df2['PAT Margin %'].quantile(0.05))\n",
    "print(df2['PAT Margin %'].quantile(0.95))"
   ]
  },
  {
   "cell_type": "code",
   "execution_count": 28,
   "metadata": {},
   "outputs": [
    {
     "name": "stderr",
     "output_type": "stream",
     "text": [
      "C:\\Users\\Dell laptop\\Anaconda3\\lib\\site-packages\\ipykernel_launcher.py:1: SettingWithCopyWarning: \n",
      "A value is trying to be set on a copy of a slice from a DataFrame.\n",
      "Try using .loc[row_indexer,col_indexer] = value instead\n",
      "\n",
      "See the caveats in the documentation: https://pandas.pydata.org/pandas-docs/stable/user_guide/indexing.html#returning-a-view-versus-a-copy\n",
      "  \"\"\"Entry point for launching an IPython kernel.\n",
      "C:\\Users\\Dell laptop\\Anaconda3\\lib\\site-packages\\ipykernel_launcher.py:2: SettingWithCopyWarning: \n",
      "A value is trying to be set on a copy of a slice from a DataFrame.\n",
      "Try using .loc[row_indexer,col_indexer] = value instead\n",
      "\n",
      "See the caveats in the documentation: https://pandas.pydata.org/pandas-docs/stable/user_guide/indexing.html#returning-a-view-versus-a-copy\n",
      "  \n"
     ]
    }
   ],
   "source": [
    "df2['PAT Margin %'] = np.where(df2['PAT Margin %'] <-23.972, -23.972,df2['PAT Margin %'])\n",
    "df2['PAT Margin %'] = np.where(df2['PAT Margin %'] >24.664, 24.664,df2['PAT Margin %'])"
   ]
  },
  {
   "cell_type": "code",
   "execution_count": 29,
   "metadata": {},
   "outputs": [
    {
     "name": "stdout",
     "output_type": "stream",
     "text": [
      "-7.531999999999999\n",
      "39.53\n"
     ]
    }
   ],
   "source": [
    "print(df2['PBT Percentage %'].quantile(0.05))\n",
    "print(df2['PBT Percentage %'].quantile(0.95))"
   ]
  },
  {
   "cell_type": "code",
   "execution_count": 30,
   "metadata": {},
   "outputs": [
    {
     "name": "stderr",
     "output_type": "stream",
     "text": [
      "C:\\Users\\Dell laptop\\Anaconda3\\lib\\site-packages\\ipykernel_launcher.py:1: SettingWithCopyWarning: \n",
      "A value is trying to be set on a copy of a slice from a DataFrame.\n",
      "Try using .loc[row_indexer,col_indexer] = value instead\n",
      "\n",
      "See the caveats in the documentation: https://pandas.pydata.org/pandas-docs/stable/user_guide/indexing.html#returning-a-view-versus-a-copy\n",
      "  \"\"\"Entry point for launching an IPython kernel.\n",
      "C:\\Users\\Dell laptop\\Anaconda3\\lib\\site-packages\\ipykernel_launcher.py:2: SettingWithCopyWarning: \n",
      "A value is trying to be set on a copy of a slice from a DataFrame.\n",
      "Try using .loc[row_indexer,col_indexer] = value instead\n",
      "\n",
      "See the caveats in the documentation: https://pandas.pydata.org/pandas-docs/stable/user_guide/indexing.html#returning-a-view-versus-a-copy\n",
      "  \n"
     ]
    }
   ],
   "source": [
    "df2['PBT Percentage %'] = np.where(df2['PBT Percentage %'] <-7.532, -7.532,df2['PBT Percentage %'])\n",
    "df2['PBT Percentage %'] = np.where(df2['PBT Percentage %'] >39.53, 39.53,df2['PBT Percentage %'])"
   ]
  },
  {
   "cell_type": "code",
   "execution_count": 31,
   "metadata": {},
   "outputs": [
    {
     "name": "stdout",
     "output_type": "stream",
     "text": [
      "0.12\n",
      "2.04\n"
     ]
    }
   ],
   "source": [
    "print(df2['Quick ratio (times)'].quantile(0.05))\n",
    "print(df2['Quick ratio (times)'].quantile(0.95))"
   ]
  },
  {
   "cell_type": "code",
   "execution_count": 32,
   "metadata": {},
   "outputs": [
    {
     "name": "stderr",
     "output_type": "stream",
     "text": [
      "C:\\Users\\Dell laptop\\Anaconda3\\lib\\site-packages\\ipykernel_launcher.py:1: SettingWithCopyWarning: \n",
      "A value is trying to be set on a copy of a slice from a DataFrame.\n",
      "Try using .loc[row_indexer,col_indexer] = value instead\n",
      "\n",
      "See the caveats in the documentation: https://pandas.pydata.org/pandas-docs/stable/user_guide/indexing.html#returning-a-view-versus-a-copy\n",
      "  \"\"\"Entry point for launching an IPython kernel.\n",
      "C:\\Users\\Dell laptop\\Anaconda3\\lib\\site-packages\\ipykernel_launcher.py:2: SettingWithCopyWarning: \n",
      "A value is trying to be set on a copy of a slice from a DataFrame.\n",
      "Try using .loc[row_indexer,col_indexer] = value instead\n",
      "\n",
      "See the caveats in the documentation: https://pandas.pydata.org/pandas-docs/stable/user_guide/indexing.html#returning-a-view-versus-a-copy\n",
      "  \n"
     ]
    }
   ],
   "source": [
    "df2['Quick ratio (times)'] = np.where(df2['Quick ratio (times)'] <0.12, 0.12,df2['Quick ratio (times)'])\n",
    "df2['Quick ratio (times)'] = np.where(df2['Quick ratio (times)'] >2.04, 2.04,df2['Quick ratio (times)'])"
   ]
  },
  {
   "cell_type": "code",
   "execution_count": 33,
   "metadata": {},
   "outputs": [
    {
     "name": "stdout",
     "output_type": "stream",
     "text": [
      "0.41\n",
      "2.83\n"
     ]
    }
   ],
   "source": [
    "print(df2['Current ratio (times)'].quantile(0.05))\n",
    "print(df2['Current ratio (times)'].quantile(0.95))"
   ]
  },
  {
   "cell_type": "code",
   "execution_count": 34,
   "metadata": {},
   "outputs": [
    {
     "name": "stderr",
     "output_type": "stream",
     "text": [
      "C:\\Users\\Dell laptop\\Anaconda3\\lib\\site-packages\\ipykernel_launcher.py:1: SettingWithCopyWarning: \n",
      "A value is trying to be set on a copy of a slice from a DataFrame.\n",
      "Try using .loc[row_indexer,col_indexer] = value instead\n",
      "\n",
      "See the caveats in the documentation: https://pandas.pydata.org/pandas-docs/stable/user_guide/indexing.html#returning-a-view-versus-a-copy\n",
      "  \"\"\"Entry point for launching an IPython kernel.\n",
      "C:\\Users\\Dell laptop\\Anaconda3\\lib\\site-packages\\ipykernel_launcher.py:2: SettingWithCopyWarning: \n",
      "A value is trying to be set on a copy of a slice from a DataFrame.\n",
      "Try using .loc[row_indexer,col_indexer] = value instead\n",
      "\n",
      "See the caveats in the documentation: https://pandas.pydata.org/pandas-docs/stable/user_guide/indexing.html#returning-a-view-versus-a-copy\n",
      "  \n"
     ]
    }
   ],
   "source": [
    "df2['Current ratio (times)'] = np.where(df2['Current ratio (times)'] <0.41, 0.41,df2['Current ratio (times)'])\n",
    "df2['Current ratio (times)'] = np.where(df2['Current ratio (times)'] >2.83, 2.83,df2['Current ratio (times)'])"
   ]
  },
  {
   "cell_type": "code",
   "execution_count": 35,
   "metadata": {},
   "outputs": [
    {
     "name": "stdout",
     "output_type": "stream",
     "text": [
      "0.01\n",
      "6.236999999999998\n"
     ]
    }
   ],
   "source": [
    "print(df2['Debt to equity ratio (times)'].quantile(0.05))\n",
    "print(df2['Debt to equity ratio (times)'].quantile(0.95))"
   ]
  },
  {
   "cell_type": "code",
   "execution_count": 36,
   "metadata": {},
   "outputs": [
    {
     "name": "stderr",
     "output_type": "stream",
     "text": [
      "C:\\Users\\Dell laptop\\Anaconda3\\lib\\site-packages\\ipykernel_launcher.py:1: SettingWithCopyWarning: \n",
      "A value is trying to be set on a copy of a slice from a DataFrame.\n",
      "Try using .loc[row_indexer,col_indexer] = value instead\n",
      "\n",
      "See the caveats in the documentation: https://pandas.pydata.org/pandas-docs/stable/user_guide/indexing.html#returning-a-view-versus-a-copy\n",
      "  \"\"\"Entry point for launching an IPython kernel.\n",
      "C:\\Users\\Dell laptop\\Anaconda3\\lib\\site-packages\\ipykernel_launcher.py:2: SettingWithCopyWarning: \n",
      "A value is trying to be set on a copy of a slice from a DataFrame.\n",
      "Try using .loc[row_indexer,col_indexer] = value instead\n",
      "\n",
      "See the caveats in the documentation: https://pandas.pydata.org/pandas-docs/stable/user_guide/indexing.html#returning-a-view-versus-a-copy\n",
      "  \n"
     ]
    }
   ],
   "source": [
    "df2['Debt to equity ratio (times)'] = np.where(df2['Debt to equity ratio (times)'] <0.01, 0.01,df2['Debt to equity ratio (times)'])\n",
    "df2['Debt to equity ratio (times)'] = np.where(df2['Debt to equity ratio (times)'] >6.237, 6.237,df2['Debt to equity ratio (times)'])"
   ]
  },
  {
   "cell_type": "code",
   "execution_count": 37,
   "metadata": {},
   "outputs": [
    {
     "name": "stdout",
     "output_type": "stream",
     "text": [
      "0.5755000000000001\n",
      "57.811499999999995\n"
     ]
    }
   ],
   "source": [
    "print(df2['Interest cover (times)'].quantile(0.05))\n",
    "print(df2['Interest cover (times)'].quantile(0.95))"
   ]
  },
  {
   "cell_type": "code",
   "execution_count": 38,
   "metadata": {},
   "outputs": [
    {
     "name": "stderr",
     "output_type": "stream",
     "text": [
      "C:\\Users\\Dell laptop\\Anaconda3\\lib\\site-packages\\ipykernel_launcher.py:1: SettingWithCopyWarning: \n",
      "A value is trying to be set on a copy of a slice from a DataFrame.\n",
      "Try using .loc[row_indexer,col_indexer] = value instead\n",
      "\n",
      "See the caveats in the documentation: https://pandas.pydata.org/pandas-docs/stable/user_guide/indexing.html#returning-a-view-versus-a-copy\n",
      "  \"\"\"Entry point for launching an IPython kernel.\n",
      "C:\\Users\\Dell laptop\\Anaconda3\\lib\\site-packages\\ipykernel_launcher.py:2: SettingWithCopyWarning: \n",
      "A value is trying to be set on a copy of a slice from a DataFrame.\n",
      "Try using .loc[row_indexer,col_indexer] = value instead\n",
      "\n",
      "See the caveats in the documentation: https://pandas.pydata.org/pandas-docs/stable/user_guide/indexing.html#returning-a-view-versus-a-copy\n",
      "  \n"
     ]
    }
   ],
   "source": [
    "df2['Interest cover (times)'] = np.where(df2['Interest cover (times)'] <0.575, 0.575,df2['Interest cover (times)'])\n",
    "df2['Interest cover (times)'] = np.where(df2['Interest cover (times)'] >57.812, 57.812,df2['Interest cover (times)'])"
   ]
  },
  {
   "cell_type": "code",
   "execution_count": 39,
   "metadata": {},
   "outputs": [
    {
     "name": "stdout",
     "output_type": "stream",
     "text": [
      "15.0\n",
      "503.64999999999964\n"
     ]
    }
   ],
   "source": [
    "print(df2['Inventory Days'].quantile(0.05))\n",
    "print(df2['Inventory Days'].quantile(0.95))"
   ]
  },
  {
   "cell_type": "code",
   "execution_count": 40,
   "metadata": {},
   "outputs": [
    {
     "name": "stderr",
     "output_type": "stream",
     "text": [
      "C:\\Users\\Dell laptop\\Anaconda3\\lib\\site-packages\\ipykernel_launcher.py:1: SettingWithCopyWarning: \n",
      "A value is trying to be set on a copy of a slice from a DataFrame.\n",
      "Try using .loc[row_indexer,col_indexer] = value instead\n",
      "\n",
      "See the caveats in the documentation: https://pandas.pydata.org/pandas-docs/stable/user_guide/indexing.html#returning-a-view-versus-a-copy\n",
      "  \"\"\"Entry point for launching an IPython kernel.\n",
      "C:\\Users\\Dell laptop\\Anaconda3\\lib\\site-packages\\ipykernel_launcher.py:2: SettingWithCopyWarning: \n",
      "A value is trying to be set on a copy of a slice from a DataFrame.\n",
      "Try using .loc[row_indexer,col_indexer] = value instead\n",
      "\n",
      "See the caveats in the documentation: https://pandas.pydata.org/pandas-docs/stable/user_guide/indexing.html#returning-a-view-versus-a-copy\n",
      "  \n"
     ]
    }
   ],
   "source": [
    "df2['Inventory Days'] = np.where(df2['Inventory Days'] <15.0, 15.0,df2['Inventory Days'])\n",
    "df2['Inventory Days'] = np.where(df2['Inventory Days'] >503.649, 503.649,df2['Inventory Days'])"
   ]
  },
  {
   "cell_type": "code",
   "execution_count": 41,
   "metadata": {},
   "outputs": [
    {
     "name": "stdout",
     "output_type": "stream",
     "text": [
      "8.0\n",
      "223.0\n"
     ]
    }
   ],
   "source": [
    "print(df2['Debtor days (days)'].quantile(0.05))\n",
    "print(df2['Debtor days (days)'].quantile(0.95))"
   ]
  },
  {
   "cell_type": "code",
   "execution_count": 42,
   "metadata": {},
   "outputs": [
    {
     "name": "stderr",
     "output_type": "stream",
     "text": [
      "C:\\Users\\Dell laptop\\Anaconda3\\lib\\site-packages\\ipykernel_launcher.py:1: SettingWithCopyWarning: \n",
      "A value is trying to be set on a copy of a slice from a DataFrame.\n",
      "Try using .loc[row_indexer,col_indexer] = value instead\n",
      "\n",
      "See the caveats in the documentation: https://pandas.pydata.org/pandas-docs/stable/user_guide/indexing.html#returning-a-view-versus-a-copy\n",
      "  \"\"\"Entry point for launching an IPython kernel.\n",
      "C:\\Users\\Dell laptop\\Anaconda3\\lib\\site-packages\\ipykernel_launcher.py:2: SettingWithCopyWarning: \n",
      "A value is trying to be set on a copy of a slice from a DataFrame.\n",
      "Try using .loc[row_indexer,col_indexer] = value instead\n",
      "\n",
      "See the caveats in the documentation: https://pandas.pydata.org/pandas-docs/stable/user_guide/indexing.html#returning-a-view-versus-a-copy\n",
      "  \n"
     ]
    }
   ],
   "source": [
    "df2['Debtor days (days)'] = np.where(df2['Debtor days (days)'] <8.0, 8.0,df2['Debtor days (days)'])\n",
    "df2['Debtor days (days)'] = np.where(df2['Debtor days (days)'] >223.0, 223.0,df2['Debtor days (days)'])"
   ]
  },
  {
   "cell_type": "code",
   "execution_count": 43,
   "metadata": {},
   "outputs": [
    {
     "name": "stdout",
     "output_type": "stream",
     "text": [
      "37.0\n",
      "748.0\n"
     ]
    }
   ],
   "source": [
    "print(df2['Gross working capital cycle (days)'].quantile(0.05))\n",
    "print(df2['Gross working capital cycle (days)'].quantile(0.95))"
   ]
  },
  {
   "cell_type": "code",
   "execution_count": 44,
   "metadata": {},
   "outputs": [
    {
     "name": "stderr",
     "output_type": "stream",
     "text": [
      "C:\\Users\\Dell laptop\\Anaconda3\\lib\\site-packages\\ipykernel_launcher.py:1: SettingWithCopyWarning: \n",
      "A value is trying to be set on a copy of a slice from a DataFrame.\n",
      "Try using .loc[row_indexer,col_indexer] = value instead\n",
      "\n",
      "See the caveats in the documentation: https://pandas.pydata.org/pandas-docs/stable/user_guide/indexing.html#returning-a-view-versus-a-copy\n",
      "  \"\"\"Entry point for launching an IPython kernel.\n",
      "C:\\Users\\Dell laptop\\Anaconda3\\lib\\site-packages\\ipykernel_launcher.py:2: SettingWithCopyWarning: \n",
      "A value is trying to be set on a copy of a slice from a DataFrame.\n",
      "Try using .loc[row_indexer,col_indexer] = value instead\n",
      "\n",
      "See the caveats in the documentation: https://pandas.pydata.org/pandas-docs/stable/user_guide/indexing.html#returning-a-view-versus-a-copy\n",
      "  \n"
     ]
    }
   ],
   "source": [
    "df2['Gross working capital cycle (days)'] = np.where(df2['Gross working capital cycle (days)'] <37.0, 37.0,df2['Gross working capital cycle (days)'])\n",
    "df2['Gross working capital cycle (days)'] = np.where(df2['Gross working capital cycle (days)'] >748.0, 748.0,df2['Gross working capital cycle (days)'])"
   ]
  },
  {
   "cell_type": "code",
   "execution_count": 45,
   "metadata": {},
   "outputs": [
    {
     "name": "stdout",
     "output_type": "stream",
     "text": [
      "8.0\n",
      "534.5999999999985\n"
     ]
    }
   ],
   "source": [
    "print(df2['Creditor days (days)'].quantile(0.05))\n",
    "print(df2['Creditor days (days)'].quantile(0.95))"
   ]
  },
  {
   "cell_type": "code",
   "execution_count": 46,
   "metadata": {},
   "outputs": [
    {
     "name": "stderr",
     "output_type": "stream",
     "text": [
      "C:\\Users\\Dell laptop\\Anaconda3\\lib\\site-packages\\ipykernel_launcher.py:1: SettingWithCopyWarning: \n",
      "A value is trying to be set on a copy of a slice from a DataFrame.\n",
      "Try using .loc[row_indexer,col_indexer] = value instead\n",
      "\n",
      "See the caveats in the documentation: https://pandas.pydata.org/pandas-docs/stable/user_guide/indexing.html#returning-a-view-versus-a-copy\n",
      "  \"\"\"Entry point for launching an IPython kernel.\n",
      "C:\\Users\\Dell laptop\\Anaconda3\\lib\\site-packages\\ipykernel_launcher.py:2: SettingWithCopyWarning: \n",
      "A value is trying to be set on a copy of a slice from a DataFrame.\n",
      "Try using .loc[row_indexer,col_indexer] = value instead\n",
      "\n",
      "See the caveats in the documentation: https://pandas.pydata.org/pandas-docs/stable/user_guide/indexing.html#returning-a-view-versus-a-copy\n",
      "  \n"
     ]
    }
   ],
   "source": [
    "df2['Creditor days (days)'] = np.where(df2['Creditor days (days)'] <8.0, 8.0,df2['Creditor days (days)'])\n",
    "df2['Creditor days (days)'] = np.where(df2['Creditor days (days)'] >534.56, 534.56,df2['Creditor days (days)'])"
   ]
  },
  {
   "cell_type": "code",
   "execution_count": 47,
   "metadata": {},
   "outputs": [
    {
     "name": "stdout",
     "output_type": "stream",
     "text": [
      "-185.0\n",
      "493.1999999999989\n"
     ]
    }
   ],
   "source": [
    "print(df2['Net working capital cycle (days)'].quantile(0.05))\n",
    "print(df2['Net working capital cycle (days)'].quantile(0.95))"
   ]
  },
  {
   "cell_type": "code",
   "execution_count": 48,
   "metadata": {},
   "outputs": [
    {
     "name": "stderr",
     "output_type": "stream",
     "text": [
      "C:\\Users\\Dell laptop\\Anaconda3\\lib\\site-packages\\ipykernel_launcher.py:1: SettingWithCopyWarning: \n",
      "A value is trying to be set on a copy of a slice from a DataFrame.\n",
      "Try using .loc[row_indexer,col_indexer] = value instead\n",
      "\n",
      "See the caveats in the documentation: https://pandas.pydata.org/pandas-docs/stable/user_guide/indexing.html#returning-a-view-versus-a-copy\n",
      "  \"\"\"Entry point for launching an IPython kernel.\n",
      "C:\\Users\\Dell laptop\\Anaconda3\\lib\\site-packages\\ipykernel_launcher.py:2: SettingWithCopyWarning: \n",
      "A value is trying to be set on a copy of a slice from a DataFrame.\n",
      "Try using .loc[row_indexer,col_indexer] = value instead\n",
      "\n",
      "See the caveats in the documentation: https://pandas.pydata.org/pandas-docs/stable/user_guide/indexing.html#returning-a-view-versus-a-copy\n",
      "  \n"
     ]
    }
   ],
   "source": [
    "df2['Net working capital cycle (days)'] = np.where(df2['Net working capital cycle (days)'] <-185.0, -185.0,df2['Net working capital cycle (days)'])\n",
    "df2['Net working capital cycle (days)'] = np.where(df2['Net working capital cycle (days)'] >439.12, 439.12,df2['Net working capital cycle (days)'])"
   ]
  },
  {
   "cell_type": "code",
   "execution_count": 49,
   "metadata": {},
   "outputs": [
    {
     "name": "stdout",
     "output_type": "stream",
     "text": [
      "0.12\n",
      "3.35\n"
     ]
    }
   ],
   "source": [
    "print(df2['Total Income/Total asset'].quantile(0.05))\n",
    "print(df2['Total Income/Total asset'].quantile(0.95))"
   ]
  },
  {
   "cell_type": "code",
   "execution_count": 50,
   "metadata": {},
   "outputs": [
    {
     "name": "stderr",
     "output_type": "stream",
     "text": [
      "C:\\Users\\Dell laptop\\Anaconda3\\lib\\site-packages\\ipykernel_launcher.py:1: SettingWithCopyWarning: \n",
      "A value is trying to be set on a copy of a slice from a DataFrame.\n",
      "Try using .loc[row_indexer,col_indexer] = value instead\n",
      "\n",
      "See the caveats in the documentation: https://pandas.pydata.org/pandas-docs/stable/user_guide/indexing.html#returning-a-view-versus-a-copy\n",
      "  \"\"\"Entry point for launching an IPython kernel.\n",
      "C:\\Users\\Dell laptop\\Anaconda3\\lib\\site-packages\\ipykernel_launcher.py:2: SettingWithCopyWarning: \n",
      "A value is trying to be set on a copy of a slice from a DataFrame.\n",
      "Try using .loc[row_indexer,col_indexer] = value instead\n",
      "\n",
      "See the caveats in the documentation: https://pandas.pydata.org/pandas-docs/stable/user_guide/indexing.html#returning-a-view-versus-a-copy\n",
      "  \n"
     ]
    }
   ],
   "source": [
    "df2['Total Income/Total asset'] = np.where(df2['Total Income/Total asset'] <0.12, 0.12,df2['Total Income/Total asset'])\n",
    "df2['Total Income/Total asset'] = np.where(df2['Total Income/Total asset'] >3.35, 3.35,df2['Total Income/Total asset'])"
   ]
  },
  {
   "cell_type": "code",
   "execution_count": 51,
   "metadata": {},
   "outputs": [
    {
     "name": "stdout",
     "output_type": "stream",
     "text": [
      "2.7545\n",
      "212.09349999999986\n"
     ]
    }
   ],
   "source": [
    "print(df2['Total Income/ Compansation to employees'].quantile(0.05))\n",
    "print(df2['Total Income/ Compansation to employees'].quantile(0.95))"
   ]
  },
  {
   "cell_type": "code",
   "execution_count": 52,
   "metadata": {},
   "outputs": [
    {
     "name": "stderr",
     "output_type": "stream",
     "text": [
      "C:\\Users\\Dell laptop\\Anaconda3\\lib\\site-packages\\ipykernel_launcher.py:1: SettingWithCopyWarning: \n",
      "A value is trying to be set on a copy of a slice from a DataFrame.\n",
      "Try using .loc[row_indexer,col_indexer] = value instead\n",
      "\n",
      "See the caveats in the documentation: https://pandas.pydata.org/pandas-docs/stable/user_guide/indexing.html#returning-a-view-versus-a-copy\n",
      "  \"\"\"Entry point for launching an IPython kernel.\n",
      "C:\\Users\\Dell laptop\\Anaconda3\\lib\\site-packages\\ipykernel_launcher.py:2: SettingWithCopyWarning: \n",
      "A value is trying to be set on a copy of a slice from a DataFrame.\n",
      "Try using .loc[row_indexer,col_indexer] = value instead\n",
      "\n",
      "See the caveats in the documentation: https://pandas.pydata.org/pandas-docs/stable/user_guide/indexing.html#returning-a-view-versus-a-copy\n",
      "  \n"
     ]
    }
   ],
   "source": [
    "df2['Total Income/ Compansation to employees'] = np.where(df2['Total Income/ Compansation to employees'] <2.7545, 2.7545,df2['Total Income/ Compansation to employees'])\n",
    "df2['Total Income/ Compansation to employees'] = np.where(df2['Total Income/ Compansation to employees'] >212.094, 212.094,df2['Total Income/ Compansation to employees'])"
   ]
  },
  {
   "cell_type": "code",
   "execution_count": 53,
   "metadata": {},
   "outputs": [
    {
     "name": "stdout",
     "output_type": "stream",
     "text": [
      "0.27\n",
      "42.55700000000001\n"
     ]
    }
   ],
   "source": [
    "print(df2['Sales / GFA'].quantile(0.05))\n",
    "print(df2['Sales / GFA'].quantile(0.95))"
   ]
  },
  {
   "cell_type": "code",
   "execution_count": 54,
   "metadata": {},
   "outputs": [
    {
     "name": "stderr",
     "output_type": "stream",
     "text": [
      "C:\\Users\\Dell laptop\\Anaconda3\\lib\\site-packages\\ipykernel_launcher.py:1: SettingWithCopyWarning: \n",
      "A value is trying to be set on a copy of a slice from a DataFrame.\n",
      "Try using .loc[row_indexer,col_indexer] = value instead\n",
      "\n",
      "See the caveats in the documentation: https://pandas.pydata.org/pandas-docs/stable/user_guide/indexing.html#returning-a-view-versus-a-copy\n",
      "  \"\"\"Entry point for launching an IPython kernel.\n",
      "C:\\Users\\Dell laptop\\Anaconda3\\lib\\site-packages\\ipykernel_launcher.py:2: SettingWithCopyWarning: \n",
      "A value is trying to be set on a copy of a slice from a DataFrame.\n",
      "Try using .loc[row_indexer,col_indexer] = value instead\n",
      "\n",
      "See the caveats in the documentation: https://pandas.pydata.org/pandas-docs/stable/user_guide/indexing.html#returning-a-view-versus-a-copy\n",
      "  \n"
     ]
    }
   ],
   "source": [
    "df2['Sales / GFA'] = np.where(df2['Sales / GFA'] <0.27, 0.27,df2['Sales / GFA'])\n",
    "df2['Sales / GFA'] = np.where(df2['Sales / GFA'] >42.557, 42.557,df2['Sales / GFA'])"
   ]
  },
  {
   "cell_type": "code",
   "execution_count": 55,
   "metadata": {},
   "outputs": [
    {
     "name": "stdout",
     "output_type": "stream",
     "text": [
      "0.34\n",
      "76.53600000000004\n"
     ]
    }
   ],
   "source": [
    "print(df2['Sales / net fixed Assets'].quantile(0.05))\n",
    "print(df2['Sales / net fixed Assets'].quantile(0.95))"
   ]
  },
  {
   "cell_type": "code",
   "execution_count": 56,
   "metadata": {},
   "outputs": [
    {
     "name": "stderr",
     "output_type": "stream",
     "text": [
      "C:\\Users\\Dell laptop\\Anaconda3\\lib\\site-packages\\ipykernel_launcher.py:1: SettingWithCopyWarning: \n",
      "A value is trying to be set on a copy of a slice from a DataFrame.\n",
      "Try using .loc[row_indexer,col_indexer] = value instead\n",
      "\n",
      "See the caveats in the documentation: https://pandas.pydata.org/pandas-docs/stable/user_guide/indexing.html#returning-a-view-versus-a-copy\n",
      "  \"\"\"Entry point for launching an IPython kernel.\n",
      "C:\\Users\\Dell laptop\\Anaconda3\\lib\\site-packages\\ipykernel_launcher.py:2: SettingWithCopyWarning: \n",
      "A value is trying to be set on a copy of a slice from a DataFrame.\n",
      "Try using .loc[row_indexer,col_indexer] = value instead\n",
      "\n",
      "See the caveats in the documentation: https://pandas.pydata.org/pandas-docs/stable/user_guide/indexing.html#returning-a-view-versus-a-copy\n",
      "  \n"
     ]
    }
   ],
   "source": [
    "df2['Sales / net fixed Assets'] = np.where(df2['Sales / net fixed Assets'] <0.34, 0.34,df2['Sales / net fixed Assets'])\n",
    "df2['Sales / net fixed Assets'] = np.where(df2['Sales / net fixed Assets'] >76.536, 76.536,df2['Sales / net fixed Assets'])"
   ]
  },
  {
   "cell_type": "code",
   "execution_count": 57,
   "metadata": {},
   "outputs": [
    {
     "name": "stdout",
     "output_type": "stream",
     "text": [
      "0.0\n",
      "13.73\n"
     ]
    }
   ],
   "source": [
    "print(df2['Debt/EBIT'].quantile(0.05))\n",
    "print(df2['Debt/EBIT'].quantile(0.95))"
   ]
  },
  {
   "cell_type": "code",
   "execution_count": 58,
   "metadata": {},
   "outputs": [
    {
     "name": "stderr",
     "output_type": "stream",
     "text": [
      "C:\\Users\\Dell laptop\\Anaconda3\\lib\\site-packages\\ipykernel_launcher.py:1: SettingWithCopyWarning: \n",
      "A value is trying to be set on a copy of a slice from a DataFrame.\n",
      "Try using .loc[row_indexer,col_indexer] = value instead\n",
      "\n",
      "See the caveats in the documentation: https://pandas.pydata.org/pandas-docs/stable/user_guide/indexing.html#returning-a-view-versus-a-copy\n",
      "  \"\"\"Entry point for launching an IPython kernel.\n",
      "C:\\Users\\Dell laptop\\Anaconda3\\lib\\site-packages\\ipykernel_launcher.py:2: SettingWithCopyWarning: \n",
      "A value is trying to be set on a copy of a slice from a DataFrame.\n",
      "Try using .loc[row_indexer,col_indexer] = value instead\n",
      "\n",
      "See the caveats in the documentation: https://pandas.pydata.org/pandas-docs/stable/user_guide/indexing.html#returning-a-view-versus-a-copy\n",
      "  \n"
     ]
    }
   ],
   "source": [
    "df2['Debt/EBIT'] = np.where(df2['Debt/EBIT'] <0.0, 0.0,df2['Debt/EBIT'])\n",
    "df2['Debt/EBIT'] = np.where(df2['Debt/EBIT'] >13.73, 13.73,df2['Debt/EBIT'])"
   ]
  },
  {
   "cell_type": "code",
   "execution_count": 59,
   "metadata": {},
   "outputs": [
    {
     "name": "stdout",
     "output_type": "stream",
     "text": [
      "1.16\n",
      "10.97\n"
     ]
    }
   ],
   "source": [
    "print(df2['Total Outside liability/ Total Net Worth'].quantile(0.05))\n",
    "print(df2['Total Outside liability/ Total Net Worth'].quantile(0.95))"
   ]
  },
  {
   "cell_type": "code",
   "execution_count": 60,
   "metadata": {},
   "outputs": [
    {
     "name": "stderr",
     "output_type": "stream",
     "text": [
      "C:\\Users\\Dell laptop\\Anaconda3\\lib\\site-packages\\ipykernel_launcher.py:1: SettingWithCopyWarning: \n",
      "A value is trying to be set on a copy of a slice from a DataFrame.\n",
      "Try using .loc[row_indexer,col_indexer] = value instead\n",
      "\n",
      "See the caveats in the documentation: https://pandas.pydata.org/pandas-docs/stable/user_guide/indexing.html#returning-a-view-versus-a-copy\n",
      "  \"\"\"Entry point for launching an IPython kernel.\n",
      "C:\\Users\\Dell laptop\\Anaconda3\\lib\\site-packages\\ipykernel_launcher.py:2: SettingWithCopyWarning: \n",
      "A value is trying to be set on a copy of a slice from a DataFrame.\n",
      "Try using .loc[row_indexer,col_indexer] = value instead\n",
      "\n",
      "See the caveats in the documentation: https://pandas.pydata.org/pandas-docs/stable/user_guide/indexing.html#returning-a-view-versus-a-copy\n",
      "  \n"
     ]
    }
   ],
   "source": [
    "df2['Total Outside liability/ Total Net Worth'] = np.where(df2['Total Outside liability/ Total Net Worth'] <1.16, 1.16,df2['Total Outside liability/ Total Net Worth'])\n",
    "df2['Total Outside liability/ Total Net Worth'] = np.where(df2['Total Outside liability/ Total Net Worth'] >10.97, 10.97,df2['Total Outside liability/ Total Net Worth'])"
   ]
  },
  {
   "cell_type": "code",
   "execution_count": 61,
   "metadata": {},
   "outputs": [
    {
     "name": "stdout",
     "output_type": "stream",
     "text": [
      "-37.534\n",
      "36.45399999999998\n"
     ]
    }
   ],
   "source": [
    "print(df2['Return on net worth'].quantile(0.05))\n",
    "print(df2['Return on net worth'].quantile(0.95))"
   ]
  },
  {
   "cell_type": "code",
   "execution_count": 62,
   "metadata": {},
   "outputs": [
    {
     "name": "stderr",
     "output_type": "stream",
     "text": [
      "C:\\Users\\Dell laptop\\Anaconda3\\lib\\site-packages\\ipykernel_launcher.py:1: SettingWithCopyWarning: \n",
      "A value is trying to be set on a copy of a slice from a DataFrame.\n",
      "Try using .loc[row_indexer,col_indexer] = value instead\n",
      "\n",
      "See the caveats in the documentation: https://pandas.pydata.org/pandas-docs/stable/user_guide/indexing.html#returning-a-view-versus-a-copy\n",
      "  \"\"\"Entry point for launching an IPython kernel.\n",
      "C:\\Users\\Dell laptop\\Anaconda3\\lib\\site-packages\\ipykernel_launcher.py:2: SettingWithCopyWarning: \n",
      "A value is trying to be set on a copy of a slice from a DataFrame.\n",
      "Try using .loc[row_indexer,col_indexer] = value instead\n",
      "\n",
      "See the caveats in the documentation: https://pandas.pydata.org/pandas-docs/stable/user_guide/indexing.html#returning-a-view-versus-a-copy\n",
      "  \n"
     ]
    }
   ],
   "source": [
    "df2['Return on net worth'] = np.where(df2['Return on net worth'] <-37.534, -37.534,df2['Return on net worth'])\n",
    "df2['Return on net worth'] = np.where(df2['Return on net worth'] >36.454, 36.454,df2['Return on net worth'])"
   ]
  },
  {
   "cell_type": "code",
   "execution_count": 63,
   "metadata": {},
   "outputs": [
    {
     "name": "stdout",
     "output_type": "stream",
     "text": [
      "-9.62\n",
      "14.013999999999996\n"
     ]
    }
   ],
   "source": [
    "print(df2['Return on total assets'].quantile(0.05))\n",
    "print(df2['Return on total assets'].quantile(0.95))"
   ]
  },
  {
   "cell_type": "code",
   "execution_count": 64,
   "metadata": {},
   "outputs": [
    {
     "name": "stderr",
     "output_type": "stream",
     "text": [
      "C:\\Users\\Dell laptop\\Anaconda3\\lib\\site-packages\\ipykernel_launcher.py:1: SettingWithCopyWarning: \n",
      "A value is trying to be set on a copy of a slice from a DataFrame.\n",
      "Try using .loc[row_indexer,col_indexer] = value instead\n",
      "\n",
      "See the caveats in the documentation: https://pandas.pydata.org/pandas-docs/stable/user_guide/indexing.html#returning-a-view-versus-a-copy\n",
      "  \"\"\"Entry point for launching an IPython kernel.\n",
      "C:\\Users\\Dell laptop\\Anaconda3\\lib\\site-packages\\ipykernel_launcher.py:2: SettingWithCopyWarning: \n",
      "A value is trying to be set on a copy of a slice from a DataFrame.\n",
      "Try using .loc[row_indexer,col_indexer] = value instead\n",
      "\n",
      "See the caveats in the documentation: https://pandas.pydata.org/pandas-docs/stable/user_guide/indexing.html#returning-a-view-versus-a-copy\n",
      "  \n"
     ]
    }
   ],
   "source": [
    "df2['Return on total assets'] = np.where(df2['Return on total assets'] <-9.62, -9.62,df2['Return on total assets'])\n",
    "df2['Return on total assets'] = np.where(df2['Return on total assets'] >14.014, 14.014,df2['Return on total assets'])"
   ]
  },
  {
   "cell_type": "markdown",
   "metadata": {},
   "source": [
    "### Imputing the missing values with KNN algorithm for all the columns that has missing values"
   ]
  },
  {
   "cell_type": "code",
   "execution_count": 65,
   "metadata": {},
   "outputs": [
    {
     "name": "stderr",
     "output_type": "stream",
     "text": [
      "C:\\Users\\Dell laptop\\Anaconda3\\lib\\site-packages\\ipykernel_launcher.py:4: SettingWithCopyWarning: \n",
      "A value is trying to be set on a copy of a slice from a DataFrame.\n",
      "Try using .loc[row_indexer,col_indexer] = value instead\n",
      "\n",
      "See the caveats in the documentation: https://pandas.pydata.org/pandas-docs/stable/user_guide/indexing.html#returning-a-view-versus-a-copy\n",
      "  after removing the cwd from sys.path.\n"
     ]
    }
   ],
   "source": [
    "from sklearn.impute import KNNImputer\n",
    "imputer = KNNImputer(n_neighbors=2)\n",
    "df2_filled = imputer.fit_transform(df2[['Quick ratio (times)']])\n",
    "df2['Quick ratio (times)']=df2_filled"
   ]
  },
  {
   "cell_type": "code",
   "execution_count": 66,
   "metadata": {},
   "outputs": [
    {
     "name": "stderr",
     "output_type": "stream",
     "text": [
      "C:\\Users\\Dell laptop\\Anaconda3\\lib\\site-packages\\ipykernel_launcher.py:3: SettingWithCopyWarning: \n",
      "A value is trying to be set on a copy of a slice from a DataFrame.\n",
      "Try using .loc[row_indexer,col_indexer] = value instead\n",
      "\n",
      "See the caveats in the documentation: https://pandas.pydata.org/pandas-docs/stable/user_guide/indexing.html#returning-a-view-versus-a-copy\n",
      "  This is separate from the ipykernel package so we can avoid doing imports until\n"
     ]
    }
   ],
   "source": [
    "imputer2 = KNNImputer(n_neighbors=2)\n",
    "df2_filled2 = imputer2.fit_transform(df2[['Current ratio (times)']])\n",
    "df2['Current ratio (times)']=df2_filled2"
   ]
  },
  {
   "cell_type": "code",
   "execution_count": 67,
   "metadata": {},
   "outputs": [
    {
     "name": "stderr",
     "output_type": "stream",
     "text": [
      "C:\\Users\\Dell laptop\\Anaconda3\\lib\\site-packages\\ipykernel_launcher.py:3: SettingWithCopyWarning: \n",
      "A value is trying to be set on a copy of a slice from a DataFrame.\n",
      "Try using .loc[row_indexer,col_indexer] = value instead\n",
      "\n",
      "See the caveats in the documentation: https://pandas.pydata.org/pandas-docs/stable/user_guide/indexing.html#returning-a-view-versus-a-copy\n",
      "  This is separate from the ipykernel package so we can avoid doing imports until\n"
     ]
    }
   ],
   "source": [
    "imputer3 = KNNImputer(n_neighbors=2)\n",
    "df2_filled3 = imputer3.fit_transform(df2[['Debt to equity ratio (times)']])\n",
    "df2['Debt to equity ratio (times)']=df2_filled3"
   ]
  },
  {
   "cell_type": "code",
   "execution_count": 68,
   "metadata": {},
   "outputs": [
    {
     "name": "stderr",
     "output_type": "stream",
     "text": [
      "C:\\Users\\Dell laptop\\Anaconda3\\lib\\site-packages\\ipykernel_launcher.py:3: SettingWithCopyWarning: \n",
      "A value is trying to be set on a copy of a slice from a DataFrame.\n",
      "Try using .loc[row_indexer,col_indexer] = value instead\n",
      "\n",
      "See the caveats in the documentation: https://pandas.pydata.org/pandas-docs/stable/user_guide/indexing.html#returning-a-view-versus-a-copy\n",
      "  This is separate from the ipykernel package so we can avoid doing imports until\n"
     ]
    }
   ],
   "source": [
    "imputer4 = KNNImputer(n_neighbors=2)\n",
    "df2_filled4 = imputer4.fit_transform(df2[['Interest cover (times)']])\n",
    "df2['Interest cover (times)']=df2_filled4"
   ]
  },
  {
   "cell_type": "code",
   "execution_count": 69,
   "metadata": {},
   "outputs": [
    {
     "name": "stderr",
     "output_type": "stream",
     "text": [
      "C:\\Users\\Dell laptop\\Anaconda3\\lib\\site-packages\\ipykernel_launcher.py:3: SettingWithCopyWarning: \n",
      "A value is trying to be set on a copy of a slice from a DataFrame.\n",
      "Try using .loc[row_indexer,col_indexer] = value instead\n",
      "\n",
      "See the caveats in the documentation: https://pandas.pydata.org/pandas-docs/stable/user_guide/indexing.html#returning-a-view-versus-a-copy\n",
      "  This is separate from the ipykernel package so we can avoid doing imports until\n"
     ]
    }
   ],
   "source": [
    "imputer5 = KNNImputer(n_neighbors=2)\n",
    "df2_filled5 = imputer5.fit_transform(df2[['Inventory Days']])\n",
    "df2['Inventory Days']=df2_filled5"
   ]
  },
  {
   "cell_type": "code",
   "execution_count": 70,
   "metadata": {},
   "outputs": [
    {
     "name": "stderr",
     "output_type": "stream",
     "text": [
      "C:\\Users\\Dell laptop\\Anaconda3\\lib\\site-packages\\ipykernel_launcher.py:3: SettingWithCopyWarning: \n",
      "A value is trying to be set on a copy of a slice from a DataFrame.\n",
      "Try using .loc[row_indexer,col_indexer] = value instead\n",
      "\n",
      "See the caveats in the documentation: https://pandas.pydata.org/pandas-docs/stable/user_guide/indexing.html#returning-a-view-versus-a-copy\n",
      "  This is separate from the ipykernel package so we can avoid doing imports until\n"
     ]
    }
   ],
   "source": [
    "imputer6 = KNNImputer(n_neighbors=2)\n",
    "df2_filled6 = imputer6.fit_transform(df2[['Debtor days (days)']])\n",
    "df2['Debtor days (days)']=df2_filled6"
   ]
  },
  {
   "cell_type": "code",
   "execution_count": 71,
   "metadata": {},
   "outputs": [
    {
     "name": "stderr",
     "output_type": "stream",
     "text": [
      "C:\\Users\\Dell laptop\\Anaconda3\\lib\\site-packages\\ipykernel_launcher.py:3: SettingWithCopyWarning: \n",
      "A value is trying to be set on a copy of a slice from a DataFrame.\n",
      "Try using .loc[row_indexer,col_indexer] = value instead\n",
      "\n",
      "See the caveats in the documentation: https://pandas.pydata.org/pandas-docs/stable/user_guide/indexing.html#returning-a-view-versus-a-copy\n",
      "  This is separate from the ipykernel package so we can avoid doing imports until\n"
     ]
    }
   ],
   "source": [
    "imputer7 = KNNImputer(n_neighbors=2)\n",
    "df2_filled7 = imputer7.fit_transform(df2[['Gross working capital cycle (days)']])\n",
    "df2['Gross working capital cycle (days)']=df2_filled7"
   ]
  },
  {
   "cell_type": "code",
   "execution_count": 72,
   "metadata": {},
   "outputs": [
    {
     "name": "stderr",
     "output_type": "stream",
     "text": [
      "C:\\Users\\Dell laptop\\Anaconda3\\lib\\site-packages\\ipykernel_launcher.py:3: SettingWithCopyWarning: \n",
      "A value is trying to be set on a copy of a slice from a DataFrame.\n",
      "Try using .loc[row_indexer,col_indexer] = value instead\n",
      "\n",
      "See the caveats in the documentation: https://pandas.pydata.org/pandas-docs/stable/user_guide/indexing.html#returning-a-view-versus-a-copy\n",
      "  This is separate from the ipykernel package so we can avoid doing imports until\n"
     ]
    }
   ],
   "source": [
    "imputer8 = KNNImputer(n_neighbors=2)\n",
    "df2_filled8 = imputer8.fit_transform(df2[['Creditor days (days)']])\n",
    "df2['Creditor days (days)']=df2_filled8"
   ]
  },
  {
   "cell_type": "code",
   "execution_count": 73,
   "metadata": {},
   "outputs": [
    {
     "name": "stderr",
     "output_type": "stream",
     "text": [
      "C:\\Users\\Dell laptop\\Anaconda3\\lib\\site-packages\\ipykernel_launcher.py:3: SettingWithCopyWarning: \n",
      "A value is trying to be set on a copy of a slice from a DataFrame.\n",
      "Try using .loc[row_indexer,col_indexer] = value instead\n",
      "\n",
      "See the caveats in the documentation: https://pandas.pydata.org/pandas-docs/stable/user_guide/indexing.html#returning-a-view-versus-a-copy\n",
      "  This is separate from the ipykernel package so we can avoid doing imports until\n"
     ]
    }
   ],
   "source": [
    "imputer9 = KNNImputer(n_neighbors=2)\n",
    "df2_filled9 = imputer9.fit_transform(df2[['Net working capital cycle (days)']])\n",
    "df2['Net working capital cycle (days)']=df2_filled9"
   ]
  },
  {
   "cell_type": "code",
   "execution_count": 74,
   "metadata": {},
   "outputs": [
    {
     "name": "stderr",
     "output_type": "stream",
     "text": [
      "C:\\Users\\Dell laptop\\Anaconda3\\lib\\site-packages\\ipykernel_launcher.py:3: SettingWithCopyWarning: \n",
      "A value is trying to be set on a copy of a slice from a DataFrame.\n",
      "Try using .loc[row_indexer,col_indexer] = value instead\n",
      "\n",
      "See the caveats in the documentation: https://pandas.pydata.org/pandas-docs/stable/user_guide/indexing.html#returning-a-view-versus-a-copy\n",
      "  This is separate from the ipykernel package so we can avoid doing imports until\n"
     ]
    }
   ],
   "source": [
    "imputer10 = KNNImputer(n_neighbors=2)\n",
    "df2_filled10 = imputer10.fit_transform(df2[['Total Income/ Compansation to employees']])\n",
    "df2['Total Income/ Compansation to employees']=df2_filled10"
   ]
  },
  {
   "cell_type": "code",
   "execution_count": 75,
   "metadata": {},
   "outputs": [
    {
     "name": "stderr",
     "output_type": "stream",
     "text": [
      "C:\\Users\\Dell laptop\\Anaconda3\\lib\\site-packages\\ipykernel_launcher.py:3: SettingWithCopyWarning: \n",
      "A value is trying to be set on a copy of a slice from a DataFrame.\n",
      "Try using .loc[row_indexer,col_indexer] = value instead\n",
      "\n",
      "See the caveats in the documentation: https://pandas.pydata.org/pandas-docs/stable/user_guide/indexing.html#returning-a-view-versus-a-copy\n",
      "  This is separate from the ipykernel package so we can avoid doing imports until\n"
     ]
    }
   ],
   "source": [
    "imputer11 = KNNImputer(n_neighbors=2)\n",
    "df2_filled11 = imputer11.fit_transform(df2[['Sales / GFA']])\n",
    "df2['Sales / GFA']=df2_filled11"
   ]
  },
  {
   "cell_type": "code",
   "execution_count": 76,
   "metadata": {},
   "outputs": [
    {
     "name": "stderr",
     "output_type": "stream",
     "text": [
      "C:\\Users\\Dell laptop\\Anaconda3\\lib\\site-packages\\ipykernel_launcher.py:3: SettingWithCopyWarning: \n",
      "A value is trying to be set on a copy of a slice from a DataFrame.\n",
      "Try using .loc[row_indexer,col_indexer] = value instead\n",
      "\n",
      "See the caveats in the documentation: https://pandas.pydata.org/pandas-docs/stable/user_guide/indexing.html#returning-a-view-versus-a-copy\n",
      "  This is separate from the ipykernel package so we can avoid doing imports until\n"
     ]
    }
   ],
   "source": [
    "imputer12 = KNNImputer(n_neighbors=2)\n",
    "df2_filled12 = imputer12.fit_transform(df2[['Sales / net fixed Assets']])\n",
    "df2['Sales / net fixed Assets']=df2_filled12"
   ]
  },
  {
   "cell_type": "code",
   "execution_count": 77,
   "metadata": {},
   "outputs": [
    {
     "name": "stderr",
     "output_type": "stream",
     "text": [
      "C:\\Users\\Dell laptop\\Anaconda3\\lib\\site-packages\\ipykernel_launcher.py:3: SettingWithCopyWarning: \n",
      "A value is trying to be set on a copy of a slice from a DataFrame.\n",
      "Try using .loc[row_indexer,col_indexer] = value instead\n",
      "\n",
      "See the caveats in the documentation: https://pandas.pydata.org/pandas-docs/stable/user_guide/indexing.html#returning-a-view-versus-a-copy\n",
      "  This is separate from the ipykernel package so we can avoid doing imports until\n"
     ]
    }
   ],
   "source": [
    "imputer13 = KNNImputer(n_neighbors=2)\n",
    "df2_filled13 = imputer13.fit_transform(df2[['Debt/EBIT']])\n",
    "df2['Debt/EBIT']=df2_filled13"
   ]
  },
  {
   "cell_type": "code",
   "execution_count": 78,
   "metadata": {},
   "outputs": [
    {
     "name": "stderr",
     "output_type": "stream",
     "text": [
      "C:\\Users\\Dell laptop\\Anaconda3\\lib\\site-packages\\ipykernel_launcher.py:3: SettingWithCopyWarning: \n",
      "A value is trying to be set on a copy of a slice from a DataFrame.\n",
      "Try using .loc[row_indexer,col_indexer] = value instead\n",
      "\n",
      "See the caveats in the documentation: https://pandas.pydata.org/pandas-docs/stable/user_guide/indexing.html#returning-a-view-versus-a-copy\n",
      "  This is separate from the ipykernel package so we can avoid doing imports until\n"
     ]
    }
   ],
   "source": [
    "imputer14 = KNNImputer(n_neighbors=2)\n",
    "df2_filled14 = imputer14.fit_transform(df2[['Return on net worth']])\n",
    "df2['Return on net worth']=df2_filled14"
   ]
  },
  {
   "cell_type": "code",
   "execution_count": 79,
   "metadata": {},
   "outputs": [
    {
     "name": "stderr",
     "output_type": "stream",
     "text": [
      "C:\\Users\\Dell laptop\\Anaconda3\\lib\\site-packages\\ipykernel_launcher.py:3: SettingWithCopyWarning: \n",
      "A value is trying to be set on a copy of a slice from a DataFrame.\n",
      "Try using .loc[row_indexer,col_indexer] = value instead\n",
      "\n",
      "See the caveats in the documentation: https://pandas.pydata.org/pandas-docs/stable/user_guide/indexing.html#returning-a-view-versus-a-copy\n",
      "  This is separate from the ipykernel package so we can avoid doing imports until\n"
     ]
    }
   ],
   "source": [
    "imputer15 = KNNImputer(n_neighbors=2)\n",
    "df2_filled15 = imputer15.fit_transform(df2[['Return on total assets']])\n",
    "df2['Return on total assets']=df2_filled15"
   ]
  },
  {
   "cell_type": "code",
   "execution_count": 80,
   "metadata": {},
   "outputs": [
    {
     "data": {
      "text/plain": [
       "Company Name                                0.0\n",
       "Year                                        0.0\n",
       "Sales                                       0.0\n",
       "GP Margin %                                 0.0\n",
       "PBDIT Margin %                              0.0\n",
       "PAT Margin %                                0.0\n",
       "PBT Percentage %                            0.0\n",
       "Quick ratio (times)                         0.0\n",
       "Current ratio (times)                       0.0\n",
       "Debt to equity ratio (times)                0.0\n",
       "Interest cover (times)                      0.0\n",
       "Inventory Days                              0.0\n",
       "Debtor days (days)                          0.0\n",
       "Gross working capital cycle (days)          0.0\n",
       "Creditor days (days)                        0.0\n",
       "Net working capital cycle (days)            0.0\n",
       "Total Income/Total asset                    0.0\n",
       "Total Income/ Compansation to employees     0.0\n",
       "Sales / GFA                                 0.0\n",
       "Sales / net fixed Assets                    0.0\n",
       "Debt/EBIT                                   0.0\n",
       "Total Outside liability/ Total Net Worth    0.0\n",
       "Return on net worth                         0.0\n",
       "Return on total assets                      0.0\n",
       "Default                                     0.0\n",
       "dtype: float64"
      ]
     },
     "execution_count": 80,
     "metadata": {},
     "output_type": "execute_result"
    }
   ],
   "source": [
    "## Now checking the percentage to see if NA values were replaced successfully.\n",
    "(df2.isna().sum())/df2.shape[0]*100"
   ]
  },
  {
   "cell_type": "code",
   "execution_count": 81,
   "metadata": {},
   "outputs": [
    {
     "data": {
      "text/plain": [
       "(8713, 25)"
      ]
     },
     "execution_count": 81,
     "metadata": {},
     "output_type": "execute_result"
    }
   ],
   "source": [
    "## Checking the number of rows and columns\n",
    "df2.shape"
   ]
  },
  {
   "cell_type": "markdown",
   "metadata": {},
   "source": [
    "### Checking the correlation matrix"
   ]
  },
  {
   "cell_type": "code",
   "execution_count": 82,
   "metadata": {},
   "outputs": [
    {
     "data": {
      "text/html": [
       "<div>\n",
       "<style scoped>\n",
       "    .dataframe tbody tr th:only-of-type {\n",
       "        vertical-align: middle;\n",
       "    }\n",
       "\n",
       "    .dataframe tbody tr th {\n",
       "        vertical-align: top;\n",
       "    }\n",
       "\n",
       "    .dataframe thead th {\n",
       "        text-align: right;\n",
       "    }\n",
       "</style>\n",
       "<table border=\"1\" class=\"dataframe\">\n",
       "  <thead>\n",
       "    <tr style=\"text-align: right;\">\n",
       "      <th></th>\n",
       "      <th>Year</th>\n",
       "      <th>Sales</th>\n",
       "      <th>GP Margin %</th>\n",
       "      <th>PBDIT Margin %</th>\n",
       "      <th>PAT Margin %</th>\n",
       "      <th>PBT Percentage %</th>\n",
       "      <th>Quick ratio (times)</th>\n",
       "      <th>Current ratio (times)</th>\n",
       "      <th>Debt to equity ratio (times)</th>\n",
       "      <th>Interest cover (times)</th>\n",
       "      <th>Inventory Days</th>\n",
       "      <th>Debtor days (days)</th>\n",
       "      <th>Gross working capital cycle (days)</th>\n",
       "      <th>Creditor days (days)</th>\n",
       "      <th>Net working capital cycle (days)</th>\n",
       "      <th>Total Income/Total asset</th>\n",
       "      <th>Total Income/ Compansation to employees</th>\n",
       "      <th>Sales / GFA</th>\n",
       "      <th>Sales / net fixed Assets</th>\n",
       "      <th>Debt/EBIT</th>\n",
       "      <th>Total Outside liability/ Total Net Worth</th>\n",
       "      <th>Return on net worth</th>\n",
       "      <th>Return on total assets</th>\n",
       "      <th>Default</th>\n",
       "    </tr>\n",
       "  </thead>\n",
       "  <tbody>\n",
       "    <tr>\n",
       "      <th>Year</th>\n",
       "      <td>1.000000</td>\n",
       "      <td>0.103758</td>\n",
       "      <td>0.005742</td>\n",
       "      <td>-0.018117</td>\n",
       "      <td>-0.031665</td>\n",
       "      <td>-0.034088</td>\n",
       "      <td>0.043023</td>\n",
       "      <td>0.059818</td>\n",
       "      <td>-0.050102</td>\n",
       "      <td>0.049563</td>\n",
       "      <td>-0.013585</td>\n",
       "      <td>0.037590</td>\n",
       "      <td>-0.000990</td>\n",
       "      <td>0.059569</td>\n",
       "      <td>-0.045062</td>\n",
       "      <td>0.011207</td>\n",
       "      <td>-0.064165</td>\n",
       "      <td>0.029754</td>\n",
       "      <td>0.035449</td>\n",
       "      <td>-0.061552</td>\n",
       "      <td>-0.041371</td>\n",
       "      <td>-0.030018</td>\n",
       "      <td>-0.014183</td>\n",
       "      <td>0.008687</td>\n",
       "    </tr>\n",
       "    <tr>\n",
       "      <th>Sales</th>\n",
       "      <td>0.103758</td>\n",
       "      <td>1.000000</td>\n",
       "      <td>0.087705</td>\n",
       "      <td>-0.078194</td>\n",
       "      <td>0.141623</td>\n",
       "      <td>-0.006552</td>\n",
       "      <td>-0.005267</td>\n",
       "      <td>-0.045629</td>\n",
       "      <td>-0.112528</td>\n",
       "      <td>0.146072</td>\n",
       "      <td>-0.117804</td>\n",
       "      <td>-0.192550</td>\n",
       "      <td>-0.180909</td>\n",
       "      <td>-0.167109</td>\n",
       "      <td>-0.063997</td>\n",
       "      <td>0.167796</td>\n",
       "      <td>0.129031</td>\n",
       "      <td>0.094202</td>\n",
       "      <td>0.066564</td>\n",
       "      <td>-0.105101</td>\n",
       "      <td>-0.027327</td>\n",
       "      <td>0.159277</td>\n",
       "      <td>0.192525</td>\n",
       "      <td>-0.088892</td>\n",
       "    </tr>\n",
       "    <tr>\n",
       "      <th>GP Margin %</th>\n",
       "      <td>0.005742</td>\n",
       "      <td>0.087705</td>\n",
       "      <td>1.000000</td>\n",
       "      <td>0.212426</td>\n",
       "      <td>0.100307</td>\n",
       "      <td>0.193527</td>\n",
       "      <td>0.161870</td>\n",
       "      <td>0.047829</td>\n",
       "      <td>-0.029299</td>\n",
       "      <td>0.038979</td>\n",
       "      <td>0.143903</td>\n",
       "      <td>0.042809</td>\n",
       "      <td>0.063269</td>\n",
       "      <td>0.077925</td>\n",
       "      <td>-0.006695</td>\n",
       "      <td>0.023456</td>\n",
       "      <td>0.131383</td>\n",
       "      <td>0.315193</td>\n",
       "      <td>0.314919</td>\n",
       "      <td>0.005008</td>\n",
       "      <td>0.012989</td>\n",
       "      <td>0.060381</td>\n",
       "      <td>0.074164</td>\n",
       "      <td>-0.050572</td>\n",
       "    </tr>\n",
       "    <tr>\n",
       "      <th>PBDIT Margin %</th>\n",
       "      <td>-0.018117</td>\n",
       "      <td>-0.078194</td>\n",
       "      <td>0.212426</td>\n",
       "      <td>1.000000</td>\n",
       "      <td>0.519429</td>\n",
       "      <td>0.916186</td>\n",
       "      <td>0.144180</td>\n",
       "      <td>0.073092</td>\n",
       "      <td>-0.015989</td>\n",
       "      <td>0.144599</td>\n",
       "      <td>0.250586</td>\n",
       "      <td>0.160380</td>\n",
       "      <td>0.263666</td>\n",
       "      <td>0.302712</td>\n",
       "      <td>0.033967</td>\n",
       "      <td>-0.536533</td>\n",
       "      <td>-0.233054</td>\n",
       "      <td>-0.267279</td>\n",
       "      <td>-0.255886</td>\n",
       "      <td>0.018922</td>\n",
       "      <td>-0.080788</td>\n",
       "      <td>0.157640</td>\n",
       "      <td>0.246608</td>\n",
       "      <td>-0.052280</td>\n",
       "    </tr>\n",
       "    <tr>\n",
       "      <th>PAT Margin %</th>\n",
       "      <td>-0.031665</td>\n",
       "      <td>0.141623</td>\n",
       "      <td>0.100307</td>\n",
       "      <td>0.519429</td>\n",
       "      <td>1.000000</td>\n",
       "      <td>0.720987</td>\n",
       "      <td>0.322461</td>\n",
       "      <td>0.323103</td>\n",
       "      <td>-0.341643</td>\n",
       "      <td>0.335894</td>\n",
       "      <td>-0.038660</td>\n",
       "      <td>-0.053817</td>\n",
       "      <td>-0.048385</td>\n",
       "      <td>-0.043659</td>\n",
       "      <td>-0.019665</td>\n",
       "      <td>-0.026529</td>\n",
       "      <td>-0.090661</td>\n",
       "      <td>-0.026410</td>\n",
       "      <td>-0.025661</td>\n",
       "      <td>-0.253476</td>\n",
       "      <td>-0.257246</td>\n",
       "      <td>0.611742</td>\n",
       "      <td>0.747581</td>\n",
       "      <td>-0.290751</td>\n",
       "    </tr>\n",
       "    <tr>\n",
       "      <th>PBT Percentage %</th>\n",
       "      <td>-0.034088</td>\n",
       "      <td>-0.006552</td>\n",
       "      <td>0.193527</td>\n",
       "      <td>0.916186</td>\n",
       "      <td>0.720987</td>\n",
       "      <td>1.000000</td>\n",
       "      <td>0.194368</td>\n",
       "      <td>0.160508</td>\n",
       "      <td>-0.092648</td>\n",
       "      <td>0.197503</td>\n",
       "      <td>0.198898</td>\n",
       "      <td>0.110798</td>\n",
       "      <td>0.208459</td>\n",
       "      <td>0.202503</td>\n",
       "      <td>0.052944</td>\n",
       "      <td>-0.403236</td>\n",
       "      <td>-0.176616</td>\n",
       "      <td>-0.170840</td>\n",
       "      <td>-0.164046</td>\n",
       "      <td>-0.044427</td>\n",
       "      <td>-0.114089</td>\n",
       "      <td>0.335764</td>\n",
       "      <td>0.445352</td>\n",
       "      <td>-0.132014</td>\n",
       "    </tr>\n",
       "    <tr>\n",
       "      <th>Quick ratio (times)</th>\n",
       "      <td>0.043023</td>\n",
       "      <td>-0.005267</td>\n",
       "      <td>0.161870</td>\n",
       "      <td>0.144180</td>\n",
       "      <td>0.322461</td>\n",
       "      <td>0.194368</td>\n",
       "      <td>1.000000</td>\n",
       "      <td>0.797940</td>\n",
       "      <td>-0.346133</td>\n",
       "      <td>0.403157</td>\n",
       "      <td>-0.157928</td>\n",
       "      <td>0.285848</td>\n",
       "      <td>-0.043828</td>\n",
       "      <td>0.057128</td>\n",
       "      <td>-0.066690</td>\n",
       "      <td>0.014123</td>\n",
       "      <td>-0.009944</td>\n",
       "      <td>0.084314</td>\n",
       "      <td>0.099990</td>\n",
       "      <td>-0.254765</td>\n",
       "      <td>-0.297624</td>\n",
       "      <td>0.186021</td>\n",
       "      <td>0.336424</td>\n",
       "      <td>-0.117832</td>\n",
       "    </tr>\n",
       "    <tr>\n",
       "      <th>Current ratio (times)</th>\n",
       "      <td>0.059818</td>\n",
       "      <td>-0.045629</td>\n",
       "      <td>0.047829</td>\n",
       "      <td>0.073092</td>\n",
       "      <td>0.323103</td>\n",
       "      <td>0.160508</td>\n",
       "      <td>0.797940</td>\n",
       "      <td>1.000000</td>\n",
       "      <td>-0.326251</td>\n",
       "      <td>0.369629</td>\n",
       "      <td>0.022288</td>\n",
       "      <td>0.111503</td>\n",
       "      <td>0.047939</td>\n",
       "      <td>-0.075191</td>\n",
       "      <td>0.129586</td>\n",
       "      <td>0.068151</td>\n",
       "      <td>0.020179</td>\n",
       "      <td>0.082774</td>\n",
       "      <td>0.097034</td>\n",
       "      <td>-0.212629</td>\n",
       "      <td>-0.304387</td>\n",
       "      <td>0.194480</td>\n",
       "      <td>0.354330</td>\n",
       "      <td>-0.137236</td>\n",
       "    </tr>\n",
       "    <tr>\n",
       "      <th>Debt to equity ratio (times)</th>\n",
       "      <td>-0.050102</td>\n",
       "      <td>-0.112528</td>\n",
       "      <td>-0.029299</td>\n",
       "      <td>-0.015989</td>\n",
       "      <td>-0.341643</td>\n",
       "      <td>-0.092648</td>\n",
       "      <td>-0.346133</td>\n",
       "      <td>-0.326251</td>\n",
       "      <td>1.000000</td>\n",
       "      <td>-0.316244</td>\n",
       "      <td>0.089021</td>\n",
       "      <td>-0.034287</td>\n",
       "      <td>0.072003</td>\n",
       "      <td>0.005532</td>\n",
       "      <td>0.064205</td>\n",
       "      <td>-0.058871</td>\n",
       "      <td>0.129587</td>\n",
       "      <td>0.009703</td>\n",
       "      <td>-0.006945</td>\n",
       "      <td>0.579434</td>\n",
       "      <td>0.862367</td>\n",
       "      <td>-0.305783</td>\n",
       "      <td>-0.393746</td>\n",
       "      <td>0.167416</td>\n",
       "    </tr>\n",
       "    <tr>\n",
       "      <th>Interest cover (times)</th>\n",
       "      <td>0.049563</td>\n",
       "      <td>0.146072</td>\n",
       "      <td>0.038979</td>\n",
       "      <td>0.144599</td>\n",
       "      <td>0.335894</td>\n",
       "      <td>0.197503</td>\n",
       "      <td>0.403157</td>\n",
       "      <td>0.369629</td>\n",
       "      <td>-0.316244</td>\n",
       "      <td>1.000000</td>\n",
       "      <td>-0.029465</td>\n",
       "      <td>-0.012136</td>\n",
       "      <td>-0.041068</td>\n",
       "      <td>0.040855</td>\n",
       "      <td>-0.067142</td>\n",
       "      <td>-0.026450</td>\n",
       "      <td>-0.124234</td>\n",
       "      <td>-0.021860</td>\n",
       "      <td>-0.011397</td>\n",
       "      <td>-0.337332</td>\n",
       "      <td>-0.235198</td>\n",
       "      <td>0.233127</td>\n",
       "      <td>0.403550</td>\n",
       "      <td>-0.075467</td>\n",
       "    </tr>\n",
       "    <tr>\n",
       "      <th>Inventory Days</th>\n",
       "      <td>-0.013585</td>\n",
       "      <td>-0.117804</td>\n",
       "      <td>0.143903</td>\n",
       "      <td>0.250586</td>\n",
       "      <td>-0.038660</td>\n",
       "      <td>0.198898</td>\n",
       "      <td>-0.157928</td>\n",
       "      <td>0.022288</td>\n",
       "      <td>0.089021</td>\n",
       "      <td>-0.029465</td>\n",
       "      <td>1.000000</td>\n",
       "      <td>0.149520</td>\n",
       "      <td>0.826382</td>\n",
       "      <td>0.246430</td>\n",
       "      <td>0.657431</td>\n",
       "      <td>-0.409389</td>\n",
       "      <td>-0.158121</td>\n",
       "      <td>-0.111337</td>\n",
       "      <td>-0.090570</td>\n",
       "      <td>0.110160</td>\n",
       "      <td>0.075719</td>\n",
       "      <td>-0.159956</td>\n",
       "      <td>-0.168276</td>\n",
       "      <td>0.113821</td>\n",
       "    </tr>\n",
       "    <tr>\n",
       "      <th>Debtor days (days)</th>\n",
       "      <td>0.037590</td>\n",
       "      <td>-0.192550</td>\n",
       "      <td>0.042809</td>\n",
       "      <td>0.160380</td>\n",
       "      <td>-0.053817</td>\n",
       "      <td>0.110798</td>\n",
       "      <td>0.285848</td>\n",
       "      <td>0.111503</td>\n",
       "      <td>-0.034287</td>\n",
       "      <td>-0.012136</td>\n",
       "      <td>0.149520</td>\n",
       "      <td>1.000000</td>\n",
       "      <td>0.538132</td>\n",
       "      <td>0.419026</td>\n",
       "      <td>0.254845</td>\n",
       "      <td>-0.375699</td>\n",
       "      <td>-0.130440</td>\n",
       "      <td>-0.026882</td>\n",
       "      <td>-0.000478</td>\n",
       "      <td>0.008300</td>\n",
       "      <td>-0.009862</td>\n",
       "      <td>-0.135866</td>\n",
       "      <td>-0.160290</td>\n",
       "      <td>0.178827</td>\n",
       "    </tr>\n",
       "    <tr>\n",
       "      <th>Gross working capital cycle (days)</th>\n",
       "      <td>-0.000990</td>\n",
       "      <td>-0.180909</td>\n",
       "      <td>0.063269</td>\n",
       "      <td>0.263666</td>\n",
       "      <td>-0.048385</td>\n",
       "      <td>0.208459</td>\n",
       "      <td>-0.043828</td>\n",
       "      <td>0.047939</td>\n",
       "      <td>0.072003</td>\n",
       "      <td>-0.041068</td>\n",
       "      <td>0.826382</td>\n",
       "      <td>0.538132</td>\n",
       "      <td>1.000000</td>\n",
       "      <td>0.374073</td>\n",
       "      <td>0.706245</td>\n",
       "      <td>-0.446003</td>\n",
       "      <td>-0.156794</td>\n",
       "      <td>-0.089672</td>\n",
       "      <td>-0.067943</td>\n",
       "      <td>0.094136</td>\n",
       "      <td>0.069715</td>\n",
       "      <td>-0.170217</td>\n",
       "      <td>-0.203393</td>\n",
       "      <td>0.181950</td>\n",
       "    </tr>\n",
       "    <tr>\n",
       "      <th>Creditor days (days)</th>\n",
       "      <td>0.059569</td>\n",
       "      <td>-0.167109</td>\n",
       "      <td>0.077925</td>\n",
       "      <td>0.302712</td>\n",
       "      <td>-0.043659</td>\n",
       "      <td>0.202503</td>\n",
       "      <td>0.057128</td>\n",
       "      <td>-0.075191</td>\n",
       "      <td>0.005532</td>\n",
       "      <td>0.040855</td>\n",
       "      <td>0.246430</td>\n",
       "      <td>0.419026</td>\n",
       "      <td>0.374073</td>\n",
       "      <td>1.000000</td>\n",
       "      <td>-0.278259</td>\n",
       "      <td>-0.367031</td>\n",
       "      <td>-0.181853</td>\n",
       "      <td>-0.094415</td>\n",
       "      <td>-0.058854</td>\n",
       "      <td>-0.008691</td>\n",
       "      <td>0.053104</td>\n",
       "      <td>-0.138402</td>\n",
       "      <td>-0.170989</td>\n",
       "      <td>0.145491</td>\n",
       "    </tr>\n",
       "    <tr>\n",
       "      <th>Net working capital cycle (days)</th>\n",
       "      <td>-0.045062</td>\n",
       "      <td>-0.063997</td>\n",
       "      <td>-0.006695</td>\n",
       "      <td>0.033967</td>\n",
       "      <td>-0.019665</td>\n",
       "      <td>0.052944</td>\n",
       "      <td>-0.066690</td>\n",
       "      <td>0.129586</td>\n",
       "      <td>0.064205</td>\n",
       "      <td>-0.067142</td>\n",
       "      <td>0.657431</td>\n",
       "      <td>0.254845</td>\n",
       "      <td>0.706245</td>\n",
       "      <td>-0.278259</td>\n",
       "      <td>1.000000</td>\n",
       "      <td>-0.197742</td>\n",
       "      <td>-0.035208</td>\n",
       "      <td>-0.037694</td>\n",
       "      <td>-0.038050</td>\n",
       "      <td>0.098456</td>\n",
       "      <td>0.017603</td>\n",
       "      <td>-0.073798</td>\n",
       "      <td>-0.082005</td>\n",
       "      <td>0.092807</td>\n",
       "    </tr>\n",
       "    <tr>\n",
       "      <th>Total Income/Total asset</th>\n",
       "      <td>0.011207</td>\n",
       "      <td>0.167796</td>\n",
       "      <td>0.023456</td>\n",
       "      <td>-0.536533</td>\n",
       "      <td>-0.026529</td>\n",
       "      <td>-0.403236</td>\n",
       "      <td>0.014123</td>\n",
       "      <td>0.068151</td>\n",
       "      <td>-0.058871</td>\n",
       "      <td>-0.026450</td>\n",
       "      <td>-0.409389</td>\n",
       "      <td>-0.375699</td>\n",
       "      <td>-0.446003</td>\n",
       "      <td>-0.367031</td>\n",
       "      <td>-0.197742</td>\n",
       "      <td>1.000000</td>\n",
       "      <td>0.440652</td>\n",
       "      <td>0.499285</td>\n",
       "      <td>0.472922</td>\n",
       "      <td>-0.135925</td>\n",
       "      <td>0.005434</td>\n",
       "      <td>0.257417</td>\n",
       "      <td>0.216284</td>\n",
       "      <td>-0.152977</td>\n",
       "    </tr>\n",
       "    <tr>\n",
       "      <th>Total Income/ Compansation to employees</th>\n",
       "      <td>-0.064165</td>\n",
       "      <td>0.129031</td>\n",
       "      <td>0.131383</td>\n",
       "      <td>-0.233054</td>\n",
       "      <td>-0.090661</td>\n",
       "      <td>-0.176616</td>\n",
       "      <td>-0.009944</td>\n",
       "      <td>0.020179</td>\n",
       "      <td>0.129587</td>\n",
       "      <td>-0.124234</td>\n",
       "      <td>-0.158121</td>\n",
       "      <td>-0.130440</td>\n",
       "      <td>-0.156794</td>\n",
       "      <td>-0.181853</td>\n",
       "      <td>-0.035208</td>\n",
       "      <td>0.440652</td>\n",
       "      <td>1.000000</td>\n",
       "      <td>0.530224</td>\n",
       "      <td>0.494607</td>\n",
       "      <td>0.138116</td>\n",
       "      <td>0.156681</td>\n",
       "      <td>0.028942</td>\n",
       "      <td>-0.027248</td>\n",
       "      <td>-0.021032</td>\n",
       "    </tr>\n",
       "    <tr>\n",
       "      <th>Sales / GFA</th>\n",
       "      <td>0.029754</td>\n",
       "      <td>0.094202</td>\n",
       "      <td>0.315193</td>\n",
       "      <td>-0.267279</td>\n",
       "      <td>-0.026410</td>\n",
       "      <td>-0.170840</td>\n",
       "      <td>0.084314</td>\n",
       "      <td>0.082774</td>\n",
       "      <td>0.009703</td>\n",
       "      <td>-0.021860</td>\n",
       "      <td>-0.111337</td>\n",
       "      <td>-0.026882</td>\n",
       "      <td>-0.089672</td>\n",
       "      <td>-0.094415</td>\n",
       "      <td>-0.037694</td>\n",
       "      <td>0.499285</td>\n",
       "      <td>0.530224</td>\n",
       "      <td>1.000000</td>\n",
       "      <td>0.947607</td>\n",
       "      <td>0.015845</td>\n",
       "      <td>0.127827</td>\n",
       "      <td>0.111148</td>\n",
       "      <td>0.051748</td>\n",
       "      <td>-0.059042</td>\n",
       "    </tr>\n",
       "    <tr>\n",
       "      <th>Sales / net fixed Assets</th>\n",
       "      <td>0.035449</td>\n",
       "      <td>0.066564</td>\n",
       "      <td>0.314919</td>\n",
       "      <td>-0.255886</td>\n",
       "      <td>-0.025661</td>\n",
       "      <td>-0.164046</td>\n",
       "      <td>0.099990</td>\n",
       "      <td>0.097034</td>\n",
       "      <td>-0.006945</td>\n",
       "      <td>-0.011397</td>\n",
       "      <td>-0.090570</td>\n",
       "      <td>-0.000478</td>\n",
       "      <td>-0.067943</td>\n",
       "      <td>-0.058854</td>\n",
       "      <td>-0.038050</td>\n",
       "      <td>0.472922</td>\n",
       "      <td>0.494607</td>\n",
       "      <td>0.947607</td>\n",
       "      <td>1.000000</td>\n",
       "      <td>0.001539</td>\n",
       "      <td>0.115434</td>\n",
       "      <td>0.094680</td>\n",
       "      <td>0.037229</td>\n",
       "      <td>-0.052130</td>\n",
       "    </tr>\n",
       "    <tr>\n",
       "      <th>Debt/EBIT</th>\n",
       "      <td>-0.061552</td>\n",
       "      <td>-0.105101</td>\n",
       "      <td>0.005008</td>\n",
       "      <td>0.018922</td>\n",
       "      <td>-0.253476</td>\n",
       "      <td>-0.044427</td>\n",
       "      <td>-0.254765</td>\n",
       "      <td>-0.212629</td>\n",
       "      <td>0.579434</td>\n",
       "      <td>-0.337332</td>\n",
       "      <td>0.110160</td>\n",
       "      <td>0.008300</td>\n",
       "      <td>0.094136</td>\n",
       "      <td>-0.008691</td>\n",
       "      <td>0.098456</td>\n",
       "      <td>-0.135925</td>\n",
       "      <td>0.138116</td>\n",
       "      <td>0.015845</td>\n",
       "      <td>0.001539</td>\n",
       "      <td>1.000000</td>\n",
       "      <td>0.489081</td>\n",
       "      <td>-0.350908</td>\n",
       "      <td>-0.359532</td>\n",
       "      <td>0.096179</td>\n",
       "    </tr>\n",
       "    <tr>\n",
       "      <th>Total Outside liability/ Total Net Worth</th>\n",
       "      <td>-0.041371</td>\n",
       "      <td>-0.027327</td>\n",
       "      <td>0.012989</td>\n",
       "      <td>-0.080788</td>\n",
       "      <td>-0.257246</td>\n",
       "      <td>-0.114089</td>\n",
       "      <td>-0.297624</td>\n",
       "      <td>-0.304387</td>\n",
       "      <td>0.862367</td>\n",
       "      <td>-0.235198</td>\n",
       "      <td>0.075719</td>\n",
       "      <td>-0.009862</td>\n",
       "      <td>0.069715</td>\n",
       "      <td>0.053104</td>\n",
       "      <td>0.017603</td>\n",
       "      <td>0.005434</td>\n",
       "      <td>0.156681</td>\n",
       "      <td>0.127827</td>\n",
       "      <td>0.115434</td>\n",
       "      <td>0.489081</td>\n",
       "      <td>1.000000</td>\n",
       "      <td>-0.243285</td>\n",
       "      <td>-0.307373</td>\n",
       "      <td>0.102694</td>\n",
       "    </tr>\n",
       "    <tr>\n",
       "      <th>Return on net worth</th>\n",
       "      <td>-0.030018</td>\n",
       "      <td>0.159277</td>\n",
       "      <td>0.060381</td>\n",
       "      <td>0.157640</td>\n",
       "      <td>0.611742</td>\n",
       "      <td>0.335764</td>\n",
       "      <td>0.186021</td>\n",
       "      <td>0.194480</td>\n",
       "      <td>-0.305783</td>\n",
       "      <td>0.233127</td>\n",
       "      <td>-0.159956</td>\n",
       "      <td>-0.135866</td>\n",
       "      <td>-0.170217</td>\n",
       "      <td>-0.138402</td>\n",
       "      <td>-0.073798</td>\n",
       "      <td>0.257417</td>\n",
       "      <td>0.028942</td>\n",
       "      <td>0.111148</td>\n",
       "      <td>0.094680</td>\n",
       "      <td>-0.350908</td>\n",
       "      <td>-0.243285</td>\n",
       "      <td>1.000000</td>\n",
       "      <td>0.823475</td>\n",
       "      <td>-0.234819</td>\n",
       "    </tr>\n",
       "    <tr>\n",
       "      <th>Return on total assets</th>\n",
       "      <td>-0.014183</td>\n",
       "      <td>0.192525</td>\n",
       "      <td>0.074164</td>\n",
       "      <td>0.246608</td>\n",
       "      <td>0.747581</td>\n",
       "      <td>0.445352</td>\n",
       "      <td>0.336424</td>\n",
       "      <td>0.354330</td>\n",
       "      <td>-0.393746</td>\n",
       "      <td>0.403550</td>\n",
       "      <td>-0.168276</td>\n",
       "      <td>-0.160290</td>\n",
       "      <td>-0.203393</td>\n",
       "      <td>-0.170989</td>\n",
       "      <td>-0.082005</td>\n",
       "      <td>0.216284</td>\n",
       "      <td>-0.027248</td>\n",
       "      <td>0.051748</td>\n",
       "      <td>0.037229</td>\n",
       "      <td>-0.359532</td>\n",
       "      <td>-0.307373</td>\n",
       "      <td>0.823475</td>\n",
       "      <td>1.000000</td>\n",
       "      <td>-0.289466</td>\n",
       "    </tr>\n",
       "    <tr>\n",
       "      <th>Default</th>\n",
       "      <td>0.008687</td>\n",
       "      <td>-0.088892</td>\n",
       "      <td>-0.050572</td>\n",
       "      <td>-0.052280</td>\n",
       "      <td>-0.290751</td>\n",
       "      <td>-0.132014</td>\n",
       "      <td>-0.117832</td>\n",
       "      <td>-0.137236</td>\n",
       "      <td>0.167416</td>\n",
       "      <td>-0.075467</td>\n",
       "      <td>0.113821</td>\n",
       "      <td>0.178827</td>\n",
       "      <td>0.181950</td>\n",
       "      <td>0.145491</td>\n",
       "      <td>0.092807</td>\n",
       "      <td>-0.152977</td>\n",
       "      <td>-0.021032</td>\n",
       "      <td>-0.059042</td>\n",
       "      <td>-0.052130</td>\n",
       "      <td>0.096179</td>\n",
       "      <td>0.102694</td>\n",
       "      <td>-0.234819</td>\n",
       "      <td>-0.289466</td>\n",
       "      <td>1.000000</td>\n",
       "    </tr>\n",
       "  </tbody>\n",
       "</table>\n",
       "</div>"
      ],
      "text/plain": [
       "                                              Year     Sales  GP Margin %  \\\n",
       "Year                                      1.000000  0.103758     0.005742   \n",
       "Sales                                     0.103758  1.000000     0.087705   \n",
       "GP Margin %                               0.005742  0.087705     1.000000   \n",
       "PBDIT Margin %                           -0.018117 -0.078194     0.212426   \n",
       "PAT Margin %                             -0.031665  0.141623     0.100307   \n",
       "PBT Percentage %                         -0.034088 -0.006552     0.193527   \n",
       "Quick ratio (times)                       0.043023 -0.005267     0.161870   \n",
       "Current ratio (times)                     0.059818 -0.045629     0.047829   \n",
       "Debt to equity ratio (times)             -0.050102 -0.112528    -0.029299   \n",
       "Interest cover (times)                    0.049563  0.146072     0.038979   \n",
       "Inventory Days                           -0.013585 -0.117804     0.143903   \n",
       "Debtor days (days)                        0.037590 -0.192550     0.042809   \n",
       "Gross working capital cycle (days)       -0.000990 -0.180909     0.063269   \n",
       "Creditor days (days)                      0.059569 -0.167109     0.077925   \n",
       "Net working capital cycle (days)         -0.045062 -0.063997    -0.006695   \n",
       "Total Income/Total asset                  0.011207  0.167796     0.023456   \n",
       "Total Income/ Compansation to employees  -0.064165  0.129031     0.131383   \n",
       "Sales / GFA                               0.029754  0.094202     0.315193   \n",
       "Sales / net fixed Assets                  0.035449  0.066564     0.314919   \n",
       "Debt/EBIT                                -0.061552 -0.105101     0.005008   \n",
       "Total Outside liability/ Total Net Worth -0.041371 -0.027327     0.012989   \n",
       "Return on net worth                      -0.030018  0.159277     0.060381   \n",
       "Return on total assets                   -0.014183  0.192525     0.074164   \n",
       "Default                                   0.008687 -0.088892    -0.050572   \n",
       "\n",
       "                                          PBDIT Margin %  PAT Margin %  \\\n",
       "Year                                           -0.018117     -0.031665   \n",
       "Sales                                          -0.078194      0.141623   \n",
       "GP Margin %                                     0.212426      0.100307   \n",
       "PBDIT Margin %                                  1.000000      0.519429   \n",
       "PAT Margin %                                    0.519429      1.000000   \n",
       "PBT Percentage %                                0.916186      0.720987   \n",
       "Quick ratio (times)                             0.144180      0.322461   \n",
       "Current ratio (times)                           0.073092      0.323103   \n",
       "Debt to equity ratio (times)                   -0.015989     -0.341643   \n",
       "Interest cover (times)                          0.144599      0.335894   \n",
       "Inventory Days                                  0.250586     -0.038660   \n",
       "Debtor days (days)                              0.160380     -0.053817   \n",
       "Gross working capital cycle (days)              0.263666     -0.048385   \n",
       "Creditor days (days)                            0.302712     -0.043659   \n",
       "Net working capital cycle (days)                0.033967     -0.019665   \n",
       "Total Income/Total asset                       -0.536533     -0.026529   \n",
       "Total Income/ Compansation to employees        -0.233054     -0.090661   \n",
       "Sales / GFA                                    -0.267279     -0.026410   \n",
       "Sales / net fixed Assets                       -0.255886     -0.025661   \n",
       "Debt/EBIT                                       0.018922     -0.253476   \n",
       "Total Outside liability/ Total Net Worth       -0.080788     -0.257246   \n",
       "Return on net worth                             0.157640      0.611742   \n",
       "Return on total assets                          0.246608      0.747581   \n",
       "Default                                        -0.052280     -0.290751   \n",
       "\n",
       "                                          PBT Percentage %  \\\n",
       "Year                                             -0.034088   \n",
       "Sales                                            -0.006552   \n",
       "GP Margin %                                       0.193527   \n",
       "PBDIT Margin %                                    0.916186   \n",
       "PAT Margin %                                      0.720987   \n",
       "PBT Percentage %                                  1.000000   \n",
       "Quick ratio (times)                               0.194368   \n",
       "Current ratio (times)                             0.160508   \n",
       "Debt to equity ratio (times)                     -0.092648   \n",
       "Interest cover (times)                            0.197503   \n",
       "Inventory Days                                    0.198898   \n",
       "Debtor days (days)                                0.110798   \n",
       "Gross working capital cycle (days)                0.208459   \n",
       "Creditor days (days)                              0.202503   \n",
       "Net working capital cycle (days)                  0.052944   \n",
       "Total Income/Total asset                         -0.403236   \n",
       "Total Income/ Compansation to employees          -0.176616   \n",
       "Sales / GFA                                      -0.170840   \n",
       "Sales / net fixed Assets                         -0.164046   \n",
       "Debt/EBIT                                        -0.044427   \n",
       "Total Outside liability/ Total Net Worth         -0.114089   \n",
       "Return on net worth                               0.335764   \n",
       "Return on total assets                            0.445352   \n",
       "Default                                          -0.132014   \n",
       "\n",
       "                                          Quick ratio (times)  \\\n",
       "Year                                                 0.043023   \n",
       "Sales                                               -0.005267   \n",
       "GP Margin %                                          0.161870   \n",
       "PBDIT Margin %                                       0.144180   \n",
       "PAT Margin %                                         0.322461   \n",
       "PBT Percentage %                                     0.194368   \n",
       "Quick ratio (times)                                  1.000000   \n",
       "Current ratio (times)                                0.797940   \n",
       "Debt to equity ratio (times)                        -0.346133   \n",
       "Interest cover (times)                               0.403157   \n",
       "Inventory Days                                      -0.157928   \n",
       "Debtor days (days)                                   0.285848   \n",
       "Gross working capital cycle (days)                  -0.043828   \n",
       "Creditor days (days)                                 0.057128   \n",
       "Net working capital cycle (days)                    -0.066690   \n",
       "Total Income/Total asset                             0.014123   \n",
       "Total Income/ Compansation to employees             -0.009944   \n",
       "Sales / GFA                                          0.084314   \n",
       "Sales / net fixed Assets                             0.099990   \n",
       "Debt/EBIT                                           -0.254765   \n",
       "Total Outside liability/ Total Net Worth            -0.297624   \n",
       "Return on net worth                                  0.186021   \n",
       "Return on total assets                               0.336424   \n",
       "Default                                             -0.117832   \n",
       "\n",
       "                                          Current ratio (times)  \\\n",
       "Year                                                   0.059818   \n",
       "Sales                                                 -0.045629   \n",
       "GP Margin %                                            0.047829   \n",
       "PBDIT Margin %                                         0.073092   \n",
       "PAT Margin %                                           0.323103   \n",
       "PBT Percentage %                                       0.160508   \n",
       "Quick ratio (times)                                    0.797940   \n",
       "Current ratio (times)                                  1.000000   \n",
       "Debt to equity ratio (times)                          -0.326251   \n",
       "Interest cover (times)                                 0.369629   \n",
       "Inventory Days                                         0.022288   \n",
       "Debtor days (days)                                     0.111503   \n",
       "Gross working capital cycle (days)                     0.047939   \n",
       "Creditor days (days)                                  -0.075191   \n",
       "Net working capital cycle (days)                       0.129586   \n",
       "Total Income/Total asset                               0.068151   \n",
       "Total Income/ Compansation to employees                0.020179   \n",
       "Sales / GFA                                            0.082774   \n",
       "Sales / net fixed Assets                               0.097034   \n",
       "Debt/EBIT                                             -0.212629   \n",
       "Total Outside liability/ Total Net Worth              -0.304387   \n",
       "Return on net worth                                    0.194480   \n",
       "Return on total assets                                 0.354330   \n",
       "Default                                               -0.137236   \n",
       "\n",
       "                                          Debt to equity ratio (times)  \\\n",
       "Year                                                         -0.050102   \n",
       "Sales                                                        -0.112528   \n",
       "GP Margin %                                                  -0.029299   \n",
       "PBDIT Margin %                                               -0.015989   \n",
       "PAT Margin %                                                 -0.341643   \n",
       "PBT Percentage %                                             -0.092648   \n",
       "Quick ratio (times)                                          -0.346133   \n",
       "Current ratio (times)                                        -0.326251   \n",
       "Debt to equity ratio (times)                                  1.000000   \n",
       "Interest cover (times)                                       -0.316244   \n",
       "Inventory Days                                                0.089021   \n",
       "Debtor days (days)                                           -0.034287   \n",
       "Gross working capital cycle (days)                            0.072003   \n",
       "Creditor days (days)                                          0.005532   \n",
       "Net working capital cycle (days)                              0.064205   \n",
       "Total Income/Total asset                                     -0.058871   \n",
       "Total Income/ Compansation to employees                       0.129587   \n",
       "Sales / GFA                                                   0.009703   \n",
       "Sales / net fixed Assets                                     -0.006945   \n",
       "Debt/EBIT                                                     0.579434   \n",
       "Total Outside liability/ Total Net Worth                      0.862367   \n",
       "Return on net worth                                          -0.305783   \n",
       "Return on total assets                                       -0.393746   \n",
       "Default                                                       0.167416   \n",
       "\n",
       "                                          Interest cover (times)  \\\n",
       "Year                                                    0.049563   \n",
       "Sales                                                   0.146072   \n",
       "GP Margin %                                             0.038979   \n",
       "PBDIT Margin %                                          0.144599   \n",
       "PAT Margin %                                            0.335894   \n",
       "PBT Percentage %                                        0.197503   \n",
       "Quick ratio (times)                                     0.403157   \n",
       "Current ratio (times)                                   0.369629   \n",
       "Debt to equity ratio (times)                           -0.316244   \n",
       "Interest cover (times)                                  1.000000   \n",
       "Inventory Days                                         -0.029465   \n",
       "Debtor days (days)                                     -0.012136   \n",
       "Gross working capital cycle (days)                     -0.041068   \n",
       "Creditor days (days)                                    0.040855   \n",
       "Net working capital cycle (days)                       -0.067142   \n",
       "Total Income/Total asset                               -0.026450   \n",
       "Total Income/ Compansation to employees                -0.124234   \n",
       "Sales / GFA                                            -0.021860   \n",
       "Sales / net fixed Assets                               -0.011397   \n",
       "Debt/EBIT                                              -0.337332   \n",
       "Total Outside liability/ Total Net Worth               -0.235198   \n",
       "Return on net worth                                     0.233127   \n",
       "Return on total assets                                  0.403550   \n",
       "Default                                                -0.075467   \n",
       "\n",
       "                                          Inventory Days  Debtor days (days)  \\\n",
       "Year                                           -0.013585            0.037590   \n",
       "Sales                                          -0.117804           -0.192550   \n",
       "GP Margin %                                     0.143903            0.042809   \n",
       "PBDIT Margin %                                  0.250586            0.160380   \n",
       "PAT Margin %                                   -0.038660           -0.053817   \n",
       "PBT Percentage %                                0.198898            0.110798   \n",
       "Quick ratio (times)                            -0.157928            0.285848   \n",
       "Current ratio (times)                           0.022288            0.111503   \n",
       "Debt to equity ratio (times)                    0.089021           -0.034287   \n",
       "Interest cover (times)                         -0.029465           -0.012136   \n",
       "Inventory Days                                  1.000000            0.149520   \n",
       "Debtor days (days)                              0.149520            1.000000   \n",
       "Gross working capital cycle (days)              0.826382            0.538132   \n",
       "Creditor days (days)                            0.246430            0.419026   \n",
       "Net working capital cycle (days)                0.657431            0.254845   \n",
       "Total Income/Total asset                       -0.409389           -0.375699   \n",
       "Total Income/ Compansation to employees        -0.158121           -0.130440   \n",
       "Sales / GFA                                    -0.111337           -0.026882   \n",
       "Sales / net fixed Assets                       -0.090570           -0.000478   \n",
       "Debt/EBIT                                       0.110160            0.008300   \n",
       "Total Outside liability/ Total Net Worth        0.075719           -0.009862   \n",
       "Return on net worth                            -0.159956           -0.135866   \n",
       "Return on total assets                         -0.168276           -0.160290   \n",
       "Default                                         0.113821            0.178827   \n",
       "\n",
       "                                          Gross working capital cycle (days)  \\\n",
       "Year                                                               -0.000990   \n",
       "Sales                                                              -0.180909   \n",
       "GP Margin %                                                         0.063269   \n",
       "PBDIT Margin %                                                      0.263666   \n",
       "PAT Margin %                                                       -0.048385   \n",
       "PBT Percentage %                                                    0.208459   \n",
       "Quick ratio (times)                                                -0.043828   \n",
       "Current ratio (times)                                               0.047939   \n",
       "Debt to equity ratio (times)                                        0.072003   \n",
       "Interest cover (times)                                             -0.041068   \n",
       "Inventory Days                                                      0.826382   \n",
       "Debtor days (days)                                                  0.538132   \n",
       "Gross working capital cycle (days)                                  1.000000   \n",
       "Creditor days (days)                                                0.374073   \n",
       "Net working capital cycle (days)                                    0.706245   \n",
       "Total Income/Total asset                                           -0.446003   \n",
       "Total Income/ Compansation to employees                            -0.156794   \n",
       "Sales / GFA                                                        -0.089672   \n",
       "Sales / net fixed Assets                                           -0.067943   \n",
       "Debt/EBIT                                                           0.094136   \n",
       "Total Outside liability/ Total Net Worth                            0.069715   \n",
       "Return on net worth                                                -0.170217   \n",
       "Return on total assets                                             -0.203393   \n",
       "Default                                                             0.181950   \n",
       "\n",
       "                                          Creditor days (days)  \\\n",
       "Year                                                  0.059569   \n",
       "Sales                                                -0.167109   \n",
       "GP Margin %                                           0.077925   \n",
       "PBDIT Margin %                                        0.302712   \n",
       "PAT Margin %                                         -0.043659   \n",
       "PBT Percentage %                                      0.202503   \n",
       "Quick ratio (times)                                   0.057128   \n",
       "Current ratio (times)                                -0.075191   \n",
       "Debt to equity ratio (times)                          0.005532   \n",
       "Interest cover (times)                                0.040855   \n",
       "Inventory Days                                        0.246430   \n",
       "Debtor days (days)                                    0.419026   \n",
       "Gross working capital cycle (days)                    0.374073   \n",
       "Creditor days (days)                                  1.000000   \n",
       "Net working capital cycle (days)                     -0.278259   \n",
       "Total Income/Total asset                             -0.367031   \n",
       "Total Income/ Compansation to employees              -0.181853   \n",
       "Sales / GFA                                          -0.094415   \n",
       "Sales / net fixed Assets                             -0.058854   \n",
       "Debt/EBIT                                            -0.008691   \n",
       "Total Outside liability/ Total Net Worth              0.053104   \n",
       "Return on net worth                                  -0.138402   \n",
       "Return on total assets                               -0.170989   \n",
       "Default                                               0.145491   \n",
       "\n",
       "                                          Net working capital cycle (days)  \\\n",
       "Year                                                             -0.045062   \n",
       "Sales                                                            -0.063997   \n",
       "GP Margin %                                                      -0.006695   \n",
       "PBDIT Margin %                                                    0.033967   \n",
       "PAT Margin %                                                     -0.019665   \n",
       "PBT Percentage %                                                  0.052944   \n",
       "Quick ratio (times)                                              -0.066690   \n",
       "Current ratio (times)                                             0.129586   \n",
       "Debt to equity ratio (times)                                      0.064205   \n",
       "Interest cover (times)                                           -0.067142   \n",
       "Inventory Days                                                    0.657431   \n",
       "Debtor days (days)                                                0.254845   \n",
       "Gross working capital cycle (days)                                0.706245   \n",
       "Creditor days (days)                                             -0.278259   \n",
       "Net working capital cycle (days)                                  1.000000   \n",
       "Total Income/Total asset                                         -0.197742   \n",
       "Total Income/ Compansation to employees                          -0.035208   \n",
       "Sales / GFA                                                      -0.037694   \n",
       "Sales / net fixed Assets                                         -0.038050   \n",
       "Debt/EBIT                                                         0.098456   \n",
       "Total Outside liability/ Total Net Worth                          0.017603   \n",
       "Return on net worth                                              -0.073798   \n",
       "Return on total assets                                           -0.082005   \n",
       "Default                                                           0.092807   \n",
       "\n",
       "                                          Total Income/Total asset  \\\n",
       "Year                                                      0.011207   \n",
       "Sales                                                     0.167796   \n",
       "GP Margin %                                               0.023456   \n",
       "PBDIT Margin %                                           -0.536533   \n",
       "PAT Margin %                                             -0.026529   \n",
       "PBT Percentage %                                         -0.403236   \n",
       "Quick ratio (times)                                       0.014123   \n",
       "Current ratio (times)                                     0.068151   \n",
       "Debt to equity ratio (times)                             -0.058871   \n",
       "Interest cover (times)                                   -0.026450   \n",
       "Inventory Days                                           -0.409389   \n",
       "Debtor days (days)                                       -0.375699   \n",
       "Gross working capital cycle (days)                       -0.446003   \n",
       "Creditor days (days)                                     -0.367031   \n",
       "Net working capital cycle (days)                         -0.197742   \n",
       "Total Income/Total asset                                  1.000000   \n",
       "Total Income/ Compansation to employees                   0.440652   \n",
       "Sales / GFA                                               0.499285   \n",
       "Sales / net fixed Assets                                  0.472922   \n",
       "Debt/EBIT                                                -0.135925   \n",
       "Total Outside liability/ Total Net Worth                  0.005434   \n",
       "Return on net worth                                       0.257417   \n",
       "Return on total assets                                    0.216284   \n",
       "Default                                                  -0.152977   \n",
       "\n",
       "                                          Total Income/ Compansation to employees  \\\n",
       "Year                                                                    -0.064165   \n",
       "Sales                                                                    0.129031   \n",
       "GP Margin %                                                              0.131383   \n",
       "PBDIT Margin %                                                          -0.233054   \n",
       "PAT Margin %                                                            -0.090661   \n",
       "PBT Percentage %                                                        -0.176616   \n",
       "Quick ratio (times)                                                     -0.009944   \n",
       "Current ratio (times)                                                    0.020179   \n",
       "Debt to equity ratio (times)                                             0.129587   \n",
       "Interest cover (times)                                                  -0.124234   \n",
       "Inventory Days                                                          -0.158121   \n",
       "Debtor days (days)                                                      -0.130440   \n",
       "Gross working capital cycle (days)                                      -0.156794   \n",
       "Creditor days (days)                                                    -0.181853   \n",
       "Net working capital cycle (days)                                        -0.035208   \n",
       "Total Income/Total asset                                                 0.440652   \n",
       "Total Income/ Compansation to employees                                  1.000000   \n",
       "Sales / GFA                                                              0.530224   \n",
       "Sales / net fixed Assets                                                 0.494607   \n",
       "Debt/EBIT                                                                0.138116   \n",
       "Total Outside liability/ Total Net Worth                                 0.156681   \n",
       "Return on net worth                                                      0.028942   \n",
       "Return on total assets                                                  -0.027248   \n",
       "Default                                                                 -0.021032   \n",
       "\n",
       "                                          Sales / GFA  \\\n",
       "Year                                         0.029754   \n",
       "Sales                                        0.094202   \n",
       "GP Margin %                                  0.315193   \n",
       "PBDIT Margin %                              -0.267279   \n",
       "PAT Margin %                                -0.026410   \n",
       "PBT Percentage %                            -0.170840   \n",
       "Quick ratio (times)                          0.084314   \n",
       "Current ratio (times)                        0.082774   \n",
       "Debt to equity ratio (times)                 0.009703   \n",
       "Interest cover (times)                      -0.021860   \n",
       "Inventory Days                              -0.111337   \n",
       "Debtor days (days)                          -0.026882   \n",
       "Gross working capital cycle (days)          -0.089672   \n",
       "Creditor days (days)                        -0.094415   \n",
       "Net working capital cycle (days)            -0.037694   \n",
       "Total Income/Total asset                     0.499285   \n",
       "Total Income/ Compansation to employees      0.530224   \n",
       "Sales / GFA                                  1.000000   \n",
       "Sales / net fixed Assets                     0.947607   \n",
       "Debt/EBIT                                    0.015845   \n",
       "Total Outside liability/ Total Net Worth     0.127827   \n",
       "Return on net worth                          0.111148   \n",
       "Return on total assets                       0.051748   \n",
       "Default                                     -0.059042   \n",
       "\n",
       "                                          Sales / net fixed Assets  Debt/EBIT  \\\n",
       "Year                                                      0.035449  -0.061552   \n",
       "Sales                                                     0.066564  -0.105101   \n",
       "GP Margin %                                               0.314919   0.005008   \n",
       "PBDIT Margin %                                           -0.255886   0.018922   \n",
       "PAT Margin %                                             -0.025661  -0.253476   \n",
       "PBT Percentage %                                         -0.164046  -0.044427   \n",
       "Quick ratio (times)                                       0.099990  -0.254765   \n",
       "Current ratio (times)                                     0.097034  -0.212629   \n",
       "Debt to equity ratio (times)                             -0.006945   0.579434   \n",
       "Interest cover (times)                                   -0.011397  -0.337332   \n",
       "Inventory Days                                           -0.090570   0.110160   \n",
       "Debtor days (days)                                       -0.000478   0.008300   \n",
       "Gross working capital cycle (days)                       -0.067943   0.094136   \n",
       "Creditor days (days)                                     -0.058854  -0.008691   \n",
       "Net working capital cycle (days)                         -0.038050   0.098456   \n",
       "Total Income/Total asset                                  0.472922  -0.135925   \n",
       "Total Income/ Compansation to employees                   0.494607   0.138116   \n",
       "Sales / GFA                                               0.947607   0.015845   \n",
       "Sales / net fixed Assets                                  1.000000   0.001539   \n",
       "Debt/EBIT                                                 0.001539   1.000000   \n",
       "Total Outside liability/ Total Net Worth                  0.115434   0.489081   \n",
       "Return on net worth                                       0.094680  -0.350908   \n",
       "Return on total assets                                    0.037229  -0.359532   \n",
       "Default                                                  -0.052130   0.096179   \n",
       "\n",
       "                                          Total Outside liability/ Total Net Worth  \\\n",
       "Year                                                                     -0.041371   \n",
       "Sales                                                                    -0.027327   \n",
       "GP Margin %                                                               0.012989   \n",
       "PBDIT Margin %                                                           -0.080788   \n",
       "PAT Margin %                                                             -0.257246   \n",
       "PBT Percentage %                                                         -0.114089   \n",
       "Quick ratio (times)                                                      -0.297624   \n",
       "Current ratio (times)                                                    -0.304387   \n",
       "Debt to equity ratio (times)                                              0.862367   \n",
       "Interest cover (times)                                                   -0.235198   \n",
       "Inventory Days                                                            0.075719   \n",
       "Debtor days (days)                                                       -0.009862   \n",
       "Gross working capital cycle (days)                                        0.069715   \n",
       "Creditor days (days)                                                      0.053104   \n",
       "Net working capital cycle (days)                                          0.017603   \n",
       "Total Income/Total asset                                                  0.005434   \n",
       "Total Income/ Compansation to employees                                   0.156681   \n",
       "Sales / GFA                                                               0.127827   \n",
       "Sales / net fixed Assets                                                  0.115434   \n",
       "Debt/EBIT                                                                 0.489081   \n",
       "Total Outside liability/ Total Net Worth                                  1.000000   \n",
       "Return on net worth                                                      -0.243285   \n",
       "Return on total assets                                                   -0.307373   \n",
       "Default                                                                   0.102694   \n",
       "\n",
       "                                          Return on net worth  \\\n",
       "Year                                                -0.030018   \n",
       "Sales                                                0.159277   \n",
       "GP Margin %                                          0.060381   \n",
       "PBDIT Margin %                                       0.157640   \n",
       "PAT Margin %                                         0.611742   \n",
       "PBT Percentage %                                     0.335764   \n",
       "Quick ratio (times)                                  0.186021   \n",
       "Current ratio (times)                                0.194480   \n",
       "Debt to equity ratio (times)                        -0.305783   \n",
       "Interest cover (times)                               0.233127   \n",
       "Inventory Days                                      -0.159956   \n",
       "Debtor days (days)                                  -0.135866   \n",
       "Gross working capital cycle (days)                  -0.170217   \n",
       "Creditor days (days)                                -0.138402   \n",
       "Net working capital cycle (days)                    -0.073798   \n",
       "Total Income/Total asset                             0.257417   \n",
       "Total Income/ Compansation to employees              0.028942   \n",
       "Sales / GFA                                          0.111148   \n",
       "Sales / net fixed Assets                             0.094680   \n",
       "Debt/EBIT                                           -0.350908   \n",
       "Total Outside liability/ Total Net Worth            -0.243285   \n",
       "Return on net worth                                  1.000000   \n",
       "Return on total assets                               0.823475   \n",
       "Default                                             -0.234819   \n",
       "\n",
       "                                          Return on total assets   Default  \n",
       "Year                                                   -0.014183  0.008687  \n",
       "Sales                                                   0.192525 -0.088892  \n",
       "GP Margin %                                             0.074164 -0.050572  \n",
       "PBDIT Margin %                                          0.246608 -0.052280  \n",
       "PAT Margin %                                            0.747581 -0.290751  \n",
       "PBT Percentage %                                        0.445352 -0.132014  \n",
       "Quick ratio (times)                                     0.336424 -0.117832  \n",
       "Current ratio (times)                                   0.354330 -0.137236  \n",
       "Debt to equity ratio (times)                           -0.393746  0.167416  \n",
       "Interest cover (times)                                  0.403550 -0.075467  \n",
       "Inventory Days                                         -0.168276  0.113821  \n",
       "Debtor days (days)                                     -0.160290  0.178827  \n",
       "Gross working capital cycle (days)                     -0.203393  0.181950  \n",
       "Creditor days (days)                                   -0.170989  0.145491  \n",
       "Net working capital cycle (days)                       -0.082005  0.092807  \n",
       "Total Income/Total asset                                0.216284 -0.152977  \n",
       "Total Income/ Compansation to employees                -0.027248 -0.021032  \n",
       "Sales / GFA                                             0.051748 -0.059042  \n",
       "Sales / net fixed Assets                                0.037229 -0.052130  \n",
       "Debt/EBIT                                              -0.359532  0.096179  \n",
       "Total Outside liability/ Total Net Worth               -0.307373  0.102694  \n",
       "Return on net worth                                     0.823475 -0.234819  \n",
       "Return on total assets                                  1.000000 -0.289466  \n",
       "Default                                                -0.289466  1.000000  "
      ]
     },
     "execution_count": 82,
     "metadata": {},
     "output_type": "execute_result"
    }
   ],
   "source": [
    "pd.set_option('display.max_columns', None)\n",
    "df2.corr()"
   ]
  },
  {
   "cell_type": "code",
   "execution_count": 83,
   "metadata": {},
   "outputs": [],
   "source": [
    "## Deleting PBT Percentage % because the correlation coefficient with PAT was around 0.8\n",
    "del df2['PBT Percentage %']"
   ]
  },
  {
   "cell_type": "code",
   "execution_count": 84,
   "metadata": {},
   "outputs": [],
   "source": [
    "## Deleting PAT Margin % because the correlation coefficient with PBDIT was around 0.8.  \n",
    "del df2['PAT Margin %']"
   ]
  },
  {
   "cell_type": "code",
   "execution_count": 85,
   "metadata": {},
   "outputs": [],
   "source": [
    "## Deleting Gross working capital column because the correlation coefficient with Inventory Days was around 0.8\n",
    "del df2['Gross working capital cycle (days)']"
   ]
  },
  {
   "cell_type": "code",
   "execution_count": 86,
   "metadata": {},
   "outputs": [],
   "source": [
    "## Deleting Inventory, creditor, debtor days because the variable Net working capital gives all the required information of these 3 variables.\n",
    "del df2['Inventory Days']"
   ]
  },
  {
   "cell_type": "code",
   "execution_count": 87,
   "metadata": {},
   "outputs": [],
   "source": [
    "del df2['Debtor days (days)']"
   ]
  },
  {
   "cell_type": "code",
   "execution_count": 88,
   "metadata": {},
   "outputs": [],
   "source": [
    "del df2['Creditor days (days)']"
   ]
  },
  {
   "cell_type": "code",
   "execution_count": 89,
   "metadata": {},
   "outputs": [],
   "source": [
    "## Deleting Debt/EBIT because it wasnt coming significant in the first run\n",
    "del df2['Debt/EBIT']"
   ]
  },
  {
   "cell_type": "code",
   "execution_count": 90,
   "metadata": {},
   "outputs": [],
   "source": [
    "## Total outside liability/Total Net worth had correlation of more than 0.8 with Debt to equity ratio so removed this vairable due to business knowledge.\n",
    "del df2['Total Outside liability/ Total Net Worth']"
   ]
  },
  {
   "cell_type": "code",
   "execution_count": 91,
   "metadata": {},
   "outputs": [],
   "source": [
    "## Quick ratio and current ratio had correlation of around 0.8 so removed quick ratio as its coefficinet with Deafult variable is less than current ratio.\n",
    "del df2['Quick ratio (times)']"
   ]
  },
  {
   "cell_type": "code",
   "execution_count": 92,
   "metadata": {},
   "outputs": [],
   "source": [
    "## Deleting Sales/GFA because it was correlated with Sales net fixed assets. \n",
    "del df2['Sales / GFA']"
   ]
  },
  {
   "cell_type": "code",
   "execution_count": 93,
   "metadata": {},
   "outputs": [],
   "source": [
    "## Deleting Sales/net fixed assets because it wasnt coming significant in the first run\n",
    "del df2['Sales / net fixed Assets']"
   ]
  },
  {
   "cell_type": "code",
   "execution_count": 94,
   "metadata": {},
   "outputs": [],
   "source": [
    "## Deleting Return on net worth as wasnt coming that significant\n",
    "del df2['Return on net worth']"
   ]
  },
  {
   "cell_type": "code",
   "execution_count": 95,
   "metadata": {},
   "outputs": [],
   "source": [
    "## Deleting Total Income/ Total asset as wasnt coming that significant.\n",
    "del df2['Total Income/Total asset']"
   ]
  },
  {
   "cell_type": "code",
   "execution_count": 96,
   "metadata": {},
   "outputs": [],
   "source": [
    "## Deleting Sales as wasnt coming that significant\n",
    "del df2['Sales']"
   ]
  },
  {
   "cell_type": "code",
   "execution_count": 97,
   "metadata": {},
   "outputs": [
    {
     "data": {
      "text/html": [
       "<div>\n",
       "<style scoped>\n",
       "    .dataframe tbody tr th:only-of-type {\n",
       "        vertical-align: middle;\n",
       "    }\n",
       "\n",
       "    .dataframe tbody tr th {\n",
       "        vertical-align: top;\n",
       "    }\n",
       "\n",
       "    .dataframe thead th {\n",
       "        text-align: right;\n",
       "    }\n",
       "</style>\n",
       "<table border=\"1\" class=\"dataframe\">\n",
       "  <thead>\n",
       "    <tr style=\"text-align: right;\">\n",
       "      <th></th>\n",
       "      <th>Year</th>\n",
       "      <th>GP Margin %</th>\n",
       "      <th>PBDIT Margin %</th>\n",
       "      <th>Current ratio (times)</th>\n",
       "      <th>Debt to equity ratio (times)</th>\n",
       "      <th>Interest cover (times)</th>\n",
       "      <th>Net working capital cycle (days)</th>\n",
       "      <th>Total Income/ Compansation to employees</th>\n",
       "      <th>Return on total assets</th>\n",
       "      <th>Default</th>\n",
       "    </tr>\n",
       "  </thead>\n",
       "  <tbody>\n",
       "    <tr>\n",
       "      <th>Year</th>\n",
       "      <td>1.000000</td>\n",
       "      <td>0.005742</td>\n",
       "      <td>-0.018117</td>\n",
       "      <td>0.059818</td>\n",
       "      <td>-0.050102</td>\n",
       "      <td>0.049563</td>\n",
       "      <td>-0.045062</td>\n",
       "      <td>-0.064165</td>\n",
       "      <td>-0.014183</td>\n",
       "      <td>0.008687</td>\n",
       "    </tr>\n",
       "    <tr>\n",
       "      <th>GP Margin %</th>\n",
       "      <td>0.005742</td>\n",
       "      <td>1.000000</td>\n",
       "      <td>0.212426</td>\n",
       "      <td>0.047829</td>\n",
       "      <td>-0.029299</td>\n",
       "      <td>0.038979</td>\n",
       "      <td>-0.006695</td>\n",
       "      <td>0.131383</td>\n",
       "      <td>0.074164</td>\n",
       "      <td>-0.050572</td>\n",
       "    </tr>\n",
       "    <tr>\n",
       "      <th>PBDIT Margin %</th>\n",
       "      <td>-0.018117</td>\n",
       "      <td>0.212426</td>\n",
       "      <td>1.000000</td>\n",
       "      <td>0.073092</td>\n",
       "      <td>-0.015989</td>\n",
       "      <td>0.144599</td>\n",
       "      <td>0.033967</td>\n",
       "      <td>-0.233054</td>\n",
       "      <td>0.246608</td>\n",
       "      <td>-0.052280</td>\n",
       "    </tr>\n",
       "    <tr>\n",
       "      <th>Current ratio (times)</th>\n",
       "      <td>0.059818</td>\n",
       "      <td>0.047829</td>\n",
       "      <td>0.073092</td>\n",
       "      <td>1.000000</td>\n",
       "      <td>-0.326251</td>\n",
       "      <td>0.369629</td>\n",
       "      <td>0.129586</td>\n",
       "      <td>0.020179</td>\n",
       "      <td>0.354330</td>\n",
       "      <td>-0.137236</td>\n",
       "    </tr>\n",
       "    <tr>\n",
       "      <th>Debt to equity ratio (times)</th>\n",
       "      <td>-0.050102</td>\n",
       "      <td>-0.029299</td>\n",
       "      <td>-0.015989</td>\n",
       "      <td>-0.326251</td>\n",
       "      <td>1.000000</td>\n",
       "      <td>-0.316244</td>\n",
       "      <td>0.064205</td>\n",
       "      <td>0.129587</td>\n",
       "      <td>-0.393746</td>\n",
       "      <td>0.167416</td>\n",
       "    </tr>\n",
       "    <tr>\n",
       "      <th>Interest cover (times)</th>\n",
       "      <td>0.049563</td>\n",
       "      <td>0.038979</td>\n",
       "      <td>0.144599</td>\n",
       "      <td>0.369629</td>\n",
       "      <td>-0.316244</td>\n",
       "      <td>1.000000</td>\n",
       "      <td>-0.067142</td>\n",
       "      <td>-0.124234</td>\n",
       "      <td>0.403550</td>\n",
       "      <td>-0.075467</td>\n",
       "    </tr>\n",
       "    <tr>\n",
       "      <th>Net working capital cycle (days)</th>\n",
       "      <td>-0.045062</td>\n",
       "      <td>-0.006695</td>\n",
       "      <td>0.033967</td>\n",
       "      <td>0.129586</td>\n",
       "      <td>0.064205</td>\n",
       "      <td>-0.067142</td>\n",
       "      <td>1.000000</td>\n",
       "      <td>-0.035208</td>\n",
       "      <td>-0.082005</td>\n",
       "      <td>0.092807</td>\n",
       "    </tr>\n",
       "    <tr>\n",
       "      <th>Total Income/ Compansation to employees</th>\n",
       "      <td>-0.064165</td>\n",
       "      <td>0.131383</td>\n",
       "      <td>-0.233054</td>\n",
       "      <td>0.020179</td>\n",
       "      <td>0.129587</td>\n",
       "      <td>-0.124234</td>\n",
       "      <td>-0.035208</td>\n",
       "      <td>1.000000</td>\n",
       "      <td>-0.027248</td>\n",
       "      <td>-0.021032</td>\n",
       "    </tr>\n",
       "    <tr>\n",
       "      <th>Return on total assets</th>\n",
       "      <td>-0.014183</td>\n",
       "      <td>0.074164</td>\n",
       "      <td>0.246608</td>\n",
       "      <td>0.354330</td>\n",
       "      <td>-0.393746</td>\n",
       "      <td>0.403550</td>\n",
       "      <td>-0.082005</td>\n",
       "      <td>-0.027248</td>\n",
       "      <td>1.000000</td>\n",
       "      <td>-0.289466</td>\n",
       "    </tr>\n",
       "    <tr>\n",
       "      <th>Default</th>\n",
       "      <td>0.008687</td>\n",
       "      <td>-0.050572</td>\n",
       "      <td>-0.052280</td>\n",
       "      <td>-0.137236</td>\n",
       "      <td>0.167416</td>\n",
       "      <td>-0.075467</td>\n",
       "      <td>0.092807</td>\n",
       "      <td>-0.021032</td>\n",
       "      <td>-0.289466</td>\n",
       "      <td>1.000000</td>\n",
       "    </tr>\n",
       "  </tbody>\n",
       "</table>\n",
       "</div>"
      ],
      "text/plain": [
       "                                             Year  GP Margin %  \\\n",
       "Year                                     1.000000     0.005742   \n",
       "GP Margin %                              0.005742     1.000000   \n",
       "PBDIT Margin %                          -0.018117     0.212426   \n",
       "Current ratio (times)                    0.059818     0.047829   \n",
       "Debt to equity ratio (times)            -0.050102    -0.029299   \n",
       "Interest cover (times)                   0.049563     0.038979   \n",
       "Net working capital cycle (days)        -0.045062    -0.006695   \n",
       "Total Income/ Compansation to employees -0.064165     0.131383   \n",
       "Return on total assets                  -0.014183     0.074164   \n",
       "Default                                  0.008687    -0.050572   \n",
       "\n",
       "                                         PBDIT Margin %  \\\n",
       "Year                                          -0.018117   \n",
       "GP Margin %                                    0.212426   \n",
       "PBDIT Margin %                                 1.000000   \n",
       "Current ratio (times)                          0.073092   \n",
       "Debt to equity ratio (times)                  -0.015989   \n",
       "Interest cover (times)                         0.144599   \n",
       "Net working capital cycle (days)               0.033967   \n",
       "Total Income/ Compansation to employees       -0.233054   \n",
       "Return on total assets                         0.246608   \n",
       "Default                                       -0.052280   \n",
       "\n",
       "                                         Current ratio (times)  \\\n",
       "Year                                                  0.059818   \n",
       "GP Margin %                                           0.047829   \n",
       "PBDIT Margin %                                        0.073092   \n",
       "Current ratio (times)                                 1.000000   \n",
       "Debt to equity ratio (times)                         -0.326251   \n",
       "Interest cover (times)                                0.369629   \n",
       "Net working capital cycle (days)                      0.129586   \n",
       "Total Income/ Compansation to employees               0.020179   \n",
       "Return on total assets                                0.354330   \n",
       "Default                                              -0.137236   \n",
       "\n",
       "                                         Debt to equity ratio (times)  \\\n",
       "Year                                                        -0.050102   \n",
       "GP Margin %                                                 -0.029299   \n",
       "PBDIT Margin %                                              -0.015989   \n",
       "Current ratio (times)                                       -0.326251   \n",
       "Debt to equity ratio (times)                                 1.000000   \n",
       "Interest cover (times)                                      -0.316244   \n",
       "Net working capital cycle (days)                             0.064205   \n",
       "Total Income/ Compansation to employees                      0.129587   \n",
       "Return on total assets                                      -0.393746   \n",
       "Default                                                      0.167416   \n",
       "\n",
       "                                         Interest cover (times)  \\\n",
       "Year                                                   0.049563   \n",
       "GP Margin %                                            0.038979   \n",
       "PBDIT Margin %                                         0.144599   \n",
       "Current ratio (times)                                  0.369629   \n",
       "Debt to equity ratio (times)                          -0.316244   \n",
       "Interest cover (times)                                 1.000000   \n",
       "Net working capital cycle (days)                      -0.067142   \n",
       "Total Income/ Compansation to employees               -0.124234   \n",
       "Return on total assets                                 0.403550   \n",
       "Default                                               -0.075467   \n",
       "\n",
       "                                         Net working capital cycle (days)  \\\n",
       "Year                                                            -0.045062   \n",
       "GP Margin %                                                     -0.006695   \n",
       "PBDIT Margin %                                                   0.033967   \n",
       "Current ratio (times)                                            0.129586   \n",
       "Debt to equity ratio (times)                                     0.064205   \n",
       "Interest cover (times)                                          -0.067142   \n",
       "Net working capital cycle (days)                                 1.000000   \n",
       "Total Income/ Compansation to employees                         -0.035208   \n",
       "Return on total assets                                          -0.082005   \n",
       "Default                                                          0.092807   \n",
       "\n",
       "                                         Total Income/ Compansation to employees  \\\n",
       "Year                                                                   -0.064165   \n",
       "GP Margin %                                                             0.131383   \n",
       "PBDIT Margin %                                                         -0.233054   \n",
       "Current ratio (times)                                                   0.020179   \n",
       "Debt to equity ratio (times)                                            0.129587   \n",
       "Interest cover (times)                                                 -0.124234   \n",
       "Net working capital cycle (days)                                       -0.035208   \n",
       "Total Income/ Compansation to employees                                 1.000000   \n",
       "Return on total assets                                                 -0.027248   \n",
       "Default                                                                -0.021032   \n",
       "\n",
       "                                         Return on total assets   Default  \n",
       "Year                                                  -0.014183  0.008687  \n",
       "GP Margin %                                            0.074164 -0.050572  \n",
       "PBDIT Margin %                                         0.246608 -0.052280  \n",
       "Current ratio (times)                                  0.354330 -0.137236  \n",
       "Debt to equity ratio (times)                          -0.393746  0.167416  \n",
       "Interest cover (times)                                 0.403550 -0.075467  \n",
       "Net working capital cycle (days)                      -0.082005  0.092807  \n",
       "Total Income/ Compansation to employees               -0.027248 -0.021032  \n",
       "Return on total assets                                 1.000000 -0.289466  \n",
       "Default                                               -0.289466  1.000000  "
      ]
     },
     "execution_count": 97,
     "metadata": {},
     "output_type": "execute_result"
    }
   ],
   "source": [
    "## Checking correlation of all variables again to see if the variables are still correlated.\n",
    "pd.set_option('display.max_columns', None)\n",
    "df2.corr()"
   ]
  },
  {
   "cell_type": "code",
   "execution_count": 98,
   "metadata": {},
   "outputs": [],
   "source": [
    "## Deleting because wasnt coming that significant.\n",
    "del df2['Total Income/ Compansation to employees']"
   ]
  },
  {
   "cell_type": "code",
   "execution_count": 99,
   "metadata": {},
   "outputs": [],
   "source": [
    "## Deleting because wasnt coming that significant.\n",
    "del df2['GP Margin %']"
   ]
  },
  {
   "cell_type": "code",
   "execution_count": 100,
   "metadata": {},
   "outputs": [
    {
     "data": {
      "text/plain": [
       "(8713, 9)"
      ]
     },
     "execution_count": 100,
     "metadata": {},
     "output_type": "execute_result"
    }
   ],
   "source": [
    "## Checking the final rows and columns of the dataframe.\n",
    "df2.shape"
   ]
  },
  {
   "cell_type": "code",
   "execution_count": 101,
   "metadata": {},
   "outputs": [
    {
     "data": {
      "text/html": [
       "<div>\n",
       "<style scoped>\n",
       "    .dataframe tbody tr th:only-of-type {\n",
       "        vertical-align: middle;\n",
       "    }\n",
       "\n",
       "    .dataframe tbody tr th {\n",
       "        vertical-align: top;\n",
       "    }\n",
       "\n",
       "    .dataframe thead th {\n",
       "        text-align: right;\n",
       "    }\n",
       "</style>\n",
       "<table border=\"1\" class=\"dataframe\">\n",
       "  <thead>\n",
       "    <tr style=\"text-align: right;\">\n",
       "      <th></th>\n",
       "      <th>Company Name</th>\n",
       "      <th>Year</th>\n",
       "      <th>PBDIT Margin %</th>\n",
       "      <th>Current ratio (times)</th>\n",
       "      <th>Debt to equity ratio (times)</th>\n",
       "      <th>Interest cover (times)</th>\n",
       "      <th>Net working capital cycle (days)</th>\n",
       "      <th>Return on total assets</th>\n",
       "      <th>Default</th>\n",
       "    </tr>\n",
       "  </thead>\n",
       "  <tbody>\n",
       "    <tr>\n",
       "      <th>0</th>\n",
       "      <td>A B I-Showatech (India) Ltd.</td>\n",
       "      <td>2009</td>\n",
       "      <td>22.79</td>\n",
       "      <td>1.80</td>\n",
       "      <td>0.17</td>\n",
       "      <td>8.710000</td>\n",
       "      <td>36.000000</td>\n",
       "      <td>12.130000</td>\n",
       "      <td>0</td>\n",
       "    </tr>\n",
       "    <tr>\n",
       "      <th>2</th>\n",
       "      <td>A L P Nishikawa Co. Pvt. Ltd.</td>\n",
       "      <td>2009</td>\n",
       "      <td>9.15</td>\n",
       "      <td>0.63</td>\n",
       "      <td>1.05</td>\n",
       "      <td>1.370000</td>\n",
       "      <td>95.266034</td>\n",
       "      <td>2.940363</td>\n",
       "      <td>0</td>\n",
       "    </tr>\n",
       "    <tr>\n",
       "      <th>3</th>\n",
       "      <td>A M C L Machinery Ltd.</td>\n",
       "      <td>2009</td>\n",
       "      <td>23.45</td>\n",
       "      <td>1.32</td>\n",
       "      <td>0.54</td>\n",
       "      <td>57.812000</td>\n",
       "      <td>149.000000</td>\n",
       "      <td>14.014000</td>\n",
       "      <td>0</td>\n",
       "    </tr>\n",
       "    <tr>\n",
       "      <th>4</th>\n",
       "      <td>A T C Telecom Infrastructure Pvt. Ltd.</td>\n",
       "      <td>2009</td>\n",
       "      <td>24.18</td>\n",
       "      <td>0.41</td>\n",
       "      <td>5.54</td>\n",
       "      <td>7.396642</td>\n",
       "      <td>-185.000000</td>\n",
       "      <td>-9.400000</td>\n",
       "      <td>0</td>\n",
       "    </tr>\n",
       "    <tr>\n",
       "      <th>5</th>\n",
       "      <td>A V T Mccormick Ingredients Pvt. Ltd.</td>\n",
       "      <td>2009</td>\n",
       "      <td>19.72</td>\n",
       "      <td>1.34</td>\n",
       "      <td>1.57</td>\n",
       "      <td>3.830000</td>\n",
       "      <td>254.000000</td>\n",
       "      <td>5.920000</td>\n",
       "      <td>0</td>\n",
       "    </tr>\n",
       "  </tbody>\n",
       "</table>\n",
       "</div>"
      ],
      "text/plain": [
       "                             Company Name  Year  PBDIT Margin %  \\\n",
       "0            A B I-Showatech (India) Ltd.  2009           22.79   \n",
       "2           A L P Nishikawa Co. Pvt. Ltd.  2009            9.15   \n",
       "3                  A M C L Machinery Ltd.  2009           23.45   \n",
       "4  A T C Telecom Infrastructure Pvt. Ltd.  2009           24.18   \n",
       "5   A V T Mccormick Ingredients Pvt. Ltd.  2009           19.72   \n",
       "\n",
       "   Current ratio (times)  Debt to equity ratio (times)  \\\n",
       "0                   1.80                          0.17   \n",
       "2                   0.63                          1.05   \n",
       "3                   1.32                          0.54   \n",
       "4                   0.41                          5.54   \n",
       "5                   1.34                          1.57   \n",
       "\n",
       "   Interest cover (times)  Net working capital cycle (days)  \\\n",
       "0                8.710000                         36.000000   \n",
       "2                1.370000                         95.266034   \n",
       "3               57.812000                        149.000000   \n",
       "4                7.396642                       -185.000000   \n",
       "5                3.830000                        254.000000   \n",
       "\n",
       "   Return on total assets  Default  \n",
       "0               12.130000        0  \n",
       "2                2.940363        0  \n",
       "3               14.014000        0  \n",
       "4               -9.400000        0  \n",
       "5                5.920000        0  "
      ]
     },
     "execution_count": 101,
     "metadata": {},
     "output_type": "execute_result"
    }
   ],
   "source": [
    "df2.head()"
   ]
  },
  {
   "cell_type": "markdown",
   "metadata": {},
   "source": [
    "# LOGISTIC REGRESSION MODEL"
   ]
  },
  {
   "cell_type": "code",
   "execution_count": 102,
   "metadata": {},
   "outputs": [],
   "source": [
    "## X contains all independent variables right from PBDIT margin to Return on assets.\n",
    "## Y contains the dependent variable - default.\n",
    "X = df2.iloc[:, 2:8].values\n",
    "y = df2.iloc[:, -1].values"
   ]
  },
  {
   "cell_type": "code",
   "execution_count": 103,
   "metadata": {},
   "outputs": [
    {
     "name": "stdout",
     "output_type": "stream",
     "text": [
      "[[ 2.27900000e+01  1.80000000e+00  1.70000000e-01  8.71000000e+00\n",
      "   3.60000000e+01  1.21300000e+01]\n",
      " [ 9.15000000e+00  6.30000000e-01  1.05000000e+00  1.37000000e+00\n",
      "   9.52660342e+01  2.94036340e+00]\n",
      " [ 2.34500000e+01  1.32000000e+00  5.40000000e-01  5.78120000e+01\n",
      "   1.49000000e+02  1.40140000e+01]\n",
      " ...\n",
      " [ 5.46000000e+00  1.33000000e+00  1.20000000e-01  1.40400000e+01\n",
      "   5.90000000e+01  1.30900000e+01]\n",
      " [ 3.13100000e+01  2.83000000e+00  1.00000000e-02  5.78120000e+01\n",
      "  -1.85000000e+02  1.28600000e+01]\n",
      " [ 1.90700000e+01  4.20000000e-01  2.33000000e+00  5.75000000e-01\n",
      "  -7.40000000e+01 -1.74000000e+00]]\n"
     ]
    }
   ],
   "source": [
    "print(X)"
   ]
  },
  {
   "cell_type": "code",
   "execution_count": 104,
   "metadata": {},
   "outputs": [],
   "source": [
    "## Importing the train and test function to split 80% into training set and rest 20% into testing set.\n",
    "from sklearn.model_selection import train_test_split\n",
    "X_train, X_test, y_train, y_test = train_test_split(X, y, test_size = 0.2, random_state = 0)"
   ]
  },
  {
   "cell_type": "code",
   "execution_count": 105,
   "metadata": {},
   "outputs": [],
   "source": [
    "## Standardizing all the values so that no column dominates the other columns.\n",
    "from sklearn.preprocessing import StandardScaler\n",
    "sc = StandardScaler()\n",
    "\n",
    "X_train = sc.fit_transform(X_train)\n",
    "X_test = sc.transform(X_test)"
   ]
  },
  {
   "cell_type": "code",
   "execution_count": 106,
   "metadata": {},
   "outputs": [
    {
     "data": {
      "text/plain": [
       "LogisticRegression(random_state=0)"
      ]
     },
     "execution_count": 106,
     "metadata": {},
     "output_type": "execute_result"
    }
   ],
   "source": [
    "## Importing LogisticRegression class from sklearn library and fitting it on the training set.\n",
    "from sklearn.linear_model import LogisticRegression\n",
    "classifier = LogisticRegression(random_state = 0)\n",
    "classifier.fit(X_train, y_train)"
   ]
  },
  {
   "cell_type": "code",
   "execution_count": 107,
   "metadata": {},
   "outputs": [
    {
     "name": "stdout",
     "output_type": "stream",
     "text": [
      "[[0 0]\n",
      " [0 0]\n",
      " [0 0]\n",
      " ...\n",
      " [0 0]\n",
      " [0 0]\n",
      " [0 0]]\n"
     ]
    }
   ],
   "source": [
    "## Predicting the results by using the X_test data.\n",
    "y_pred = classifier.predict(X_test)\n",
    "print(np.concatenate((y_pred.reshape(len(y_pred),1), y_test.reshape(len(y_test),1)),1))"
   ]
  },
  {
   "cell_type": "code",
   "execution_count": 108,
   "metadata": {},
   "outputs": [
    {
     "name": "stdout",
     "output_type": "stream",
     "text": [
      "[[1600    5]\n",
      " [ 131    7]]\n"
     ]
    },
    {
     "data": {
      "text/plain": [
       "0.9219736087205966"
      ]
     },
     "execution_count": 108,
     "metadata": {},
     "output_type": "execute_result"
    }
   ],
   "source": [
    "## Importing the confusion matrix and accuracy score to check the accuracy of the predictions.\n",
    "from sklearn.metrics import confusion_matrix, accuracy_score\n",
    "cm = confusion_matrix(y_test, y_pred)\n",
    "print(cm)\n",
    "accuracy_score(y_test, y_pred)"
   ]
  },
  {
   "cell_type": "code",
   "execution_count": 109,
   "metadata": {},
   "outputs": [
    {
     "name": "stdout",
     "output_type": "stream",
     "text": [
      "[[ 0.01448085 -0.3014095   0.11824968 -1.05064753  0.34560822 -1.1194293 ]]\n"
     ]
    }
   ],
   "source": [
    "## Printing the coefficients of Logistic regression model.\n",
    "print(classifier.coef_)"
   ]
  },
  {
   "cell_type": "code",
   "execution_count": 110,
   "metadata": {},
   "outputs": [
    {
     "name": "stdout",
     "output_type": "stream",
     "text": [
      "Feature: 0, Score: 0.01448\n",
      "Feature: 1, Score: -0.30141\n",
      "Feature: 2, Score: 0.11825\n",
      "Feature: 3, Score: -1.05065\n",
      "Feature: 4, Score: 0.34561\n",
      "Feature: 5, Score: -1.11943\n"
     ]
    }
   ],
   "source": [
    "## Analysing the importance of each feature.\n",
    "importance = classifier.coef_[0]\n",
    "for i,v in enumerate(importance):\n",
    "\tprint('Feature: %0d, Score: %.5f' % (i,v))"
   ]
  },
  {
   "cell_type": "code",
   "execution_count": 111,
   "metadata": {},
   "outputs": [
    {
     "name": "stdout",
     "output_type": "stream",
     "text": [
      "Accuracy: 93.07 %\n",
      "Standard Deviation: 0.22 %\n"
     ]
    }
   ],
   "source": [
    "## Analysing the accuracy by using cross validation method.\n",
    "from sklearn.model_selection import cross_val_score\n",
    "accuracies = cross_val_score(estimator = classifier, X = X_train, y = y_train, cv = 10)\n",
    "print(\"Accuracy: {:.2f} %\".format(accuracies.mean()*100))\n",
    "print(\"Standard Deviation: {:.2f} %\".format(accuracies.std()*100))"
   ]
  },
  {
   "cell_type": "code",
   "execution_count": 112,
   "metadata": {},
   "outputs": [
    {
     "name": "stdout",
     "output_type": "stream",
     "text": [
      "Non zero weights :  6\n"
     ]
    }
   ],
   "source": [
    "## Analysing the accuracy by ridge and lasso regression to avoid overfitting of model.\n",
    "classifier2 = LogisticRegression(C=0.01,penalty='l1', solver='liblinear')\n",
    "classifier2.fit(X_train, y_train)\n",
    "y_pred2 = classifier2.predict(X_test)\n",
    "print(\"Non zero weights : \",np.count_nonzero(classifier.coef_))"
   ]
  },
  {
   "cell_type": "code",
   "execution_count": 113,
   "metadata": {},
   "outputs": [
    {
     "name": "stdout",
     "output_type": "stream",
     "text": [
      "[[1605    0]\n",
      " [ 138    0]]\n"
     ]
    },
    {
     "data": {
      "text/plain": [
       "0.9208261617900172"
      ]
     },
     "execution_count": 113,
     "metadata": {},
     "output_type": "execute_result"
    }
   ],
   "source": [
    "## Importing the confusion matrix and accuracy score.\n",
    "cm2 = confusion_matrix(y_test, y_pred2)\n",
    "print(cm2)\n",
    "accuracy_score(y_test, y_pred2)"
   ]
  },
  {
   "cell_type": "markdown",
   "metadata": {},
   "source": [
    "# KERNEL SVM MODEL"
   ]
  },
  {
   "cell_type": "code",
   "execution_count": 114,
   "metadata": {},
   "outputs": [],
   "source": [
    "## X contains all independent variables right from PBDIT margin to Return on assets.\n",
    "## Y contains the dependent variable - default.\n",
    "X = df2.iloc[:, 2:8].values\n",
    "y = df2.iloc[:, -1].values"
   ]
  },
  {
   "cell_type": "code",
   "execution_count": 115,
   "metadata": {},
   "outputs": [],
   "source": [
    "## Importing the train and test function to split 80% into training set and rest 20% into testing set.\n",
    "from sklearn.model_selection import train_test_split\n",
    "X_train, X_test, y_train, y_test = train_test_split(X, y, test_size = 0.2, random_state = 0)"
   ]
  },
  {
   "cell_type": "code",
   "execution_count": 116,
   "metadata": {},
   "outputs": [],
   "source": [
    "## Standardizing all the values so that no column dominates the other columns.\n",
    "from sklearn.preprocessing import StandardScaler\n",
    "sc = StandardScaler()\n",
    "\n",
    "X_train = sc.fit_transform(X_train)\n",
    "X_test = sc.transform(X_test)"
   ]
  },
  {
   "cell_type": "code",
   "execution_count": 117,
   "metadata": {},
   "outputs": [
    {
     "data": {
      "text/plain": [
       "SVC(random_state=0)"
      ]
     },
     "execution_count": 117,
     "metadata": {},
     "output_type": "execute_result"
    }
   ],
   "source": [
    "## Importing SVC class from sklearn library and fitting it on the training set.\n",
    "from sklearn.svm import SVC\n",
    "classifier = SVC(kernel = 'rbf', random_state = 0)\n",
    "classifier.fit(X_train, y_train)"
   ]
  },
  {
   "cell_type": "code",
   "execution_count": 118,
   "metadata": {},
   "outputs": [
    {
     "name": "stdout",
     "output_type": "stream",
     "text": [
      "[[0 0]\n",
      " [0 0]\n",
      " [0 0]\n",
      " ...\n",
      " [0 0]\n",
      " [0 0]\n",
      " [0 0]]\n"
     ]
    }
   ],
   "source": [
    "## Predicting the results by using the X_test data.\n",
    "y_pred = classifier.predict(X_test)\n",
    "print(np.concatenate((y_pred.reshape(len(y_pred),1), y_test.reshape(len(y_test),1)),1))"
   ]
  },
  {
   "cell_type": "code",
   "execution_count": 119,
   "metadata": {},
   "outputs": [
    {
     "name": "stdout",
     "output_type": "stream",
     "text": [
      "[[1600    5]\n",
      " [ 129    9]]\n"
     ]
    },
    {
     "data": {
      "text/plain": [
       "0.9231210556511761"
      ]
     },
     "execution_count": 119,
     "metadata": {},
     "output_type": "execute_result"
    }
   ],
   "source": [
    "## Importing the confusion matrix and accuracy score to check the accuracy of the predictions.\n",
    "from sklearn.metrics import confusion_matrix, accuracy_score\n",
    "cm = confusion_matrix(y_test, y_pred)\n",
    "print(cm)\n",
    "accuracy_score(y_test, y_pred)"
   ]
  },
  {
   "cell_type": "code",
   "execution_count": 120,
   "metadata": {},
   "outputs": [
    {
     "name": "stdout",
     "output_type": "stream",
     "text": [
      "[[ 3.00611836e+00 -1.46150930e+00  2.85139988e+00 -5.09001361e-01\n",
      "   2.60074382e+00 -9.13440444e-01]\n",
      " [-1.41788476e-01 -4.54258387e-01 -6.12109714e-01 -4.35278217e-01\n",
      "  -1.33782431e-01 -9.29781322e-02]\n",
      " [-4.50800998e-01 -3.51826091e-01  2.82602618e+00 -5.25512273e-01\n",
      "   4.02369574e-01 -8.39856380e-01]\n",
      " ...\n",
      " [-1.07105987e+00 -4.71330436e-01  2.97636533e+00 -1.64467053e-03\n",
      "   6.59118421e-01 -2.31705646e+00]\n",
      " [-1.14343581e+00 -1.46150930e+00 -4.93682013e-03 -1.64467053e-03\n",
      "  -3.67876968e-01 -2.31705646e+00]\n",
      " [-1.06808143e+00 -6.24978881e-01 -1.55383175e-01 -1.64467053e-03\n",
      "  -7.60551675e-01 -8.06743551e-01]]\n"
     ]
    }
   ],
   "source": [
    "## Printing the support vectors.\n",
    "print(classifier.support_vectors_)"
   ]
  },
  {
   "cell_type": "code",
   "execution_count": 121,
   "metadata": {},
   "outputs": [
    {
     "name": "stdout",
     "output_type": "stream",
     "text": [
      "Accuracy: 93.20 %\n",
      "Standard Deviation: 0.25 %\n"
     ]
    }
   ],
   "source": [
    "## Analysing the accuracy by using cross validation method.\n",
    "from sklearn.model_selection import cross_val_score\n",
    "accuracies = cross_val_score(estimator = classifier, X = X_train, y = y_train, cv = 10)\n",
    "print(\"Accuracy: {:.2f} %\".format(accuracies.mean()*100))\n",
    "print(\"Standard Deviation: {:.2f} %\".format(accuracies.std()*100))"
   ]
  },
  {
   "cell_type": "markdown",
   "metadata": {},
   "source": [
    "# NAIVE BAYES THEOREM MODEL"
   ]
  },
  {
   "cell_type": "code",
   "execution_count": 122,
   "metadata": {},
   "outputs": [],
   "source": [
    "## X contains all independent variables right from PBDIT margin to Return on assets.\n",
    "## Y contains the dependent variable - default.\n",
    "X = df2.iloc[:, 2:8].values\n",
    "y = df2.iloc[:, -1].values"
   ]
  },
  {
   "cell_type": "code",
   "execution_count": 123,
   "metadata": {},
   "outputs": [],
   "source": [
    "## Importing the train and test function to split 80% into training set and rest 20% into testing set.\n",
    "from sklearn.model_selection import train_test_split\n",
    "X_train, X_test, y_train, y_test = train_test_split(X, y, test_size = 0.2, random_state = 0)"
   ]
  },
  {
   "cell_type": "code",
   "execution_count": 124,
   "metadata": {},
   "outputs": [],
   "source": [
    "## Standardizing all the values so that no column dominates the other columns.\n",
    "from sklearn.preprocessing import StandardScaler\n",
    "sc = StandardScaler()\n",
    "\n",
    "X_train = sc.fit_transform(X_train)\n",
    "X_test = sc.transform(X_test)"
   ]
  },
  {
   "cell_type": "code",
   "execution_count": 125,
   "metadata": {},
   "outputs": [
    {
     "data": {
      "text/plain": [
       "GaussianNB()"
      ]
     },
     "execution_count": 125,
     "metadata": {},
     "output_type": "execute_result"
    }
   ],
   "source": [
    "## Importing GaussianNB class from sklearn library and fitting it on the training set.\n",
    "from sklearn.naive_bayes import GaussianNB\n",
    "classifier = GaussianNB()\n",
    "classifier.fit(X_train, y_train)"
   ]
  },
  {
   "cell_type": "code",
   "execution_count": 126,
   "metadata": {},
   "outputs": [
    {
     "name": "stdout",
     "output_type": "stream",
     "text": [
      "[[0 0]\n",
      " [0 0]\n",
      " [0 0]\n",
      " ...\n",
      " [0 0]\n",
      " [1 0]\n",
      " [0 0]]\n"
     ]
    }
   ],
   "source": [
    "## Predicting the results by using the X_test data.\n",
    "y_pred = classifier.predict(X_test)\n",
    "print(np.concatenate((y_pred.reshape(len(y_pred),1), y_test.reshape(len(y_test),1)),1))"
   ]
  },
  {
   "cell_type": "code",
   "execution_count": 127,
   "metadata": {},
   "outputs": [
    {
     "name": "stdout",
     "output_type": "stream",
     "text": [
      "[[1434  171]\n",
      " [  77   61]]\n"
     ]
    },
    {
     "data": {
      "text/plain": [
       "0.8577165806081469"
      ]
     },
     "execution_count": 127,
     "metadata": {},
     "output_type": "execute_result"
    }
   ],
   "source": [
    "## Importing the confusion matrix and accuracy score to check the accuracy of the predictions.\n",
    "from sklearn.metrics import confusion_matrix, accuracy_score\n",
    "cm = confusion_matrix(y_test, y_pred)\n",
    "print(cm)\n",
    "accuracy_score(y_test, y_pred)"
   ]
  },
  {
   "cell_type": "code",
   "execution_count": 128,
   "metadata": {},
   "outputs": [
    {
     "name": "stdout",
     "output_type": "stream",
     "text": [
      "Accuracy: 86.60 %\n",
      "Standard Deviation: 1.17 %\n"
     ]
    }
   ],
   "source": [
    "## Analysing the accuracy by using cross validation method.\n",
    "from sklearn.model_selection import cross_val_score\n",
    "accuracies = cross_val_score(estimator = classifier, X = X_train, y = y_train, cv = 10)\n",
    "print(\"Accuracy: {:.2f} %\".format(accuracies.mean()*100))\n",
    "print(\"Standard Deviation: {:.2f} %\".format(accuracies.std()*100))"
   ]
  },
  {
   "cell_type": "markdown",
   "metadata": {},
   "source": [
    "# DECISION TREE MODEL"
   ]
  },
  {
   "cell_type": "code",
   "execution_count": 129,
   "metadata": {},
   "outputs": [],
   "source": [
    "## X contains all independent variables right from PBDIT margin to Return on assets.\n",
    "## Y contains the dependent variable - default.\n",
    "X = df2.iloc[:, 2:8].values\n",
    "y = df2.iloc[:, -1].values"
   ]
  },
  {
   "cell_type": "code",
   "execution_count": 130,
   "metadata": {},
   "outputs": [],
   "source": [
    "## Importing the train and test function to split 80% into training set and rest 20% into testing set.\n",
    "from sklearn.model_selection import train_test_split\n",
    "X_train, X_test, y_train, y_test = train_test_split(X, y, test_size = 0.2, random_state = 0)"
   ]
  },
  {
   "cell_type": "code",
   "execution_count": 131,
   "metadata": {},
   "outputs": [],
   "source": [
    "## Standardizing all the values so that no column dominates the other columns.\n",
    "from sklearn.preprocessing import StandardScaler\n",
    "sc = StandardScaler()\n",
    "\n",
    "X_train = sc.fit_transform(X_train)\n",
    "X_test = sc.transform(X_test)"
   ]
  },
  {
   "cell_type": "code",
   "execution_count": 132,
   "metadata": {},
   "outputs": [
    {
     "data": {
      "text/plain": [
       "DecisionTreeClassifier(criterion='entropy', random_state=0)"
      ]
     },
     "execution_count": 132,
     "metadata": {},
     "output_type": "execute_result"
    }
   ],
   "source": [
    "## Importing DecisionTreeClassifier class from sklearn library and fitting it on the training set.\n",
    "from sklearn.tree import DecisionTreeClassifier\n",
    "classifier = DecisionTreeClassifier(criterion = 'entropy', random_state = 0)\n",
    "classifier.fit(X_train, y_train)"
   ]
  },
  {
   "cell_type": "code",
   "execution_count": 133,
   "metadata": {},
   "outputs": [
    {
     "name": "stdout",
     "output_type": "stream",
     "text": [
      "[[0 0]\n",
      " [0 0]\n",
      " [0 0]\n",
      " ...\n",
      " [0 0]\n",
      " [0 0]\n",
      " [0 0]]\n"
     ]
    }
   ],
   "source": [
    "## Predicting the results by using the X_test data.\n",
    "y_pred = classifier.predict(X_test)\n",
    "print(np.concatenate((y_pred.reshape(len(y_pred),1), y_test.reshape(len(y_test),1)),1))"
   ]
  },
  {
   "cell_type": "code",
   "execution_count": 134,
   "metadata": {},
   "outputs": [
    {
     "name": "stdout",
     "output_type": "stream",
     "text": [
      "[[1502  103]\n",
      " [ 104   34]]\n"
     ]
    },
    {
     "data": {
      "text/plain": [
       "0.8812392426850258"
      ]
     },
     "execution_count": 134,
     "metadata": {},
     "output_type": "execute_result"
    }
   ],
   "source": [
    "## Importing the confusion matrix and accuracy score to check the accuracy of the predictions.\n",
    "from sklearn.metrics import confusion_matrix, accuracy_score\n",
    "cm = confusion_matrix(y_test, y_pred)\n",
    "print(cm)\n",
    "accuracy_score(y_test, y_pred)"
   ]
  },
  {
   "cell_type": "code",
   "execution_count": 135,
   "metadata": {},
   "outputs": [
    {
     "name": "stdout",
     "output_type": "stream",
     "text": [
      "Accuracy: 88.65 %\n",
      "Standard Deviation: 0.76 %\n"
     ]
    }
   ],
   "source": [
    "## Analysing the accuracy by using cross validation method.\n",
    "from sklearn.model_selection import cross_val_score\n",
    "accuracies = cross_val_score(estimator = classifier, X = X_train, y = y_train, cv = 10)\n",
    "print(\"Accuracy: {:.2f} %\".format(accuracies.mean()*100))\n",
    "print(\"Standard Deviation: {:.2f} %\".format(accuracies.std()*100))"
   ]
  },
  {
   "cell_type": "markdown",
   "metadata": {},
   "source": [
    "# RANDOM FOREST MODEL"
   ]
  },
  {
   "cell_type": "code",
   "execution_count": 136,
   "metadata": {},
   "outputs": [],
   "source": [
    "## X contains all independent variables right from PBDIT margin to Return on assets.\n",
    "## Y contains the dependent variable - default.\n",
    "X = df2.iloc[:, 2:8].values\n",
    "y = df2.iloc[:, -1].values"
   ]
  },
  {
   "cell_type": "code",
   "execution_count": 137,
   "metadata": {},
   "outputs": [],
   "source": [
    "## Importing the train and test function to split 80% into training set and rest 20% into testing set.\n",
    "from sklearn.model_selection import train_test_split\n",
    "X_train, X_test, y_train, y_test = train_test_split(X, y, test_size = 0.2, random_state = 0)"
   ]
  },
  {
   "cell_type": "code",
   "execution_count": 138,
   "metadata": {},
   "outputs": [],
   "source": [
    "## Standardizing all the values so that no column dominates the other columns.\n",
    "from sklearn.preprocessing import StandardScaler\n",
    "sc = StandardScaler()\n",
    "\n",
    "X_train = sc.fit_transform(X_train)\n",
    "X_test = sc.transform(X_test)"
   ]
  },
  {
   "cell_type": "code",
   "execution_count": 139,
   "metadata": {},
   "outputs": [
    {
     "data": {
      "text/plain": [
       "RandomForestClassifier(criterion='entropy', n_estimators=6, random_state=0)"
      ]
     },
     "execution_count": 139,
     "metadata": {},
     "output_type": "execute_result"
    }
   ],
   "source": [
    "## Importing RandomForestCLassifier class from sklearn library and fitting it on the training set.\n",
    "from sklearn.ensemble import RandomForestClassifier\n",
    "classifier = RandomForestClassifier(n_estimators = 6, criterion = 'entropy', random_state = 0)\n",
    "classifier.fit(X_train, y_train)"
   ]
  },
  {
   "cell_type": "code",
   "execution_count": 140,
   "metadata": {},
   "outputs": [
    {
     "name": "stdout",
     "output_type": "stream",
     "text": [
      "[[0 0]\n",
      " [0 0]\n",
      " [0 0]\n",
      " ...\n",
      " [0 0]\n",
      " [0 0]\n",
      " [0 0]]\n"
     ]
    }
   ],
   "source": [
    "## Predicting the results by using the X_test data.\n",
    "y_pred = classifier.predict(X_test)\n",
    "print(np.concatenate((y_pred.reshape(len(y_pred),1), y_test.reshape(len(y_test),1)),1))"
   ]
  },
  {
   "cell_type": "code",
   "execution_count": 141,
   "metadata": {},
   "outputs": [
    {
     "name": "stdout",
     "output_type": "stream",
     "text": [
      "[[1588   17]\n",
      " [ 119   19]]\n"
     ]
    },
    {
     "data": {
      "text/plain": [
       "0.9219736087205966"
      ]
     },
     "execution_count": 141,
     "metadata": {},
     "output_type": "execute_result"
    }
   ],
   "source": [
    "## Importing the confusion matrix and accuracy score to check the accuracy of the predictions.\n",
    "from sklearn.metrics import confusion_matrix, accuracy_score\n",
    "cm = confusion_matrix(y_test, y_pred)\n",
    "print(cm)\n",
    "accuracy_score(y_test, y_pred)"
   ]
  },
  {
   "cell_type": "code",
   "execution_count": 142,
   "metadata": {},
   "outputs": [
    {
     "name": "stdout",
     "output_type": "stream",
     "text": [
      "Accuracy: 92.75 %\n",
      "Standard Deviation: 0.46 %\n"
     ]
    }
   ],
   "source": [
    "## Analysing the accuracy by using cross validation method.\n",
    "from sklearn.model_selection import cross_val_score\n",
    "accuracies = cross_val_score(estimator = classifier, X = X_train, y = y_train, cv = 10)\n",
    "print(\"Accuracy: {:.2f} %\".format(accuracies.mean()*100))\n",
    "print(\"Standard Deviation: {:.2f} %\".format(accuracies.std()*100))"
   ]
  },
  {
   "cell_type": "code",
   "execution_count": 143,
   "metadata": {},
   "outputs": [],
   "source": [
    "## Feature importance\n",
    "importances = classifier.feature_importances_"
   ]
  },
  {
   "cell_type": "code",
   "execution_count": 144,
   "metadata": {},
   "outputs": [
    {
     "name": "stdout",
     "output_type": "stream",
     "text": [
      "Feature ranking:\n",
      "1. feature 5 (0.220736)\n",
      "2. feature 4 (0.175734)\n",
      "3. feature 2 (0.164963)\n",
      "4. feature 0 (0.157855)\n",
      "5. feature 3 (0.142466)\n",
      "6. feature 1 (0.138247)\n"
     ]
    },
    {
     "data": {
      "image/png": "[encoded data removed]",
      "text/plain": [
       "<Figure size 432x288 with 1 Axes>"
      ]
     },
     "metadata": {
      "needs_background": "light"
     },
     "output_type": "display_data"
    }
   ],
   "source": [
    "## PLotting the histogram for all the features as per their importance.\n",
    "std = np.std([classifier.feature_importances_ for tree in classifier.estimators_],\n",
    "             axis=0)\n",
    "indices = np.argsort(importances)[::-1]\n",
    "\n",
    "# Print the feature ranking\n",
    "print(\"Feature ranking:\")\n",
    "\n",
    "for f in range(X.shape[1]):\n",
    "    print(\"%d. feature %d (%f)\" % (f + 1, indices[f], importances[indices[f]]))\n",
    "\n",
    "# Plot the impurity-based feature importances of the forest\n",
    "plt.figure()\n",
    "plt.title(\"Feature importances\")\n",
    "plt.bar(range(X.shape[1]), importances[indices],\n",
    "        color=\"r\", yerr=std[indices], align=\"center\")\n",
    "plt.xticks(range(X.shape[1]), indices)\n",
    "plt.xlim([-1, X.shape[1]])\n",
    "plt.show()"
   ]
  },
  {
   "cell_type": "markdown",
   "metadata": {},
   "source": [
    "# XG BOOST"
   ]
  },
  {
   "cell_type": "code",
   "execution_count": 145,
   "metadata": {},
   "outputs": [],
   "source": [
    "## X contains all independent variables right from PBDIT margin to Return on assets.\n",
    "## Y contains the dependent variable - default.\n",
    "X = df2.iloc[:, 2:8].values\n",
    "y = df2.iloc[:, -1].values"
   ]
  },
  {
   "cell_type": "code",
   "execution_count": 146,
   "metadata": {},
   "outputs": [],
   "source": [
    "## Importing the train and test function to split 80% into training set and rest 20% into testing set.\n",
    "from sklearn.model_selection import train_test_split\n",
    "X_train, X_test, y_train, y_test = train_test_split(X, y, test_size = 0.2, random_state = 0)"
   ]
  },
  {
   "cell_type": "code",
   "execution_count": 147,
   "metadata": {},
   "outputs": [
    {
     "data": {
      "text/plain": [
       "XGBClassifier(base_score=0.5, booster='gbtree', colsample_bylevel=1,\n",
       "              colsample_bynode=1, colsample_bytree=1, gamma=0, gpu_id=-1,\n",
       "              importance_type='gain', interaction_constraints='',\n",
       "              learning_rate=0.300000012, max_delta_step=0, max_depth=6,\n",
       "              min_child_weight=1, missing=nan, monotone_constraints='()',\n",
       "              n_estimators=100, n_jobs=0, num_parallel_tree=1, random_state=0,\n",
       "              reg_alpha=0, reg_lambda=1, scale_pos_weight=1, subsample=1,\n",
       "              tree_method='exact', validate_parameters=1, verbosity=None)"
      ]
     },
     "execution_count": 147,
     "metadata": {},
     "output_type": "execute_result"
    }
   ],
   "source": [
    "## Since xgboost doesnt need standardisation, directly Importing XBGCLassifier class from sklearn library and fitting it on the training set.\n",
    "from xgboost import XGBClassifier\n",
    "classifier = XGBClassifier()\n",
    "classifier.fit(X_train, y_train)"
   ]
  },
  {
   "cell_type": "code",
   "execution_count": 148,
   "metadata": {},
   "outputs": [
    {
     "name": "stdout",
     "output_type": "stream",
     "text": [
      "[[1579   26]\n",
      " [ 116   22]]\n"
     ]
    },
    {
     "data": {
      "text/plain": [
       "0.9185312679288583"
      ]
     },
     "execution_count": 148,
     "metadata": {},
     "output_type": "execute_result"
    }
   ],
   "source": [
    "## Predicting the results and Importing the confusion matrix and accuracy score to check the accuracy of the predictions.\n",
    "from sklearn.metrics import confusion_matrix, accuracy_score\n",
    "y_pred = classifier.predict(X_test)\n",
    "cm = confusion_matrix(y_test, y_pred)\n",
    "print(cm)\n",
    "accuracy_score(y_test, y_pred)"
   ]
  },
  {
   "cell_type": "code",
   "execution_count": 149,
   "metadata": {},
   "outputs": [
    {
     "name": "stdout",
     "output_type": "stream",
     "text": [
      "Accuracy: 92.65 %\n",
      "Standard Deviation: 0.48 %\n"
     ]
    }
   ],
   "source": [
    "## Analysing the accuracy by using cross validation method.\n",
    "from sklearn.model_selection import cross_val_score\n",
    "accuracies = cross_val_score(estimator = classifier, X = X_train, y = y_train, cv = 10)\n",
    "print(\"Accuracy: {:.2f} %\".format(accuracies.mean()*100))\n",
    "print(\"Standard Deviation: {:.2f} %\".format(accuracies.std()*100))"
   ]
  }
 ],
 "metadata": {
  "kernelspec": {
   "display_name": "Python 3",
   "language": "python",
   "name": "python3"
  },
  "language_info": {
   "codemirror_mode": {
    "name": "ipython",
    "version": 3
   },
   "file_extension": ".py",
   "mimetype": "text/x-python",
   "name": "python",
   "nbconvert_exporter": "python",
   "pygments_lexer": "ipython3",
   "version": "3.7.3"
  }
 },
 "nbformat": 4,
 "nbformat_minor": 2
}
